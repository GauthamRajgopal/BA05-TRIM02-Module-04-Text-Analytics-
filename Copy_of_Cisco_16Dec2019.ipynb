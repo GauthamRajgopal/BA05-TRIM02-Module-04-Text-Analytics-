{
  "nbformat": 4,
  "nbformat_minor": 0,
  "metadata": {
    "colab": {
      "name": "Copy of Cisco_16Dec2019.ipynb",
      "provenance": [],
      "collapsed_sections": [],
      "toc_visible": true,
      "include_colab_link": true
    },
    "kernelspec": {
      "name": "python3",
      "display_name": "Python 3"
    }
  },
  "cells": [
    {
      "cell_type": "markdown",
      "metadata": {
        "id": "view-in-github",
        "colab_type": "text"
      },
      "source": [
        "<a href=\"https://colab.research.google.com/github/mutturajiu/BA05-TRIM02-Module-04-Text-Analytics-/blob/master/Copy_of_Cisco_16Dec2019.ipynb\" target=\"_parent\"><img src=\"https://colab.research.google.com/assets/colab-badge.svg\" alt=\"Open In Colab\"/></a>"
      ]
    },
    {
      "cell_type": "markdown",
      "metadata": {
        "id": "Yo3GdKF-E2Tl",
        "colab_type": "text"
      },
      "source": [
        "Objective:\n",
        "1.Apply your financial and analytical knowledge to determine key trends and pattern in the data. What are your observations?\n",
        "\n",
        "2.How can Stark predict future Cashflow for each line items?\n",
        "\n",
        "3.If Stark has to make the prediction of \"Net Income\" for next 2 quarters, shall he use the line items-basedforecast or overall \"Net Income\" forecast? Why?\n",
        "\n",
        "4.How can Stark make a forecast for items that don't show a trend?\n",
        "\n",
        "5.Predict the \"Net Income\" for next 2 quarters? What business thought processes and/orstatisticaltechniques did you use? Why? How confident are you in your predictions? What would you advise to Stark?"
      ]
    },
    {
      "cell_type": "code",
      "metadata": {
        "id": "WmkPpxi2Er5W",
        "colab_type": "code",
        "colab": {}
      },
      "source": [
        "#Importing necessary libraries\n",
        "\n",
        "import pandas as pd\n",
        "import numpy as np\n",
        "import pandas_profiling\n",
        "import datetime as dt\n",
        "import warnings\n",
        "warnings.filterwarnings('ignore') \n",
        "\n",
        "#to plot within notebook\n",
        "import matplotlib.pyplot as plt\n",
        "%matplotlib inline\n",
        "\n",
        "#setting figure size\n",
        "from matplotlib.pylab import rcParams\n",
        "rcParams['figure.figsize'] = 20,10\n",
        "\n",
        "\n",
        "from IPython.core.interactiveshell import InteractiveShell\n",
        "InteractiveShell.ast_node_interactivity = \"all\""
      ],
      "execution_count": 0,
      "outputs": []
    },
    {
      "cell_type": "markdown",
      "metadata": {
        "id": "M7Mqm4-lFEdk",
        "colab_type": "text"
      },
      "source": [
        "# Dataset"
      ]
    },
    {
      "cell_type": "code",
      "metadata": {
        "id": "TYFPMhWPE6l8",
        "colab_type": "code",
        "colab": {}
      },
      "source": [
        "#loading the data\n",
        "df = pd.read_excel(\"cisco.xlsx\", sheet_name=\"Data\", skiprows=1, index_col=None)"
      ],
      "execution_count": 0,
      "outputs": []
    },
    {
      "cell_type": "code",
      "metadata": {
        "id": "QnLYIpdCFLVp",
        "colab_type": "code",
        "outputId": "fbc7dd90-4338-4393-d1e6-bbc29a68858c",
        "colab": {
          "base_uri": "https://localhost:8080/",
          "height": 292
        }
      },
      "source": [
        "df.head()"
      ],
      "execution_count": 3,
      "outputs": [
        {
          "output_type": "execute_result",
          "data": {
            "text/html": [
              "<div>\n",
              "<style scoped>\n",
              "    .dataframe tbody tr th:only-of-type {\n",
              "        vertical-align: middle;\n",
              "    }\n",
              "\n",
              "    .dataframe tbody tr th {\n",
              "        vertical-align: top;\n",
              "    }\n",
              "\n",
              "    .dataframe thead th {\n",
              "        text-align: right;\n",
              "    }\n",
              "</style>\n",
              "<table border=\"1\" class=\"dataframe\">\n",
              "  <thead>\n",
              "    <tr style=\"text-align: right;\">\n",
              "      <th></th>\n",
              "      <th>Unnamed: 0</th>\n",
              "      <th>Unnamed: 1</th>\n",
              "      <th>Qtr Ending</th>\n",
              "      <th>Qtr Ending.1</th>\n",
              "      <th>Qtr Ending.2</th>\n",
              "      <th>Qtr Ending.3</th>\n",
              "      <th>Qtr Ending.4</th>\n",
              "      <th>Qtr Ending.5</th>\n",
              "      <th>Qtr Ending.6</th>\n",
              "      <th>Qtr Ending.7</th>\n",
              "      <th>Qtr Ending.8</th>\n",
              "      <th>Qtr Ending.9</th>\n",
              "      <th>Qtr Ending.10</th>\n",
              "      <th>Qtr Ending.11</th>\n",
              "      <th>Qtr Ending.12</th>\n",
              "      <th>Qtr Ending.13</th>\n",
              "      <th>Qtr Ending.14</th>\n",
              "      <th>Qtr Ending.15</th>\n",
              "      <th>Qtr Ending.16</th>\n",
              "      <th>Qtr Ending.17</th>\n",
              "      <th>Qtr Ending.18</th>\n",
              "      <th>Qtr Ending.19</th>\n",
              "      <th>Qtr Ending.20</th>\n",
              "      <th>Qtr Ending.21</th>\n",
              "      <th>Qtr Ending.22</th>\n",
              "      <th>Qtr Ending.23</th>\n",
              "      <th>Qtr Ending.24</th>\n",
              "      <th>Qtr Ending.25</th>\n",
              "    </tr>\n",
              "  </thead>\n",
              "  <tbody>\n",
              "    <tr>\n",
              "      <th>0</th>\n",
              "      <td>NaN</td>\n",
              "      <td>NaN</td>\n",
              "      <td>2009-10-24 00:00:00</td>\n",
              "      <td>2010-01-23 00:00:00</td>\n",
              "      <td>2010-05-01 00:00:00</td>\n",
              "      <td>2010-07-31 00:00:00</td>\n",
              "      <td>2010-10-30 00:00:00</td>\n",
              "      <td>2011-01-29 00:00:00</td>\n",
              "      <td>2011-04-30 00:00:00</td>\n",
              "      <td>2011-07-30 00:00:00</td>\n",
              "      <td>2011-10-29 00:00:00</td>\n",
              "      <td>2012-01-28 00:00:00</td>\n",
              "      <td>2012-04-28 00:00:00</td>\n",
              "      <td>2012-07-28 00:00:00</td>\n",
              "      <td>2012-10-27 00:00:00</td>\n",
              "      <td>2013-01-26 00:00:00</td>\n",
              "      <td>2013-04-27 00:00:00</td>\n",
              "      <td>2013-07-27 00:00:00</td>\n",
              "      <td>2013-10-26 00:00:00</td>\n",
              "      <td>2014-01-25 00:00:00</td>\n",
              "      <td>2014-04-26 00:00:00</td>\n",
              "      <td>2014-07-26 00:00:00</td>\n",
              "      <td>2014-10-25 00:00:00</td>\n",
              "      <td>2015-01-24 00:00:00</td>\n",
              "      <td>2015-04-25 00:00:00</td>\n",
              "      <td>2015-07-25 00:00:00</td>\n",
              "      <td>2015-10-24 00:00:00</td>\n",
              "      <td>2016-01-23 00:00:00</td>\n",
              "    </tr>\n",
              "    <tr>\n",
              "      <th>1</th>\n",
              "      <td>NaN</td>\n",
              "      <td>NaN</td>\n",
              "      <td>NaN</td>\n",
              "      <td>NaN</td>\n",
              "      <td>NaN</td>\n",
              "      <td>NaN</td>\n",
              "      <td>NaN</td>\n",
              "      <td>NaN</td>\n",
              "      <td>NaN</td>\n",
              "      <td>NaN</td>\n",
              "      <td>NaN</td>\n",
              "      <td>NaN</td>\n",
              "      <td>NaN</td>\n",
              "      <td>NaN</td>\n",
              "      <td>NaN</td>\n",
              "      <td>NaN</td>\n",
              "      <td>NaN</td>\n",
              "      <td>NaN</td>\n",
              "      <td>NaN</td>\n",
              "      <td>NaN</td>\n",
              "      <td>NaN</td>\n",
              "      <td>NaN</td>\n",
              "      <td>NaN</td>\n",
              "      <td>NaN</td>\n",
              "      <td>NaN</td>\n",
              "      <td>NaN</td>\n",
              "      <td>NaN</td>\n",
              "      <td>NaN</td>\n",
              "    </tr>\n",
              "    <tr>\n",
              "      <th>2</th>\n",
              "      <td>NET SALES:</td>\n",
              "      <td>NaN</td>\n",
              "      <td>NaN</td>\n",
              "      <td>NaN</td>\n",
              "      <td>NaN</td>\n",
              "      <td>NaN</td>\n",
              "      <td>NaN</td>\n",
              "      <td>NaN</td>\n",
              "      <td>NaN</td>\n",
              "      <td>NaN</td>\n",
              "      <td>NaN</td>\n",
              "      <td>NaN</td>\n",
              "      <td>NaN</td>\n",
              "      <td>NaN</td>\n",
              "      <td>NaN</td>\n",
              "      <td>NaN</td>\n",
              "      <td>NaN</td>\n",
              "      <td>NaN</td>\n",
              "      <td>NaN</td>\n",
              "      <td>NaN</td>\n",
              "      <td>NaN</td>\n",
              "      <td>NaN</td>\n",
              "      <td>NaN</td>\n",
              "      <td>NaN</td>\n",
              "      <td>NaN</td>\n",
              "      <td>NaN</td>\n",
              "      <td>NaN</td>\n",
              "      <td>NaN</td>\n",
              "    </tr>\n",
              "    <tr>\n",
              "      <th>3</th>\n",
              "      <td>NaN</td>\n",
              "      <td>Product</td>\n",
              "      <td>7200</td>\n",
              "      <td>7976</td>\n",
              "      <td>8436</td>\n",
              "      <td>8808</td>\n",
              "      <td>8700</td>\n",
              "      <td>8236</td>\n",
              "      <td>8669</td>\n",
              "      <td>8921</td>\n",
              "      <td>8952</td>\n",
              "      <td>9118</td>\n",
              "      <td>9106</td>\n",
              "      <td>9150</td>\n",
              "      <td>9297</td>\n",
              "      <td>9437</td>\n",
              "      <td>9559</td>\n",
              "      <td>9736</td>\n",
              "      <td>9397</td>\n",
              "      <td>8423</td>\n",
              "      <td>8820</td>\n",
              "      <td>9532</td>\n",
              "      <td>9435</td>\n",
              "      <td>9078</td>\n",
              "      <td>9326</td>\n",
              "      <td>9911</td>\n",
              "      <td>9844</td>\n",
              "      <td>8983</td>\n",
              "    </tr>\n",
              "    <tr>\n",
              "      <th>4</th>\n",
              "      <td>NaN</td>\n",
              "      <td>Service</td>\n",
              "      <td>1821</td>\n",
              "      <td>1839</td>\n",
              "      <td>1932</td>\n",
              "      <td>2028</td>\n",
              "      <td>2050</td>\n",
              "      <td>2171</td>\n",
              "      <td>2197</td>\n",
              "      <td>2274</td>\n",
              "      <td>2304</td>\n",
              "      <td>2409</td>\n",
              "      <td>2482</td>\n",
              "      <td>2540</td>\n",
              "      <td>2579</td>\n",
              "      <td>2661</td>\n",
              "      <td>2657</td>\n",
              "      <td>2681</td>\n",
              "      <td>2688</td>\n",
              "      <td>2732</td>\n",
              "      <td>2725</td>\n",
              "      <td>2825</td>\n",
              "      <td>2810</td>\n",
              "      <td>2858</td>\n",
              "      <td>2811</td>\n",
              "      <td>2932</td>\n",
              "      <td>2838</td>\n",
              "      <td>2944</td>\n",
              "    </tr>\n",
              "  </tbody>\n",
              "</table>\n",
              "</div>"
            ],
            "text/plain": [
              "   Unnamed: 0 Unnamed: 1  ...        Qtr Ending.24        Qtr Ending.25\n",
              "0         NaN        NaN  ...  2015-10-24 00:00:00  2016-01-23 00:00:00\n",
              "1         NaN        NaN  ...                  NaN                  NaN\n",
              "2  NET SALES:        NaN  ...                  NaN                  NaN\n",
              "3         NaN    Product  ...                 9844                 8983\n",
              "4         NaN    Service  ...                 2838                 2944\n",
              "\n",
              "[5 rows x 28 columns]"
            ]
          },
          "metadata": {
            "tags": []
          },
          "execution_count": 3
        }
      ]
    },
    {
      "cell_type": "markdown",
      "metadata": {
        "id": "kS2MbOf_FwMN",
        "colab_type": "text"
      },
      "source": [
        "# Data Preprocessing"
      ]
    },
    {
      "cell_type": "code",
      "metadata": {
        "id": "rcIkvmy-FtS_",
        "colab_type": "code",
        "outputId": "36f8d5d7-19e5-4d6a-cf47-1cd1c074f98f",
        "colab": {
          "base_uri": "https://localhost:8080/",
          "height": 326
        }
      },
      "source": [
        "df.dropna(how=\"all\",inplace=True)\n",
        "df['Unnamed: 0'] = df['Unnamed: 0'].fillna(method='ffill')\n",
        "df['Unnamed: 1'] = df['Unnamed: 1'].fillna(df['Unnamed: 0']) \n",
        "df = df.T[1:]\n",
        "df.rename(columns = {'Unnamed: 1':'Qtr'}, inplace=True)\n",
        "df.columns = df.iloc[0]\n",
        "df = df.drop(['NET SALES:', 'COST OF SALES:', 'OPERATING EXPENSES:'], axis=1)\n",
        "df = df.reset_index(level = 0, drop=True)\n",
        "df = df.drop(df.index[0])\n",
        "columns = ['Qtr','NETSales_Product','NETSales_Service','Total_NETSales','COSTSales_Product','COSTSales_Service',\n",
        "           'Total_COSTSales','GROSS_MARGIN','OPEX_R_D','OPEX_Sales_Marketing','OPEX_General_Administrative','OPEX_Intag_Assets','OPEX_Restruct_OtherCharges',\n",
        "           'Total_OPEX','OPIN','Interest_Income','Interest_Expense','Other_Income','NetInterest_OtherIncome',\n",
        "           'INCOME_BeforeTax', 'PROVISION_for_Income_Taxes','NET_INCOME']\n",
        "df.columns = columns\n",
        "df.head()\n",
        "df.shape"
      ],
      "execution_count": 4,
      "outputs": [
        {
          "output_type": "execute_result",
          "data": {
            "text/html": [
              "<div>\n",
              "<style scoped>\n",
              "    .dataframe tbody tr th:only-of-type {\n",
              "        vertical-align: middle;\n",
              "    }\n",
              "\n",
              "    .dataframe tbody tr th {\n",
              "        vertical-align: top;\n",
              "    }\n",
              "\n",
              "    .dataframe thead th {\n",
              "        text-align: right;\n",
              "    }\n",
              "</style>\n",
              "<table border=\"1\" class=\"dataframe\">\n",
              "  <thead>\n",
              "    <tr style=\"text-align: right;\">\n",
              "      <th></th>\n",
              "      <th>Qtr</th>\n",
              "      <th>NETSales_Product</th>\n",
              "      <th>NETSales_Service</th>\n",
              "      <th>Total_NETSales</th>\n",
              "      <th>COSTSales_Product</th>\n",
              "      <th>COSTSales_Service</th>\n",
              "      <th>Total_COSTSales</th>\n",
              "      <th>GROSS_MARGIN</th>\n",
              "      <th>OPEX_R_D</th>\n",
              "      <th>OPEX_Sales_Marketing</th>\n",
              "      <th>OPEX_General_Administrative</th>\n",
              "      <th>OPEX_Intag_Assets</th>\n",
              "      <th>OPEX_Restruct_OtherCharges</th>\n",
              "      <th>Total_OPEX</th>\n",
              "      <th>OPIN</th>\n",
              "      <th>Interest_Income</th>\n",
              "      <th>Interest_Expense</th>\n",
              "      <th>Other_Income</th>\n",
              "      <th>NetInterest_OtherIncome</th>\n",
              "      <th>INCOME_BeforeTax</th>\n",
              "      <th>PROVISION_for_Income_Taxes</th>\n",
              "      <th>NET_INCOME</th>\n",
              "    </tr>\n",
              "  </thead>\n",
              "  <tbody>\n",
              "    <tr>\n",
              "      <th>1</th>\n",
              "      <td>2009-10-24</td>\n",
              "      <td>7200</td>\n",
              "      <td>1821</td>\n",
              "      <td>9021</td>\n",
              "      <td>2486</td>\n",
              "      <td>647</td>\n",
              "      <td>3133</td>\n",
              "      <td>5888</td>\n",
              "      <td>1224</td>\n",
              "      <td>2010</td>\n",
              "      <td>425</td>\n",
              "      <td>105</td>\n",
              "      <td>NaN</td>\n",
              "      <td>3764</td>\n",
              "      <td>2124</td>\n",
              "      <td>168</td>\n",
              "      <td>-114</td>\n",
              "      <td>61</td>\n",
              "      <td>115</td>\n",
              "      <td>2239</td>\n",
              "      <td>452</td>\n",
              "      <td>1787</td>\n",
              "    </tr>\n",
              "    <tr>\n",
              "      <th>2</th>\n",
              "      <td>2010-01-23</td>\n",
              "      <td>7976</td>\n",
              "      <td>1839</td>\n",
              "      <td>9815</td>\n",
              "      <td>2815</td>\n",
              "      <td>668</td>\n",
              "      <td>3483</td>\n",
              "      <td>6332</td>\n",
              "      <td>1247</td>\n",
              "      <td>2126</td>\n",
              "      <td>451</td>\n",
              "      <td>138</td>\n",
              "      <td>NaN</td>\n",
              "      <td>3962</td>\n",
              "      <td>2370</td>\n",
              "      <td>155</td>\n",
              "      <td>-158</td>\n",
              "      <td>-12</td>\n",
              "      <td>-15</td>\n",
              "      <td>2355</td>\n",
              "      <td>502</td>\n",
              "      <td>1853</td>\n",
              "    </tr>\n",
              "    <tr>\n",
              "      <th>3</th>\n",
              "      <td>2010-05-01</td>\n",
              "      <td>8436</td>\n",
              "      <td>1932</td>\n",
              "      <td>10368</td>\n",
              "      <td>3010</td>\n",
              "      <td>728</td>\n",
              "      <td>3738</td>\n",
              "      <td>6630</td>\n",
              "      <td>1411</td>\n",
              "      <td>2278</td>\n",
              "      <td>479</td>\n",
              "      <td>117</td>\n",
              "      <td>NaN</td>\n",
              "      <td>4285</td>\n",
              "      <td>2345</td>\n",
              "      <td>158</td>\n",
              "      <td>-182</td>\n",
              "      <td>82</td>\n",
              "      <td>58</td>\n",
              "      <td>2403</td>\n",
              "      <td>211</td>\n",
              "      <td>2192</td>\n",
              "    </tr>\n",
              "    <tr>\n",
              "      <th>4</th>\n",
              "      <td>2010-07-31</td>\n",
              "      <td>8808</td>\n",
              "      <td>2028</td>\n",
              "      <td>10836</td>\n",
              "      <td>3309</td>\n",
              "      <td>734</td>\n",
              "      <td>4043</td>\n",
              "      <td>6793</td>\n",
              "      <td>1391</td>\n",
              "      <td>2368</td>\n",
              "      <td>578</td>\n",
              "      <td>131</td>\n",
              "      <td>NaN</td>\n",
              "      <td>4468</td>\n",
              "      <td>2325</td>\n",
              "      <td>154</td>\n",
              "      <td>-169</td>\n",
              "      <td>108</td>\n",
              "      <td>93</td>\n",
              "      <td>2418</td>\n",
              "      <td>483</td>\n",
              "      <td>1935</td>\n",
              "    </tr>\n",
              "    <tr>\n",
              "      <th>5</th>\n",
              "      <td>2010-10-30</td>\n",
              "      <td>8700</td>\n",
              "      <td>2050</td>\n",
              "      <td>10750</td>\n",
              "      <td>3249</td>\n",
              "      <td>746</td>\n",
              "      <td>3995</td>\n",
              "      <td>6755</td>\n",
              "      <td>1431</td>\n",
              "      <td>2402</td>\n",
              "      <td>458</td>\n",
              "      <td>113</td>\n",
              "      <td>NaN</td>\n",
              "      <td>4404</td>\n",
              "      <td>2351</td>\n",
              "      <td>160</td>\n",
              "      <td>-166</td>\n",
              "      <td>80</td>\n",
              "      <td>74</td>\n",
              "      <td>2425</td>\n",
              "      <td>495</td>\n",
              "      <td>1930</td>\n",
              "    </tr>\n",
              "  </tbody>\n",
              "</table>\n",
              "</div>"
            ],
            "text/plain": [
              "         Qtr NETSales_Product  ... PROVISION_for_Income_Taxes NET_INCOME\n",
              "1 2009-10-24             7200  ...                        452       1787\n",
              "2 2010-01-23             7976  ...                        502       1853\n",
              "3 2010-05-01             8436  ...                        211       2192\n",
              "4 2010-07-31             8808  ...                        483       1935\n",
              "5 2010-10-30             8700  ...                        495       1930\n",
              "\n",
              "[5 rows x 22 columns]"
            ]
          },
          "metadata": {
            "tags": []
          },
          "execution_count": 4
        },
        {
          "output_type": "execute_result",
          "data": {
            "text/plain": [
              "(26, 22)"
            ]
          },
          "metadata": {
            "tags": []
          },
          "execution_count": 4
        }
      ]
    },
    {
      "cell_type": "code",
      "metadata": {
        "id": "VlB3Dda1FziD",
        "colab_type": "code",
        "outputId": "0ac0cc0d-e8d9-478e-b68a-5c83850a77eb",
        "colab": {
          "base_uri": "https://localhost:8080/",
          "height": 411
        }
      },
      "source": [
        "df['Qtr'] = df.index.values\n",
        "df.head()\n",
        "df.tail()"
      ],
      "execution_count": 5,
      "outputs": [
        {
          "output_type": "execute_result",
          "data": {
            "text/html": [
              "<div>\n",
              "<style scoped>\n",
              "    .dataframe tbody tr th:only-of-type {\n",
              "        vertical-align: middle;\n",
              "    }\n",
              "\n",
              "    .dataframe tbody tr th {\n",
              "        vertical-align: top;\n",
              "    }\n",
              "\n",
              "    .dataframe thead th {\n",
              "        text-align: right;\n",
              "    }\n",
              "</style>\n",
              "<table border=\"1\" class=\"dataframe\">\n",
              "  <thead>\n",
              "    <tr style=\"text-align: right;\">\n",
              "      <th></th>\n",
              "      <th>Qtr</th>\n",
              "      <th>NETSales_Product</th>\n",
              "      <th>NETSales_Service</th>\n",
              "      <th>Total_NETSales</th>\n",
              "      <th>COSTSales_Product</th>\n",
              "      <th>COSTSales_Service</th>\n",
              "      <th>Total_COSTSales</th>\n",
              "      <th>GROSS_MARGIN</th>\n",
              "      <th>OPEX_R_D</th>\n",
              "      <th>OPEX_Sales_Marketing</th>\n",
              "      <th>OPEX_General_Administrative</th>\n",
              "      <th>OPEX_Intag_Assets</th>\n",
              "      <th>OPEX_Restruct_OtherCharges</th>\n",
              "      <th>Total_OPEX</th>\n",
              "      <th>OPIN</th>\n",
              "      <th>Interest_Income</th>\n",
              "      <th>Interest_Expense</th>\n",
              "      <th>Other_Income</th>\n",
              "      <th>NetInterest_OtherIncome</th>\n",
              "      <th>INCOME_BeforeTax</th>\n",
              "      <th>PROVISION_for_Income_Taxes</th>\n",
              "      <th>NET_INCOME</th>\n",
              "    </tr>\n",
              "  </thead>\n",
              "  <tbody>\n",
              "    <tr>\n",
              "      <th>1</th>\n",
              "      <td>1</td>\n",
              "      <td>7200</td>\n",
              "      <td>1821</td>\n",
              "      <td>9021</td>\n",
              "      <td>2486</td>\n",
              "      <td>647</td>\n",
              "      <td>3133</td>\n",
              "      <td>5888</td>\n",
              "      <td>1224</td>\n",
              "      <td>2010</td>\n",
              "      <td>425</td>\n",
              "      <td>105</td>\n",
              "      <td>NaN</td>\n",
              "      <td>3764</td>\n",
              "      <td>2124</td>\n",
              "      <td>168</td>\n",
              "      <td>-114</td>\n",
              "      <td>61</td>\n",
              "      <td>115</td>\n",
              "      <td>2239</td>\n",
              "      <td>452</td>\n",
              "      <td>1787</td>\n",
              "    </tr>\n",
              "    <tr>\n",
              "      <th>2</th>\n",
              "      <td>2</td>\n",
              "      <td>7976</td>\n",
              "      <td>1839</td>\n",
              "      <td>9815</td>\n",
              "      <td>2815</td>\n",
              "      <td>668</td>\n",
              "      <td>3483</td>\n",
              "      <td>6332</td>\n",
              "      <td>1247</td>\n",
              "      <td>2126</td>\n",
              "      <td>451</td>\n",
              "      <td>138</td>\n",
              "      <td>NaN</td>\n",
              "      <td>3962</td>\n",
              "      <td>2370</td>\n",
              "      <td>155</td>\n",
              "      <td>-158</td>\n",
              "      <td>-12</td>\n",
              "      <td>-15</td>\n",
              "      <td>2355</td>\n",
              "      <td>502</td>\n",
              "      <td>1853</td>\n",
              "    </tr>\n",
              "    <tr>\n",
              "      <th>3</th>\n",
              "      <td>3</td>\n",
              "      <td>8436</td>\n",
              "      <td>1932</td>\n",
              "      <td>10368</td>\n",
              "      <td>3010</td>\n",
              "      <td>728</td>\n",
              "      <td>3738</td>\n",
              "      <td>6630</td>\n",
              "      <td>1411</td>\n",
              "      <td>2278</td>\n",
              "      <td>479</td>\n",
              "      <td>117</td>\n",
              "      <td>NaN</td>\n",
              "      <td>4285</td>\n",
              "      <td>2345</td>\n",
              "      <td>158</td>\n",
              "      <td>-182</td>\n",
              "      <td>82</td>\n",
              "      <td>58</td>\n",
              "      <td>2403</td>\n",
              "      <td>211</td>\n",
              "      <td>2192</td>\n",
              "    </tr>\n",
              "    <tr>\n",
              "      <th>4</th>\n",
              "      <td>4</td>\n",
              "      <td>8808</td>\n",
              "      <td>2028</td>\n",
              "      <td>10836</td>\n",
              "      <td>3309</td>\n",
              "      <td>734</td>\n",
              "      <td>4043</td>\n",
              "      <td>6793</td>\n",
              "      <td>1391</td>\n",
              "      <td>2368</td>\n",
              "      <td>578</td>\n",
              "      <td>131</td>\n",
              "      <td>NaN</td>\n",
              "      <td>4468</td>\n",
              "      <td>2325</td>\n",
              "      <td>154</td>\n",
              "      <td>-169</td>\n",
              "      <td>108</td>\n",
              "      <td>93</td>\n",
              "      <td>2418</td>\n",
              "      <td>483</td>\n",
              "      <td>1935</td>\n",
              "    </tr>\n",
              "    <tr>\n",
              "      <th>5</th>\n",
              "      <td>5</td>\n",
              "      <td>8700</td>\n",
              "      <td>2050</td>\n",
              "      <td>10750</td>\n",
              "      <td>3249</td>\n",
              "      <td>746</td>\n",
              "      <td>3995</td>\n",
              "      <td>6755</td>\n",
              "      <td>1431</td>\n",
              "      <td>2402</td>\n",
              "      <td>458</td>\n",
              "      <td>113</td>\n",
              "      <td>NaN</td>\n",
              "      <td>4404</td>\n",
              "      <td>2351</td>\n",
              "      <td>160</td>\n",
              "      <td>-166</td>\n",
              "      <td>80</td>\n",
              "      <td>74</td>\n",
              "      <td>2425</td>\n",
              "      <td>495</td>\n",
              "      <td>1930</td>\n",
              "    </tr>\n",
              "  </tbody>\n",
              "</table>\n",
              "</div>"
            ],
            "text/plain": [
              "   Qtr NETSales_Product  ... PROVISION_for_Income_Taxes NET_INCOME\n",
              "1    1             7200  ...                        452       1787\n",
              "2    2             7976  ...                        502       1853\n",
              "3    3             8436  ...                        211       2192\n",
              "4    4             8808  ...                        483       1935\n",
              "5    5             8700  ...                        495       1930\n",
              "\n",
              "[5 rows x 22 columns]"
            ]
          },
          "metadata": {
            "tags": []
          },
          "execution_count": 5
        },
        {
          "output_type": "execute_result",
          "data": {
            "text/html": [
              "<div>\n",
              "<style scoped>\n",
              "    .dataframe tbody tr th:only-of-type {\n",
              "        vertical-align: middle;\n",
              "    }\n",
              "\n",
              "    .dataframe tbody tr th {\n",
              "        vertical-align: top;\n",
              "    }\n",
              "\n",
              "    .dataframe thead th {\n",
              "        text-align: right;\n",
              "    }\n",
              "</style>\n",
              "<table border=\"1\" class=\"dataframe\">\n",
              "  <thead>\n",
              "    <tr style=\"text-align: right;\">\n",
              "      <th></th>\n",
              "      <th>Qtr</th>\n",
              "      <th>NETSales_Product</th>\n",
              "      <th>NETSales_Service</th>\n",
              "      <th>Total_NETSales</th>\n",
              "      <th>COSTSales_Product</th>\n",
              "      <th>COSTSales_Service</th>\n",
              "      <th>Total_COSTSales</th>\n",
              "      <th>GROSS_MARGIN</th>\n",
              "      <th>OPEX_R_D</th>\n",
              "      <th>OPEX_Sales_Marketing</th>\n",
              "      <th>OPEX_General_Administrative</th>\n",
              "      <th>OPEX_Intag_Assets</th>\n",
              "      <th>OPEX_Restruct_OtherCharges</th>\n",
              "      <th>Total_OPEX</th>\n",
              "      <th>OPIN</th>\n",
              "      <th>Interest_Income</th>\n",
              "      <th>Interest_Expense</th>\n",
              "      <th>Other_Income</th>\n",
              "      <th>NetInterest_OtherIncome</th>\n",
              "      <th>INCOME_BeforeTax</th>\n",
              "      <th>PROVISION_for_Income_Taxes</th>\n",
              "      <th>NET_INCOME</th>\n",
              "    </tr>\n",
              "  </thead>\n",
              "  <tbody>\n",
              "    <tr>\n",
              "      <th>22</th>\n",
              "      <td>22</td>\n",
              "      <td>9078</td>\n",
              "      <td>2858</td>\n",
              "      <td>11936</td>\n",
              "      <td>3806</td>\n",
              "      <td>1040</td>\n",
              "      <td>4846</td>\n",
              "      <td>7090</td>\n",
              "      <td>1529</td>\n",
              "      <td>2308</td>\n",
              "      <td>490</td>\n",
              "      <td>72</td>\n",
              "      <td>69</td>\n",
              "      <td>4468</td>\n",
              "      <td>2622</td>\n",
              "      <td>189</td>\n",
              "      <td>-139</td>\n",
              "      <td>201</td>\n",
              "      <td>251</td>\n",
              "      <td>2873</td>\n",
              "      <td>476</td>\n",
              "      <td>2397</td>\n",
              "    </tr>\n",
              "    <tr>\n",
              "      <th>23</th>\n",
              "      <td>23</td>\n",
              "      <td>9326</td>\n",
              "      <td>2811</td>\n",
              "      <td>12137</td>\n",
              "      <td>3584</td>\n",
              "      <td>1028</td>\n",
              "      <td>4612</td>\n",
              "      <td>7525</td>\n",
              "      <td>1547</td>\n",
              "      <td>2449</td>\n",
              "      <td>510</td>\n",
              "      <td>70</td>\n",
              "      <td>24</td>\n",
              "      <td>4600</td>\n",
              "      <td>2925</td>\n",
              "      <td>190</td>\n",
              "      <td>-139</td>\n",
              "      <td>59</td>\n",
              "      <td>110</td>\n",
              "      <td>3035</td>\n",
              "      <td>598</td>\n",
              "      <td>2437</td>\n",
              "    </tr>\n",
              "    <tr>\n",
              "      <th>24</th>\n",
              "      <td>24</td>\n",
              "      <td>9911</td>\n",
              "      <td>2932</td>\n",
              "      <td>12843</td>\n",
              "      <td>4068</td>\n",
              "      <td>1042</td>\n",
              "      <td>5110</td>\n",
              "      <td>7733</td>\n",
              "      <td>1548</td>\n",
              "      <td>2549</td>\n",
              "      <td>536</td>\n",
              "      <td>146</td>\n",
              "      <td>73</td>\n",
              "      <td>4852</td>\n",
              "      <td>2881</td>\n",
              "      <td>211</td>\n",
              "      <td>-149</td>\n",
              "      <td>-10</td>\n",
              "      <td>52</td>\n",
              "      <td>2933</td>\n",
              "      <td>614</td>\n",
              "      <td>2319</td>\n",
              "    </tr>\n",
              "    <tr>\n",
              "      <th>25</th>\n",
              "      <td>25</td>\n",
              "      <td>9844</td>\n",
              "      <td>2838</td>\n",
              "      <td>12682</td>\n",
              "      <td>3853</td>\n",
              "      <td>997</td>\n",
              "      <td>4850</td>\n",
              "      <td>7832</td>\n",
              "      <td>1560</td>\n",
              "      <td>2443</td>\n",
              "      <td>539</td>\n",
              "      <td>69</td>\n",
              "      <td>142</td>\n",
              "      <td>4753</td>\n",
              "      <td>3079</td>\n",
              "      <td>225</td>\n",
              "      <td>-159</td>\n",
              "      <td>-8</td>\n",
              "      <td>58</td>\n",
              "      <td>3137</td>\n",
              "      <td>707</td>\n",
              "      <td>2430</td>\n",
              "    </tr>\n",
              "    <tr>\n",
              "      <th>26</th>\n",
              "      <td>26</td>\n",
              "      <td>8983</td>\n",
              "      <td>2944</td>\n",
              "      <td>11927</td>\n",
              "      <td>3480</td>\n",
              "      <td>1015</td>\n",
              "      <td>4495</td>\n",
              "      <td>7432</td>\n",
              "      <td>1509</td>\n",
              "      <td>2286</td>\n",
              "      <td>176</td>\n",
              "      <td>71</td>\n",
              "      <td>96</td>\n",
              "      <td>4138</td>\n",
              "      <td>3294</td>\n",
              "      <td>237</td>\n",
              "      <td>-162</td>\n",
              "      <td>-63</td>\n",
              "      <td>12</td>\n",
              "      <td>3306</td>\n",
              "      <td>159</td>\n",
              "      <td>3147</td>\n",
              "    </tr>\n",
              "  </tbody>\n",
              "</table>\n",
              "</div>"
            ],
            "text/plain": [
              "    Qtr NETSales_Product  ... PROVISION_for_Income_Taxes NET_INCOME\n",
              "22   22             9078  ...                        476       2397\n",
              "23   23             9326  ...                        598       2437\n",
              "24   24             9911  ...                        614       2319\n",
              "25   25             9844  ...                        707       2430\n",
              "26   26             8983  ...                        159       3147\n",
              "\n",
              "[5 rows x 22 columns]"
            ]
          },
          "metadata": {
            "tags": []
          },
          "execution_count": 5
        }
      ]
    },
    {
      "cell_type": "code",
      "metadata": {
        "id": "z2XZgeb0LBpo",
        "colab_type": "code",
        "outputId": "0942d560-6528-42ce-f955-32f8c74a7371",
        "colab": {
          "base_uri": "https://localhost:8080/",
          "height": 595
        }
      },
      "source": [
        "df.columns\n",
        "df.info()"
      ],
      "execution_count": 6,
      "outputs": [
        {
          "output_type": "execute_result",
          "data": {
            "text/plain": [
              "Index(['Qtr', 'NETSales_Product', 'NETSales_Service', 'Total_NETSales',\n",
              "       'COSTSales_Product', 'COSTSales_Service', 'Total_COSTSales',\n",
              "       'GROSS_MARGIN', 'OPEX_R_D', 'OPEX_Sales_Marketing',\n",
              "       'OPEX_General_Administrative', 'OPEX_Intag_Assets',\n",
              "       'OPEX_Restruct_OtherCharges', 'Total_OPEX', 'OPIN', 'Interest_Income',\n",
              "       'Interest_Expense', 'Other_Income', 'NetInterest_OtherIncome',\n",
              "       'INCOME_BeforeTax', 'PROVISION_for_Income_Taxes', 'NET_INCOME'],\n",
              "      dtype='object')"
            ]
          },
          "metadata": {
            "tags": []
          },
          "execution_count": 6
        },
        {
          "output_type": "stream",
          "text": [
            "<class 'pandas.core.frame.DataFrame'>\n",
            "Int64Index: 26 entries, 1 to 26\n",
            "Data columns (total 22 columns):\n",
            "Qtr                            26 non-null int64\n",
            "NETSales_Product               26 non-null object\n",
            "NETSales_Service               26 non-null object\n",
            "Total_NETSales                 26 non-null object\n",
            "COSTSales_Product              26 non-null object\n",
            "COSTSales_Service              26 non-null object\n",
            "Total_COSTSales                26 non-null object\n",
            "GROSS_MARGIN                   26 non-null object\n",
            "OPEX_R_D                       26 non-null object\n",
            "OPEX_Sales_Marketing           26 non-null object\n",
            "OPEX_General_Administrative    26 non-null object\n",
            "OPEX_Intag_Assets              26 non-null object\n",
            "OPEX_Restruct_OtherCharges     20 non-null object\n",
            "Total_OPEX                     26 non-null object\n",
            "OPIN                           26 non-null object\n",
            "Interest_Income                26 non-null object\n",
            "Interest_Expense               26 non-null object\n",
            "Other_Income                   26 non-null object\n",
            "NetInterest_OtherIncome        26 non-null object\n",
            "INCOME_BeforeTax               26 non-null object\n",
            "PROVISION_for_Income_Taxes     26 non-null object\n",
            "NET_INCOME                     26 non-null object\n",
            "dtypes: int64(1), object(21)\n",
            "memory usage: 4.7+ KB\n"
          ],
          "name": "stdout"
        }
      ]
    },
    {
      "cell_type": "code",
      "metadata": {
        "id": "P1857VyNF9bh",
        "colab_type": "code",
        "outputId": "0b77c460-7669-4ac0-deea-521c887dab9c",
        "colab": {
          "base_uri": "https://localhost:8080/",
          "height": 756
        }
      },
      "source": [
        "df.describe()\n",
        "df.info()"
      ],
      "execution_count": 7,
      "outputs": [
        {
          "output_type": "execute_result",
          "data": {
            "text/html": [
              "<div>\n",
              "<style scoped>\n",
              "    .dataframe tbody tr th:only-of-type {\n",
              "        vertical-align: middle;\n",
              "    }\n",
              "\n",
              "    .dataframe tbody tr th {\n",
              "        vertical-align: top;\n",
              "    }\n",
              "\n",
              "    .dataframe thead th {\n",
              "        text-align: right;\n",
              "    }\n",
              "</style>\n",
              "<table border=\"1\" class=\"dataframe\">\n",
              "  <thead>\n",
              "    <tr style=\"text-align: right;\">\n",
              "      <th></th>\n",
              "      <th>Qtr</th>\n",
              "    </tr>\n",
              "  </thead>\n",
              "  <tbody>\n",
              "    <tr>\n",
              "      <th>count</th>\n",
              "      <td>26.000000</td>\n",
              "    </tr>\n",
              "    <tr>\n",
              "      <th>mean</th>\n",
              "      <td>13.500000</td>\n",
              "    </tr>\n",
              "    <tr>\n",
              "      <th>std</th>\n",
              "      <td>7.648529</td>\n",
              "    </tr>\n",
              "    <tr>\n",
              "      <th>min</th>\n",
              "      <td>1.000000</td>\n",
              "    </tr>\n",
              "    <tr>\n",
              "      <th>25%</th>\n",
              "      <td>7.250000</td>\n",
              "    </tr>\n",
              "    <tr>\n",
              "      <th>50%</th>\n",
              "      <td>13.500000</td>\n",
              "    </tr>\n",
              "    <tr>\n",
              "      <th>75%</th>\n",
              "      <td>19.750000</td>\n",
              "    </tr>\n",
              "    <tr>\n",
              "      <th>max</th>\n",
              "      <td>26.000000</td>\n",
              "    </tr>\n",
              "  </tbody>\n",
              "</table>\n",
              "</div>"
            ],
            "text/plain": [
              "             Qtr\n",
              "count  26.000000\n",
              "mean   13.500000\n",
              "std     7.648529\n",
              "min     1.000000\n",
              "25%     7.250000\n",
              "50%    13.500000\n",
              "75%    19.750000\n",
              "max    26.000000"
            ]
          },
          "metadata": {
            "tags": []
          },
          "execution_count": 7
        },
        {
          "output_type": "stream",
          "text": [
            "<class 'pandas.core.frame.DataFrame'>\n",
            "Int64Index: 26 entries, 1 to 26\n",
            "Data columns (total 22 columns):\n",
            "Qtr                            26 non-null int64\n",
            "NETSales_Product               26 non-null object\n",
            "NETSales_Service               26 non-null object\n",
            "Total_NETSales                 26 non-null object\n",
            "COSTSales_Product              26 non-null object\n",
            "COSTSales_Service              26 non-null object\n",
            "Total_COSTSales                26 non-null object\n",
            "GROSS_MARGIN                   26 non-null object\n",
            "OPEX_R_D                       26 non-null object\n",
            "OPEX_Sales_Marketing           26 non-null object\n",
            "OPEX_General_Administrative    26 non-null object\n",
            "OPEX_Intag_Assets              26 non-null object\n",
            "OPEX_Restruct_OtherCharges     20 non-null object\n",
            "Total_OPEX                     26 non-null object\n",
            "OPIN                           26 non-null object\n",
            "Interest_Income                26 non-null object\n",
            "Interest_Expense               26 non-null object\n",
            "Other_Income                   26 non-null object\n",
            "NetInterest_OtherIncome        26 non-null object\n",
            "INCOME_BeforeTax               26 non-null object\n",
            "PROVISION_for_Income_Taxes     26 non-null object\n",
            "NET_INCOME                     26 non-null object\n",
            "dtypes: int64(1), object(21)\n",
            "memory usage: 4.7+ KB\n"
          ],
          "name": "stdout"
        }
      ]
    },
    {
      "cell_type": "code",
      "metadata": {
        "id": "25kyWWZPIo9o",
        "colab_type": "code",
        "colab": {}
      },
      "source": [
        "eda_report = pandas_profiling.ProfileReport(df)\n",
        "eda_report.to_file('Customer.html')"
      ],
      "execution_count": 0,
      "outputs": []
    },
    {
      "cell_type": "markdown",
      "metadata": {
        "id": "AIAQZf8rKah3",
        "colab_type": "text"
      },
      "source": [
        "# Splitting the data into 3 sub data sets\n",
        "Dataset 1 - Individual Items (Without Totals),\n",
        "Dataset 2 - Item Sub Totals,\n",
        "Dataset 3 - Net Income"
      ]
    },
    {
      "cell_type": "markdown",
      "metadata": {
        "id": "q4hLdRAhLUQd",
        "colab_type": "text"
      },
      "source": [
        "# dataset 1"
      ]
    },
    {
      "cell_type": "code",
      "metadata": {
        "id": "NAAzKlhhKHh2",
        "colab_type": "code",
        "outputId": "de3ba074-04d7-48d0-9d23-63b7fadbc22e",
        "colab": {
          "base_uri": "https://localhost:8080/",
          "height": 241
        }
      },
      "source": [
        "df_items = df.loc[:,('Qtr','NETSales_Product', 'NETSales_Service', 'COSTSales_Product', 'COSTSales_Service', \n",
        "                     'OPEX_R_D', 'OPEX_Sales_Marketing', 'OPEX_General_Administrative', 'OPEX_Intag_Assets', 'OPEX_Restruct_OtherCharges',\n",
        "                    'Interest_Income','Interest_Expense','Other_Income','PROVISION_for_Income_Taxes','NET_INCOME')]\n",
        "df_items.head()\n",
        "df_items.shape"
      ],
      "execution_count": 9,
      "outputs": [
        {
          "output_type": "execute_result",
          "data": {
            "text/html": [
              "<div>\n",
              "<style scoped>\n",
              "    .dataframe tbody tr th:only-of-type {\n",
              "        vertical-align: middle;\n",
              "    }\n",
              "\n",
              "    .dataframe tbody tr th {\n",
              "        vertical-align: top;\n",
              "    }\n",
              "\n",
              "    .dataframe thead th {\n",
              "        text-align: right;\n",
              "    }\n",
              "</style>\n",
              "<table border=\"1\" class=\"dataframe\">\n",
              "  <thead>\n",
              "    <tr style=\"text-align: right;\">\n",
              "      <th></th>\n",
              "      <th>Qtr</th>\n",
              "      <th>NETSales_Product</th>\n",
              "      <th>NETSales_Service</th>\n",
              "      <th>COSTSales_Product</th>\n",
              "      <th>COSTSales_Service</th>\n",
              "      <th>OPEX_R_D</th>\n",
              "      <th>OPEX_Sales_Marketing</th>\n",
              "      <th>OPEX_General_Administrative</th>\n",
              "      <th>OPEX_Intag_Assets</th>\n",
              "      <th>OPEX_Restruct_OtherCharges</th>\n",
              "      <th>Interest_Income</th>\n",
              "      <th>Interest_Expense</th>\n",
              "      <th>Other_Income</th>\n",
              "      <th>PROVISION_for_Income_Taxes</th>\n",
              "      <th>NET_INCOME</th>\n",
              "    </tr>\n",
              "  </thead>\n",
              "  <tbody>\n",
              "    <tr>\n",
              "      <th>1</th>\n",
              "      <td>1</td>\n",
              "      <td>7200</td>\n",
              "      <td>1821</td>\n",
              "      <td>2486</td>\n",
              "      <td>647</td>\n",
              "      <td>1224</td>\n",
              "      <td>2010</td>\n",
              "      <td>425</td>\n",
              "      <td>105</td>\n",
              "      <td>NaN</td>\n",
              "      <td>168</td>\n",
              "      <td>-114</td>\n",
              "      <td>61</td>\n",
              "      <td>452</td>\n",
              "      <td>1787</td>\n",
              "    </tr>\n",
              "    <tr>\n",
              "      <th>2</th>\n",
              "      <td>2</td>\n",
              "      <td>7976</td>\n",
              "      <td>1839</td>\n",
              "      <td>2815</td>\n",
              "      <td>668</td>\n",
              "      <td>1247</td>\n",
              "      <td>2126</td>\n",
              "      <td>451</td>\n",
              "      <td>138</td>\n",
              "      <td>NaN</td>\n",
              "      <td>155</td>\n",
              "      <td>-158</td>\n",
              "      <td>-12</td>\n",
              "      <td>502</td>\n",
              "      <td>1853</td>\n",
              "    </tr>\n",
              "    <tr>\n",
              "      <th>3</th>\n",
              "      <td>3</td>\n",
              "      <td>8436</td>\n",
              "      <td>1932</td>\n",
              "      <td>3010</td>\n",
              "      <td>728</td>\n",
              "      <td>1411</td>\n",
              "      <td>2278</td>\n",
              "      <td>479</td>\n",
              "      <td>117</td>\n",
              "      <td>NaN</td>\n",
              "      <td>158</td>\n",
              "      <td>-182</td>\n",
              "      <td>82</td>\n",
              "      <td>211</td>\n",
              "      <td>2192</td>\n",
              "    </tr>\n",
              "    <tr>\n",
              "      <th>4</th>\n",
              "      <td>4</td>\n",
              "      <td>8808</td>\n",
              "      <td>2028</td>\n",
              "      <td>3309</td>\n",
              "      <td>734</td>\n",
              "      <td>1391</td>\n",
              "      <td>2368</td>\n",
              "      <td>578</td>\n",
              "      <td>131</td>\n",
              "      <td>NaN</td>\n",
              "      <td>154</td>\n",
              "      <td>-169</td>\n",
              "      <td>108</td>\n",
              "      <td>483</td>\n",
              "      <td>1935</td>\n",
              "    </tr>\n",
              "    <tr>\n",
              "      <th>5</th>\n",
              "      <td>5</td>\n",
              "      <td>8700</td>\n",
              "      <td>2050</td>\n",
              "      <td>3249</td>\n",
              "      <td>746</td>\n",
              "      <td>1431</td>\n",
              "      <td>2402</td>\n",
              "      <td>458</td>\n",
              "      <td>113</td>\n",
              "      <td>NaN</td>\n",
              "      <td>160</td>\n",
              "      <td>-166</td>\n",
              "      <td>80</td>\n",
              "      <td>495</td>\n",
              "      <td>1930</td>\n",
              "    </tr>\n",
              "  </tbody>\n",
              "</table>\n",
              "</div>"
            ],
            "text/plain": [
              "   Qtr NETSales_Product  ... PROVISION_for_Income_Taxes NET_INCOME\n",
              "1    1             7200  ...                        452       1787\n",
              "2    2             7976  ...                        502       1853\n",
              "3    3             8436  ...                        211       2192\n",
              "4    4             8808  ...                        483       1935\n",
              "5    5             8700  ...                        495       1930\n",
              "\n",
              "[5 rows x 15 columns]"
            ]
          },
          "metadata": {
            "tags": []
          },
          "execution_count": 9
        },
        {
          "output_type": "execute_result",
          "data": {
            "text/plain": [
              "(26, 15)"
            ]
          },
          "metadata": {
            "tags": []
          },
          "execution_count": 9
        }
      ]
    },
    {
      "cell_type": "markdown",
      "metadata": {
        "id": "_td915WoLXHP",
        "colab_type": "text"
      },
      "source": [
        "# dataset2"
      ]
    },
    {
      "cell_type": "code",
      "metadata": {
        "id": "OVAssl8WLRll",
        "colab_type": "code",
        "outputId": "b4743614-ebb7-47b2-da64-453d6bc5fecc",
        "colab": {
          "base_uri": "https://localhost:8080/",
          "height": 241
        }
      },
      "source": [
        "df_item_totals = df.loc[:,('Qtr','Total_NETSales', 'Total_COSTSales', 'GROSS_MARGIN','Total_OPEX', 'OPIN', 'NetInterest_OtherIncome','INCOME_BeforeTax','PROVISION_for_Income_Taxes', 'NET_INCOME')]\n",
        "df_item_totals.head()\n",
        "df_item_totals.shape"
      ],
      "execution_count": 10,
      "outputs": [
        {
          "output_type": "execute_result",
          "data": {
            "text/html": [
              "<div>\n",
              "<style scoped>\n",
              "    .dataframe tbody tr th:only-of-type {\n",
              "        vertical-align: middle;\n",
              "    }\n",
              "\n",
              "    .dataframe tbody tr th {\n",
              "        vertical-align: top;\n",
              "    }\n",
              "\n",
              "    .dataframe thead th {\n",
              "        text-align: right;\n",
              "    }\n",
              "</style>\n",
              "<table border=\"1\" class=\"dataframe\">\n",
              "  <thead>\n",
              "    <tr style=\"text-align: right;\">\n",
              "      <th></th>\n",
              "      <th>Qtr</th>\n",
              "      <th>Total_NETSales</th>\n",
              "      <th>Total_COSTSales</th>\n",
              "      <th>GROSS_MARGIN</th>\n",
              "      <th>Total_OPEX</th>\n",
              "      <th>OPIN</th>\n",
              "      <th>NetInterest_OtherIncome</th>\n",
              "      <th>INCOME_BeforeTax</th>\n",
              "      <th>PROVISION_for_Income_Taxes</th>\n",
              "      <th>NET_INCOME</th>\n",
              "    </tr>\n",
              "  </thead>\n",
              "  <tbody>\n",
              "    <tr>\n",
              "      <th>1</th>\n",
              "      <td>1</td>\n",
              "      <td>9021</td>\n",
              "      <td>3133</td>\n",
              "      <td>5888</td>\n",
              "      <td>3764</td>\n",
              "      <td>2124</td>\n",
              "      <td>115</td>\n",
              "      <td>2239</td>\n",
              "      <td>452</td>\n",
              "      <td>1787</td>\n",
              "    </tr>\n",
              "    <tr>\n",
              "      <th>2</th>\n",
              "      <td>2</td>\n",
              "      <td>9815</td>\n",
              "      <td>3483</td>\n",
              "      <td>6332</td>\n",
              "      <td>3962</td>\n",
              "      <td>2370</td>\n",
              "      <td>-15</td>\n",
              "      <td>2355</td>\n",
              "      <td>502</td>\n",
              "      <td>1853</td>\n",
              "    </tr>\n",
              "    <tr>\n",
              "      <th>3</th>\n",
              "      <td>3</td>\n",
              "      <td>10368</td>\n",
              "      <td>3738</td>\n",
              "      <td>6630</td>\n",
              "      <td>4285</td>\n",
              "      <td>2345</td>\n",
              "      <td>58</td>\n",
              "      <td>2403</td>\n",
              "      <td>211</td>\n",
              "      <td>2192</td>\n",
              "    </tr>\n",
              "    <tr>\n",
              "      <th>4</th>\n",
              "      <td>4</td>\n",
              "      <td>10836</td>\n",
              "      <td>4043</td>\n",
              "      <td>6793</td>\n",
              "      <td>4468</td>\n",
              "      <td>2325</td>\n",
              "      <td>93</td>\n",
              "      <td>2418</td>\n",
              "      <td>483</td>\n",
              "      <td>1935</td>\n",
              "    </tr>\n",
              "    <tr>\n",
              "      <th>5</th>\n",
              "      <td>5</td>\n",
              "      <td>10750</td>\n",
              "      <td>3995</td>\n",
              "      <td>6755</td>\n",
              "      <td>4404</td>\n",
              "      <td>2351</td>\n",
              "      <td>74</td>\n",
              "      <td>2425</td>\n",
              "      <td>495</td>\n",
              "      <td>1930</td>\n",
              "    </tr>\n",
              "  </tbody>\n",
              "</table>\n",
              "</div>"
            ],
            "text/plain": [
              "   Qtr Total_NETSales  ... PROVISION_for_Income_Taxes NET_INCOME\n",
              "1    1           9021  ...                        452       1787\n",
              "2    2           9815  ...                        502       1853\n",
              "3    3          10368  ...                        211       2192\n",
              "4    4          10836  ...                        483       1935\n",
              "5    5          10750  ...                        495       1930\n",
              "\n",
              "[5 rows x 10 columns]"
            ]
          },
          "metadata": {
            "tags": []
          },
          "execution_count": 10
        },
        {
          "output_type": "execute_result",
          "data": {
            "text/plain": [
              "(26, 10)"
            ]
          },
          "metadata": {
            "tags": []
          },
          "execution_count": 10
        }
      ]
    },
    {
      "cell_type": "markdown",
      "metadata": {
        "id": "RhLtl_FVLdl1",
        "colab_type": "text"
      },
      "source": [
        "# dataset 3"
      ]
    },
    {
      "cell_type": "code",
      "metadata": {
        "id": "mPhrf-SKLaFp",
        "colab_type": "code",
        "outputId": "08cee4e4-f7cb-439f-fb79-1266b9d3a0af",
        "colab": {
          "base_uri": "https://localhost:8080/",
          "height": 221
        }
      },
      "source": [
        "df_NetIncome = pd.DataFrame(df,columns=['Qtr','NET_INCOME'])\n",
        "df_NetIncome.head()\n",
        "df_NetIncome.shape"
      ],
      "execution_count": 11,
      "outputs": [
        {
          "output_type": "execute_result",
          "data": {
            "text/html": [
              "<div>\n",
              "<style scoped>\n",
              "    .dataframe tbody tr th:only-of-type {\n",
              "        vertical-align: middle;\n",
              "    }\n",
              "\n",
              "    .dataframe tbody tr th {\n",
              "        vertical-align: top;\n",
              "    }\n",
              "\n",
              "    .dataframe thead th {\n",
              "        text-align: right;\n",
              "    }\n",
              "</style>\n",
              "<table border=\"1\" class=\"dataframe\">\n",
              "  <thead>\n",
              "    <tr style=\"text-align: right;\">\n",
              "      <th></th>\n",
              "      <th>Qtr</th>\n",
              "      <th>NET_INCOME</th>\n",
              "    </tr>\n",
              "  </thead>\n",
              "  <tbody>\n",
              "    <tr>\n",
              "      <th>1</th>\n",
              "      <td>1</td>\n",
              "      <td>1787</td>\n",
              "    </tr>\n",
              "    <tr>\n",
              "      <th>2</th>\n",
              "      <td>2</td>\n",
              "      <td>1853</td>\n",
              "    </tr>\n",
              "    <tr>\n",
              "      <th>3</th>\n",
              "      <td>3</td>\n",
              "      <td>2192</td>\n",
              "    </tr>\n",
              "    <tr>\n",
              "      <th>4</th>\n",
              "      <td>4</td>\n",
              "      <td>1935</td>\n",
              "    </tr>\n",
              "    <tr>\n",
              "      <th>5</th>\n",
              "      <td>5</td>\n",
              "      <td>1930</td>\n",
              "    </tr>\n",
              "  </tbody>\n",
              "</table>\n",
              "</div>"
            ],
            "text/plain": [
              "   Qtr NET_INCOME\n",
              "1    1       1787\n",
              "2    2       1853\n",
              "3    3       2192\n",
              "4    4       1935\n",
              "5    5       1930"
            ]
          },
          "metadata": {
            "tags": []
          },
          "execution_count": 11
        },
        {
          "output_type": "execute_result",
          "data": {
            "text/plain": [
              "(26, 2)"
            ]
          },
          "metadata": {
            "tags": []
          },
          "execution_count": 11
        }
      ]
    },
    {
      "cell_type": "markdown",
      "metadata": {
        "id": "xU14z3g9Li1E",
        "colab_type": "text"
      },
      "source": [
        "# visualize the net income trend"
      ]
    },
    {
      "cell_type": "code",
      "metadata": {
        "id": "Tc2R8svXLgMQ",
        "colab_type": "code",
        "outputId": "1a80cd2a-22b0-4f1e-9cb4-45cbf2d51e2c",
        "colab": {
          "base_uri": "https://localhost:8080/",
          "height": 544
        }
      },
      "source": [
        "#plot\n",
        "plt.figure(figsize=(10,6))\n",
        "plt.plot(df_NetIncome['NET_INCOME'], label='NET_INCOME')"
      ],
      "execution_count": 12,
      "outputs": [
        {
          "output_type": "execute_result",
          "data": {
            "text/plain": [
              "<Figure size 1000x600 with 0 Axes>"
            ]
          },
          "metadata": {
            "tags": []
          },
          "execution_count": 12
        },
        {
          "output_type": "execute_result",
          "data": {
            "text/plain": [
              "[<matplotlib.lines.Line2D at 0x7f7a4468b470>]"
            ]
          },
          "metadata": {
            "tags": []
          },
          "execution_count": 12
        },
        {
          "output_type": "display_data",
          "data": {
            "image/png": "[encoded data removed]",
            "text/plain": [
              "<Figure size 1000x600 with 1 Axes>"
            ]
          },
          "metadata": {
            "tags": []
          }
        }
      ]
    },
    {
      "cell_type": "markdown",
      "metadata": {
        "id": "w8Ay3RH8PK19",
        "colab_type": "text"
      },
      "source": [
        "# using scikit learn"
      ]
    },
    {
      "cell_type": "code",
      "metadata": {
        "id": "BFtF__SUO98w",
        "colab_type": "code",
        "colab": {}
      },
      "source": [
        "#implement linear regression\n",
        "from sklearn.linear_model import LinearRegression\n",
        "from sklearn.model_selection import train_test_split\n",
        "from sklearn.metrics import mean_squared_error\n",
        "from sklearn.metrics import r2_score"
      ],
      "execution_count": 0,
      "outputs": []
    },
    {
      "cell_type": "code",
      "metadata": {
        "id": "cd4_B2z8PNrS",
        "colab_type": "code",
        "outputId": "f57d0c15-6f4b-4d7b-a524-18c691b1d40b",
        "colab": {
          "base_uri": "https://localhost:8080/",
          "height": 224
        }
      },
      "source": [
        "df_items.head()"
      ],
      "execution_count": 14,
      "outputs": [
        {
          "output_type": "execute_result",
          "data": {
            "text/html": [
              "<div>\n",
              "<style scoped>\n",
              "    .dataframe tbody tr th:only-of-type {\n",
              "        vertical-align: middle;\n",
              "    }\n",
              "\n",
              "    .dataframe tbody tr th {\n",
              "        vertical-align: top;\n",
              "    }\n",
              "\n",
              "    .dataframe thead th {\n",
              "        text-align: right;\n",
              "    }\n",
              "</style>\n",
              "<table border=\"1\" class=\"dataframe\">\n",
              "  <thead>\n",
              "    <tr style=\"text-align: right;\">\n",
              "      <th></th>\n",
              "      <th>Qtr</th>\n",
              "      <th>NETSales_Product</th>\n",
              "      <th>NETSales_Service</th>\n",
              "      <th>COSTSales_Product</th>\n",
              "      <th>COSTSales_Service</th>\n",
              "      <th>OPEX_R_D</th>\n",
              "      <th>OPEX_Sales_Marketing</th>\n",
              "      <th>OPEX_General_Administrative</th>\n",
              "      <th>OPEX_Intag_Assets</th>\n",
              "      <th>OPEX_Restruct_OtherCharges</th>\n",
              "      <th>Interest_Income</th>\n",
              "      <th>Interest_Expense</th>\n",
              "      <th>Other_Income</th>\n",
              "      <th>PROVISION_for_Income_Taxes</th>\n",
              "      <th>NET_INCOME</th>\n",
              "    </tr>\n",
              "  </thead>\n",
              "  <tbody>\n",
              "    <tr>\n",
              "      <th>1</th>\n",
              "      <td>1</td>\n",
              "      <td>7200</td>\n",
              "      <td>1821</td>\n",
              "      <td>2486</td>\n",
              "      <td>647</td>\n",
              "      <td>1224</td>\n",
              "      <td>2010</td>\n",
              "      <td>425</td>\n",
              "      <td>105</td>\n",
              "      <td>NaN</td>\n",
              "      <td>168</td>\n",
              "      <td>-114</td>\n",
              "      <td>61</td>\n",
              "      <td>452</td>\n",
              "      <td>1787</td>\n",
              "    </tr>\n",
              "    <tr>\n",
              "      <th>2</th>\n",
              "      <td>2</td>\n",
              "      <td>7976</td>\n",
              "      <td>1839</td>\n",
              "      <td>2815</td>\n",
              "      <td>668</td>\n",
              "      <td>1247</td>\n",
              "      <td>2126</td>\n",
              "      <td>451</td>\n",
              "      <td>138</td>\n",
              "      <td>NaN</td>\n",
              "      <td>155</td>\n",
              "      <td>-158</td>\n",
              "      <td>-12</td>\n",
              "      <td>502</td>\n",
              "      <td>1853</td>\n",
              "    </tr>\n",
              "    <tr>\n",
              "      <th>3</th>\n",
              "      <td>3</td>\n",
              "      <td>8436</td>\n",
              "      <td>1932</td>\n",
              "      <td>3010</td>\n",
              "      <td>728</td>\n",
              "      <td>1411</td>\n",
              "      <td>2278</td>\n",
              "      <td>479</td>\n",
              "      <td>117</td>\n",
              "      <td>NaN</td>\n",
              "      <td>158</td>\n",
              "      <td>-182</td>\n",
              "      <td>82</td>\n",
              "      <td>211</td>\n",
              "      <td>2192</td>\n",
              "    </tr>\n",
              "    <tr>\n",
              "      <th>4</th>\n",
              "      <td>4</td>\n",
              "      <td>8808</td>\n",
              "      <td>2028</td>\n",
              "      <td>3309</td>\n",
              "      <td>734</td>\n",
              "      <td>1391</td>\n",
              "      <td>2368</td>\n",
              "      <td>578</td>\n",
              "      <td>131</td>\n",
              "      <td>NaN</td>\n",
              "      <td>154</td>\n",
              "      <td>-169</td>\n",
              "      <td>108</td>\n",
              "      <td>483</td>\n",
              "      <td>1935</td>\n",
              "    </tr>\n",
              "    <tr>\n",
              "      <th>5</th>\n",
              "      <td>5</td>\n",
              "      <td>8700</td>\n",
              "      <td>2050</td>\n",
              "      <td>3249</td>\n",
              "      <td>746</td>\n",
              "      <td>1431</td>\n",
              "      <td>2402</td>\n",
              "      <td>458</td>\n",
              "      <td>113</td>\n",
              "      <td>NaN</td>\n",
              "      <td>160</td>\n",
              "      <td>-166</td>\n",
              "      <td>80</td>\n",
              "      <td>495</td>\n",
              "      <td>1930</td>\n",
              "    </tr>\n",
              "  </tbody>\n",
              "</table>\n",
              "</div>"
            ],
            "text/plain": [
              "   Qtr NETSales_Product  ... PROVISION_for_Income_Taxes NET_INCOME\n",
              "1    1             7200  ...                        452       1787\n",
              "2    2             7976  ...                        502       1853\n",
              "3    3             8436  ...                        211       2192\n",
              "4    4             8808  ...                        483       1935\n",
              "5    5             8700  ...                        495       1930\n",
              "\n",
              "[5 rows x 15 columns]"
            ]
          },
          "metadata": {
            "tags": []
          },
          "execution_count": 14
        }
      ]
    },
    {
      "cell_type": "code",
      "metadata": {
        "id": "oQhiemPP8l1p",
        "colab_type": "code",
        "colab": {}
      },
      "source": [
        "import matplotlib.pyplot as plt  \n",
        "import seaborn as seabornInstance \n",
        "from sklearn.model_selection import train_test_split \n",
        "from sklearn.linear_model import LinearRegression\n",
        "from sklearn import metrics\n",
        "%matplotlib inline\n"
      ],
      "execution_count": 0,
      "outputs": []
    },
    {
      "cell_type": "code",
      "metadata": {
        "id": "qqu-OWVt8xi3",
        "colab_type": "code",
        "colab": {}
      },
      "source": [
        "regressor = LinearRegression()  "
      ],
      "execution_count": 0,
      "outputs": []
    },
    {
      "cell_type": "code",
      "metadata": {
        "id": "QVUrWYbD9PRV",
        "colab_type": "code",
        "colab": {}
      },
      "source": [
        ""
      ],
      "execution_count": 0,
      "outputs": []
    },
    {
      "cell_type": "code",
      "metadata": {
        "id": "EEx6lb3G9PZC",
        "colab_type": "code",
        "colab": {}
      },
      "source": [
        ""
      ],
      "execution_count": 0,
      "outputs": []
    },
    {
      "cell_type": "code",
      "metadata": {
        "id": "ESIz11N0PP3J",
        "colab_type": "code",
        "colab": {}
      },
      "source": [
        "X =  df_items.iloc[:,1:25]\n",
        "y =  df_items.iloc[:,25:]"
      ],
      "execution_count": 0,
      "outputs": []
    },
    {
      "cell_type": "code",
      "metadata": {
        "id": "e4H7E_do_YeL",
        "colab_type": "code",
        "colab": {}
      },
      "source": [
        "X_train, X_test, y_train, y_test = train_test_split(X, y, test_size=0.2, random_state=0)"
      ],
      "execution_count": 0,
      "outputs": []
    },
    {
      "cell_type": "code",
      "metadata": {
        "id": "N9dVcr9RP01Q",
        "colab_type": "code",
        "colab": {}
      },
      "source": [
        "#X_train, X_test, y_train, y_test = train_test_split(X,Y,test_size=0.3,  random_state=None, shuffle=False)"
      ],
      "execution_count": 0,
      "outputs": []
    },
    {
      "cell_type": "code",
      "metadata": {
        "id": "77hbQQPa-HIQ",
        "colab_type": "code",
        "colab": {
          "base_uri": "https://localhost:8080/",
          "height": 224
        },
        "outputId": "b3e41a2d-35ac-4f05-cca8-1b66666eaf80"
      },
      "source": [
        "df.head()"
      ],
      "execution_count": 20,
      "outputs": [
        {
          "output_type": "execute_result",
          "data": {
            "text/html": [
              "<div>\n",
              "<style scoped>\n",
              "    .dataframe tbody tr th:only-of-type {\n",
              "        vertical-align: middle;\n",
              "    }\n",
              "\n",
              "    .dataframe tbody tr th {\n",
              "        vertical-align: top;\n",
              "    }\n",
              "\n",
              "    .dataframe thead th {\n",
              "        text-align: right;\n",
              "    }\n",
              "</style>\n",
              "<table border=\"1\" class=\"dataframe\">\n",
              "  <thead>\n",
              "    <tr style=\"text-align: right;\">\n",
              "      <th></th>\n",
              "      <th>Qtr</th>\n",
              "      <th>NETSales_Product</th>\n",
              "      <th>NETSales_Service</th>\n",
              "      <th>Total_NETSales</th>\n",
              "      <th>COSTSales_Product</th>\n",
              "      <th>COSTSales_Service</th>\n",
              "      <th>Total_COSTSales</th>\n",
              "      <th>GROSS_MARGIN</th>\n",
              "      <th>OPEX_R_D</th>\n",
              "      <th>OPEX_Sales_Marketing</th>\n",
              "      <th>OPEX_General_Administrative</th>\n",
              "      <th>OPEX_Intag_Assets</th>\n",
              "      <th>OPEX_Restruct_OtherCharges</th>\n",
              "      <th>Total_OPEX</th>\n",
              "      <th>OPIN</th>\n",
              "      <th>Interest_Income</th>\n",
              "      <th>Interest_Expense</th>\n",
              "      <th>Other_Income</th>\n",
              "      <th>NetInterest_OtherIncome</th>\n",
              "      <th>INCOME_BeforeTax</th>\n",
              "      <th>PROVISION_for_Income_Taxes</th>\n",
              "      <th>NET_INCOME</th>\n",
              "    </tr>\n",
              "  </thead>\n",
              "  <tbody>\n",
              "    <tr>\n",
              "      <th>1</th>\n",
              "      <td>1</td>\n",
              "      <td>7200</td>\n",
              "      <td>1821</td>\n",
              "      <td>9021</td>\n",
              "      <td>2486</td>\n",
              "      <td>647</td>\n",
              "      <td>3133</td>\n",
              "      <td>5888</td>\n",
              "      <td>1224</td>\n",
              "      <td>2010</td>\n",
              "      <td>425</td>\n",
              "      <td>105</td>\n",
              "      <td>NaN</td>\n",
              "      <td>3764</td>\n",
              "      <td>2124</td>\n",
              "      <td>168</td>\n",
              "      <td>-114</td>\n",
              "      <td>61</td>\n",
              "      <td>115</td>\n",
              "      <td>2239</td>\n",
              "      <td>452</td>\n",
              "      <td>1787</td>\n",
              "    </tr>\n",
              "    <tr>\n",
              "      <th>2</th>\n",
              "      <td>2</td>\n",
              "      <td>7976</td>\n",
              "      <td>1839</td>\n",
              "      <td>9815</td>\n",
              "      <td>2815</td>\n",
              "      <td>668</td>\n",
              "      <td>3483</td>\n",
              "      <td>6332</td>\n",
              "      <td>1247</td>\n",
              "      <td>2126</td>\n",
              "      <td>451</td>\n",
              "      <td>138</td>\n",
              "      <td>NaN</td>\n",
              "      <td>3962</td>\n",
              "      <td>2370</td>\n",
              "      <td>155</td>\n",
              "      <td>-158</td>\n",
              "      <td>-12</td>\n",
              "      <td>-15</td>\n",
              "      <td>2355</td>\n",
              "      <td>502</td>\n",
              "      <td>1853</td>\n",
              "    </tr>\n",
              "    <tr>\n",
              "      <th>3</th>\n",
              "      <td>3</td>\n",
              "      <td>8436</td>\n",
              "      <td>1932</td>\n",
              "      <td>10368</td>\n",
              "      <td>3010</td>\n",
              "      <td>728</td>\n",
              "      <td>3738</td>\n",
              "      <td>6630</td>\n",
              "      <td>1411</td>\n",
              "      <td>2278</td>\n",
              "      <td>479</td>\n",
              "      <td>117</td>\n",
              "      <td>NaN</td>\n",
              "      <td>4285</td>\n",
              "      <td>2345</td>\n",
              "      <td>158</td>\n",
              "      <td>-182</td>\n",
              "      <td>82</td>\n",
              "      <td>58</td>\n",
              "      <td>2403</td>\n",
              "      <td>211</td>\n",
              "      <td>2192</td>\n",
              "    </tr>\n",
              "    <tr>\n",
              "      <th>4</th>\n",
              "      <td>4</td>\n",
              "      <td>8808</td>\n",
              "      <td>2028</td>\n",
              "      <td>10836</td>\n",
              "      <td>3309</td>\n",
              "      <td>734</td>\n",
              "      <td>4043</td>\n",
              "      <td>6793</td>\n",
              "      <td>1391</td>\n",
              "      <td>2368</td>\n",
              "      <td>578</td>\n",
              "      <td>131</td>\n",
              "      <td>NaN</td>\n",
              "      <td>4468</td>\n",
              "      <td>2325</td>\n",
              "      <td>154</td>\n",
              "      <td>-169</td>\n",
              "      <td>108</td>\n",
              "      <td>93</td>\n",
              "      <td>2418</td>\n",
              "      <td>483</td>\n",
              "      <td>1935</td>\n",
              "    </tr>\n",
              "    <tr>\n",
              "      <th>5</th>\n",
              "      <td>5</td>\n",
              "      <td>8700</td>\n",
              "      <td>2050</td>\n",
              "      <td>10750</td>\n",
              "      <td>3249</td>\n",
              "      <td>746</td>\n",
              "      <td>3995</td>\n",
              "      <td>6755</td>\n",
              "      <td>1431</td>\n",
              "      <td>2402</td>\n",
              "      <td>458</td>\n",
              "      <td>113</td>\n",
              "      <td>NaN</td>\n",
              "      <td>4404</td>\n",
              "      <td>2351</td>\n",
              "      <td>160</td>\n",
              "      <td>-166</td>\n",
              "      <td>80</td>\n",
              "      <td>74</td>\n",
              "      <td>2425</td>\n",
              "      <td>495</td>\n",
              "      <td>1930</td>\n",
              "    </tr>\n",
              "  </tbody>\n",
              "</table>\n",
              "</div>"
            ],
            "text/plain": [
              "   Qtr NETSales_Product  ... PROVISION_for_Income_Taxes NET_INCOME\n",
              "1    1             7200  ...                        452       1787\n",
              "2    2             7976  ...                        502       1853\n",
              "3    3             8436  ...                        211       2192\n",
              "4    4             8808  ...                        483       1935\n",
              "5    5             8700  ...                        495       1930\n",
              "\n",
              "[5 rows x 22 columns]"
            ]
          },
          "metadata": {
            "tags": []
          },
          "execution_count": 20
        }
      ]
    },
    {
      "cell_type": "code",
      "metadata": {
        "id": "O5ZGpi4Z_r0H",
        "colab_type": "code",
        "colab": {}
      },
      "source": [
        ""
      ],
      "execution_count": 0,
      "outputs": []
    },
    {
      "cell_type": "code",
      "metadata": {
        "id": "pZwdVvjj_r42",
        "colab_type": "code",
        "colab": {}
      },
      "source": [
        ""
      ],
      "execution_count": 0,
      "outputs": []
    },
    {
      "cell_type": "code",
      "metadata": {
        "id": "DCcTj9zN_ryF",
        "colab_type": "code",
        "colab": {}
      },
      "source": [
        ""
      ],
      "execution_count": 0,
      "outputs": []
    },
    {
      "cell_type": "code",
      "metadata": {
        "id": "Qo-jDTdRAS_i",
        "colab_type": "code",
        "colab": {}
      },
      "source": [
        ""
      ],
      "execution_count": 0,
      "outputs": []
    },
    {
      "cell_type": "code",
      "metadata": {
        "id": "dS-Uxpnf-yni",
        "colab_type": "code",
        "colab": {}
      },
      "source": [
        ""
      ],
      "execution_count": 0,
      "outputs": []
    },
    {
      "cell_type": "code",
      "metadata": {
        "id": "yDgR1h2I-yrx",
        "colab_type": "code",
        "colab": {}
      },
      "source": [
        ""
      ],
      "execution_count": 0,
      "outputs": []
    },
    {
      "cell_type": "code",
      "metadata": {
        "id": "iecHyD_Q-ylU",
        "colab_type": "code",
        "colab": {}
      },
      "source": [
        ""
      ],
      "execution_count": 0,
      "outputs": []
    },
    {
      "cell_type": "code",
      "metadata": {
        "id": "HxtGsTI_TE7g",
        "colab_type": "code",
        "colab": {}
      },
      "source": [
        "\n",
        "# Importing Necessary Libraries\n",
        "%matplotlib inline\n",
        "import numpy as np\n",
        "import pandas as pd\n",
        "import matplotlib.pyplot as plt\n",
        "plt.rcParams['figure.figsize'] = (20.0, 10.0)"
      ],
      "execution_count": 0,
      "outputs": []
    },
    {
      "cell_type": "code",
      "metadata": {
        "id": "qcxqAttYCoOh",
        "colab_type": "code",
        "colab": {}
      },
      "source": [
        "# Function to impute Outliers with Mean\n",
        "\n",
        "def outliers(Y_OL):\n",
        "    final_list=[]\n",
        "    elements = np.array(Y_OL)\n",
        "    mean = np.mean(elements, axis=0)\n",
        "    sd = np.std(elements, axis=0)\n",
        "\n",
        "    for a in Y_OL:\n",
        "        if ((a > mean - 2 * sd) and (a < mean + 2 * sd)):\n",
        "            final_list.append(a)\n",
        "        else:\n",
        "            final_list.append(mean)\n",
        "\n",
        "    return final_list\n",
        "\n",
        "\n",
        "# Function to find the Coefficients\n",
        "def coeff(X,Y):\n",
        "\n",
        "    # Total number of values\n",
        "    m = len(X)\n",
        "\n",
        "    # Using the formula to calculate b1 and b2\n",
        "    numer = 0\n",
        "    denom = 0\n",
        "    for i in range(m):\n",
        "        numer += (X[i] - mean_x) * (Y[i] - mean_y)\n",
        "        denom += (X[i] - mean_x) ** 2\n",
        "    b1 = numer / denom\n",
        "    b0 = mean_y - (b1 * mean_x)\n",
        "\n",
        "    return[b0, b1]\n",
        "\n",
        "# Calculating Root Mean Squares Error\n",
        "def rms(X,Y,m):\n",
        "    rmse = 0\n",
        "    for i in range(m):\n",
        "        y_pred = b0 + b1 * X[i]\n",
        "        rmse += (Y[i] - y_pred) ** 2\n",
        "    rmse = np.sqrt(rmse/m)\n",
        "    #print(rmse)\n",
        "    return rmse    \n",
        "    # Calculating the Root Square\n",
        "def r_square(X,Y):\n",
        "    ss_t = 0\n",
        "    ss_r = 0\n",
        "    for i in range(m):\n",
        "        y_pred = b0 + b1 * X[i]\n",
        "        ss_t += (Y[i] - mean_y) ** 2\n",
        "        ss_r += (Y[i] - y_pred) ** 2\n",
        "        \n",
        "    r2 = 1 - (ss_r/ss_t)\n",
        "    \n",
        "    return r2\n",
        "\n",
        "def ypred(X,Y):\n",
        "    ypredicted = []\n",
        "    for i in range(m):\n",
        "        y_pred = b0 + b1 * X[i]\n",
        "        ypredicted.append(y_pred)\n",
        "    return ypredicted"
      ],
      "execution_count": 0,
      "outputs": []
    },
    {
      "cell_type": "code",
      "metadata": {
        "id": "omH8_2YdCoZ2",
        "colab_type": "code",
        "colab": {
          "base_uri": "https://localhost:8080/",
          "height": 408
        },
        "outputId": "e138efdd-90a8-420a-ae76-325ea77b95da"
      },
      "source": [
        "df2 = pd.DataFrame()\n",
        "df_ypredicted = pd.DataFrame()\n",
        "lst_rmse = []\n",
        "lst_r2=[]\n",
        "lst_coeff = []\n",
        "lst_ypred27 = []\n",
        "lst_ypred28 = []\n",
        "Y=[]\n",
        "for column in df_items:\n",
        "    X = df_items['Qtr'].values\n",
        "    Y_OL = df_items[column].values\n",
        "    m = len(X)\n",
        "    df2['Items'] = df_items.columns\n",
        "    Y = outliers(Y_OL)\n",
        "    # Mean X and Y\n",
        "    mean_x = np.mean(X)\n",
        "    mean_y = np.mean(Y)\n",
        "    b0, b1 = coeff(X,Y)\n",
        "    lst_coeff.append([b0, b1])\n",
        "    lst_rmse.append(rms(X,Y,m))\n",
        "    lst_r2.append(r_square(X,Y))\n",
        "    lst_ypred27.append(coeff(X,Y)[0] + coeff(X,Y)[1] * 27) \n",
        "    lst_ypred28.append(coeff(X,Y)[0] + coeff(X,Y)[1] * 28) \n",
        "df2['Coefficients'] = lst_coeff\n",
        "df2['RMSE'] = lst_rmse\n",
        "df2['R_Square'] = lst_r2\n",
        "df2['Qtr_27_Predicted'] = lst_ypred27\n",
        "df2['Qtr_28_Predicted'] = lst_ypred28\n",
        "df_ypredicted['Qtr'] = df['Qtr']\n",
        "df_ypredicted['Predicted'] = ypred(X,Y)\n",
        "df2.index = df2['Items']\n",
        "df2 = df2.drop('Items', axis=1)\n",
        "df2 = df2.drop(df2.index[0])\n",
        "df2"
      ],
      "execution_count": 23,
      "outputs": [
        {
          "output_type": "error",
          "ename": "TypeError",
          "evalue": "ignored",
          "traceback": [
            "\u001b[0;31m---------------------------------------------------------------------------\u001b[0m",
            "\u001b[0;31mTypeError\u001b[0m                                 Traceback (most recent call last)",
            "\u001b[0;32m<ipython-input-23-9fd9097c732d>\u001b[0m in \u001b[0;36m<module>\u001b[0;34m()\u001b[0m\n\u001b[1;32m     12\u001b[0m     \u001b[0mm\u001b[0m \u001b[0;34m=\u001b[0m \u001b[0mlen\u001b[0m\u001b[0;34m(\u001b[0m\u001b[0mX\u001b[0m\u001b[0;34m)\u001b[0m\u001b[0;34m\u001b[0m\u001b[0;34m\u001b[0m\u001b[0m\n\u001b[1;32m     13\u001b[0m     \u001b[0mdf2\u001b[0m\u001b[0;34m[\u001b[0m\u001b[0;34m'Items'\u001b[0m\u001b[0;34m]\u001b[0m \u001b[0;34m=\u001b[0m \u001b[0mdf_items\u001b[0m\u001b[0;34m.\u001b[0m\u001b[0mcolumns\u001b[0m\u001b[0;34m\u001b[0m\u001b[0;34m\u001b[0m\u001b[0m\n\u001b[0;32m---> 14\u001b[0;31m     \u001b[0mY\u001b[0m \u001b[0;34m=\u001b[0m \u001b[0moutliers\u001b[0m\u001b[0;34m(\u001b[0m\u001b[0mY_OL\u001b[0m\u001b[0;34m)\u001b[0m\u001b[0;34m\u001b[0m\u001b[0;34m\u001b[0m\u001b[0m\n\u001b[0m\u001b[1;32m     15\u001b[0m     \u001b[0;31m# Mean X and Y\u001b[0m\u001b[0;34m\u001b[0m\u001b[0;34m\u001b[0m\u001b[0;34m\u001b[0m\u001b[0m\n\u001b[1;32m     16\u001b[0m     \u001b[0mmean_x\u001b[0m \u001b[0;34m=\u001b[0m \u001b[0mnp\u001b[0m\u001b[0;34m.\u001b[0m\u001b[0mmean\u001b[0m\u001b[0;34m(\u001b[0m\u001b[0mX\u001b[0m\u001b[0;34m)\u001b[0m\u001b[0;34m\u001b[0m\u001b[0;34m\u001b[0m\u001b[0m\n",
            "\u001b[0;32m<ipython-input-22-3b5e70e9c468>\u001b[0m in \u001b[0;36moutliers\u001b[0;34m(Y_OL)\u001b[0m\n\u001b[1;32m      3\u001b[0m     \u001b[0mfinal_list\u001b[0m\u001b[0;34m=\u001b[0m\u001b[0;34m[\u001b[0m\u001b[0;34m]\u001b[0m\u001b[0;34m\u001b[0m\u001b[0;34m\u001b[0m\u001b[0m\n\u001b[1;32m      4\u001b[0m     \u001b[0melements\u001b[0m \u001b[0;34m=\u001b[0m \u001b[0mnp\u001b[0m\u001b[0;34m.\u001b[0m\u001b[0marray\u001b[0m\u001b[0;34m(\u001b[0m\u001b[0mY_OL\u001b[0m\u001b[0;34m)\u001b[0m\u001b[0;34m\u001b[0m\u001b[0;34m\u001b[0m\u001b[0m\n\u001b[0;32m----> 5\u001b[0;31m     \u001b[0mmean\u001b[0m \u001b[0;34m=\u001b[0m \u001b[0mnp\u001b[0m\u001b[0;34m.\u001b[0m\u001b[0mmean\u001b[0m\u001b[0;34m(\u001b[0m\u001b[0melements\u001b[0m\u001b[0;34m,\u001b[0m \u001b[0maxis\u001b[0m\u001b[0;34m=\u001b[0m\u001b[0;36m0\u001b[0m\u001b[0;34m)\u001b[0m\u001b[0;34m\u001b[0m\u001b[0;34m\u001b[0m\u001b[0m\n\u001b[0m\u001b[1;32m      6\u001b[0m     \u001b[0msd\u001b[0m \u001b[0;34m=\u001b[0m \u001b[0mnp\u001b[0m\u001b[0;34m.\u001b[0m\u001b[0mstd\u001b[0m\u001b[0;34m(\u001b[0m\u001b[0melements\u001b[0m\u001b[0;34m,\u001b[0m \u001b[0maxis\u001b[0m\u001b[0;34m=\u001b[0m\u001b[0;36m0\u001b[0m\u001b[0;34m)\u001b[0m\u001b[0;34m\u001b[0m\u001b[0;34m\u001b[0m\u001b[0m\n\u001b[1;32m      7\u001b[0m \u001b[0;34m\u001b[0m\u001b[0m\n",
            "\u001b[0;32m<__array_function__ internals>\u001b[0m in \u001b[0;36mmean\u001b[0;34m(*args, **kwargs)\u001b[0m\n",
            "\u001b[0;32m/usr/local/lib/python3.6/dist-packages/numpy/core/fromnumeric.py\u001b[0m in \u001b[0;36mmean\u001b[0;34m(a, axis, dtype, out, keepdims)\u001b[0m\n\u001b[1;32m   3255\u001b[0m \u001b[0;34m\u001b[0m\u001b[0m\n\u001b[1;32m   3256\u001b[0m     return _methods._mean(a, axis=axis, dtype=dtype,\n\u001b[0;32m-> 3257\u001b[0;31m                           out=out, **kwargs)\n\u001b[0m\u001b[1;32m   3258\u001b[0m \u001b[0;34m\u001b[0m\u001b[0m\n\u001b[1;32m   3259\u001b[0m \u001b[0;34m\u001b[0m\u001b[0m\n",
            "\u001b[0;32m/usr/local/lib/python3.6/dist-packages/numpy/core/_methods.py\u001b[0m in \u001b[0;36m_mean\u001b[0;34m(a, axis, dtype, out, keepdims)\u001b[0m\n\u001b[1;32m    149\u001b[0m             \u001b[0mis_float16_result\u001b[0m \u001b[0;34m=\u001b[0m \u001b[0;32mTrue\u001b[0m\u001b[0;34m\u001b[0m\u001b[0;34m\u001b[0m\u001b[0m\n\u001b[1;32m    150\u001b[0m \u001b[0;34m\u001b[0m\u001b[0m\n\u001b[0;32m--> 151\u001b[0;31m     \u001b[0mret\u001b[0m \u001b[0;34m=\u001b[0m \u001b[0mumr_sum\u001b[0m\u001b[0;34m(\u001b[0m\u001b[0marr\u001b[0m\u001b[0;34m,\u001b[0m \u001b[0maxis\u001b[0m\u001b[0;34m,\u001b[0m \u001b[0mdtype\u001b[0m\u001b[0;34m,\u001b[0m \u001b[0mout\u001b[0m\u001b[0;34m,\u001b[0m \u001b[0mkeepdims\u001b[0m\u001b[0;34m)\u001b[0m\u001b[0;34m\u001b[0m\u001b[0;34m\u001b[0m\u001b[0m\n\u001b[0m\u001b[1;32m    152\u001b[0m     \u001b[0;32mif\u001b[0m \u001b[0misinstance\u001b[0m\u001b[0;34m(\u001b[0m\u001b[0mret\u001b[0m\u001b[0;34m,\u001b[0m \u001b[0mmu\u001b[0m\u001b[0;34m.\u001b[0m\u001b[0mndarray\u001b[0m\u001b[0;34m)\u001b[0m\u001b[0;34m:\u001b[0m\u001b[0;34m\u001b[0m\u001b[0;34m\u001b[0m\u001b[0m\n\u001b[1;32m    153\u001b[0m         ret = um.true_divide(\n",
            "\u001b[0;31mTypeError\u001b[0m: unsupported operand type(s) for +: 'float' and 'str'"
          ]
        }
      ]
    },
    {
      "cell_type": "code",
      "metadata": {
        "id": "OIRRG04CDF-o",
        "colab_type": "code",
        "colab": {
          "base_uri": "https://localhost:8080/",
          "height": 370
        },
        "outputId": "0dd6eaac-4139-4741-e2b4-bf11bafeec2f"
      },
      "source": [
        "NET_SALES = df2.Qtr_27_Predicted[0] + df2.Qtr_27_Predicted[1]\n",
        "\n",
        "COST_OF_SALES = df2.Qtr_27_Predicted[2] + df2.Qtr_27_Predicted[3]\n",
        "\n",
        "OPEX = df2.Qtr_27_Predicted[4] + df2.Qtr_27_Predicted[5] + df2.Qtr_27_Predicted[6] + df2.Qtr_27_Predicted[7] + df2.Qtr_27_Predicted[8] \n",
        "\n",
        "NET_INEREST_INCOME = df2.Qtr_27_Predicted[9] + df2.Qtr_27_Predicted[10] + df2.Qtr_27_Predicted[11]\n",
        "\n",
        "PROVISION_for_Income_Taxes = df2.Qtr_27_Predicted[12]\n",
        "\n",
        "NET_INCOME1 = NET_SALES - COST_OF_SALES - OPEX + NET_INEREST_INCOME - PROVISION_for_Income_Taxes\n",
        "\n",
        "print(\"Net Income for Qtr 27 is :\", NET_INCOME1)"
      ],
      "execution_count": 24,
      "outputs": [
        {
          "output_type": "error",
          "ename": "AttributeError",
          "evalue": "ignored",
          "traceback": [
            "\u001b[0;31m---------------------------------------------------------------------------\u001b[0m",
            "\u001b[0;31mAttributeError\u001b[0m                            Traceback (most recent call last)",
            "\u001b[0;32m<ipython-input-24-c2888ac8e2ac>\u001b[0m in \u001b[0;36m<module>\u001b[0;34m()\u001b[0m\n\u001b[0;32m----> 1\u001b[0;31m \u001b[0mNET_SALES\u001b[0m \u001b[0;34m=\u001b[0m \u001b[0mdf2\u001b[0m\u001b[0;34m.\u001b[0m\u001b[0mQtr_27_Predicted\u001b[0m\u001b[0;34m[\u001b[0m\u001b[0;36m0\u001b[0m\u001b[0;34m]\u001b[0m \u001b[0;34m+\u001b[0m \u001b[0mdf2\u001b[0m\u001b[0;34m.\u001b[0m\u001b[0mQtr_27_Predicted\u001b[0m\u001b[0;34m[\u001b[0m\u001b[0;36m1\u001b[0m\u001b[0;34m]\u001b[0m\u001b[0;34m\u001b[0m\u001b[0;34m\u001b[0m\u001b[0m\n\u001b[0m\u001b[1;32m      2\u001b[0m \u001b[0;34m\u001b[0m\u001b[0m\n\u001b[1;32m      3\u001b[0m \u001b[0mCOST_OF_SALES\u001b[0m \u001b[0;34m=\u001b[0m \u001b[0mdf2\u001b[0m\u001b[0;34m.\u001b[0m\u001b[0mQtr_27_Predicted\u001b[0m\u001b[0;34m[\u001b[0m\u001b[0;36m2\u001b[0m\u001b[0;34m]\u001b[0m \u001b[0;34m+\u001b[0m \u001b[0mdf2\u001b[0m\u001b[0;34m.\u001b[0m\u001b[0mQtr_27_Predicted\u001b[0m\u001b[0;34m[\u001b[0m\u001b[0;36m3\u001b[0m\u001b[0;34m]\u001b[0m\u001b[0;34m\u001b[0m\u001b[0;34m\u001b[0m\u001b[0m\n\u001b[1;32m      4\u001b[0m \u001b[0;34m\u001b[0m\u001b[0m\n\u001b[1;32m      5\u001b[0m \u001b[0mOPEX\u001b[0m \u001b[0;34m=\u001b[0m \u001b[0mdf2\u001b[0m\u001b[0;34m.\u001b[0m\u001b[0mQtr_27_Predicted\u001b[0m\u001b[0;34m[\u001b[0m\u001b[0;36m4\u001b[0m\u001b[0;34m]\u001b[0m \u001b[0;34m+\u001b[0m \u001b[0mdf2\u001b[0m\u001b[0;34m.\u001b[0m\u001b[0mQtr_27_Predicted\u001b[0m\u001b[0;34m[\u001b[0m\u001b[0;36m5\u001b[0m\u001b[0;34m]\u001b[0m \u001b[0;34m+\u001b[0m \u001b[0mdf2\u001b[0m\u001b[0;34m.\u001b[0m\u001b[0mQtr_27_Predicted\u001b[0m\u001b[0;34m[\u001b[0m\u001b[0;36m6\u001b[0m\u001b[0;34m]\u001b[0m \u001b[0;34m+\u001b[0m \u001b[0mdf2\u001b[0m\u001b[0;34m.\u001b[0m\u001b[0mQtr_27_Predicted\u001b[0m\u001b[0;34m[\u001b[0m\u001b[0;36m7\u001b[0m\u001b[0;34m]\u001b[0m \u001b[0;34m+\u001b[0m \u001b[0mdf2\u001b[0m\u001b[0;34m.\u001b[0m\u001b[0mQtr_27_Predicted\u001b[0m\u001b[0;34m[\u001b[0m\u001b[0;36m8\u001b[0m\u001b[0;34m]\u001b[0m\u001b[0;34m\u001b[0m\u001b[0;34m\u001b[0m\u001b[0m\n",
            "\u001b[0;32m/usr/local/lib/python3.6/dist-packages/pandas/core/generic.py\u001b[0m in \u001b[0;36m__getattr__\u001b[0;34m(self, name)\u001b[0m\n\u001b[1;32m   5177\u001b[0m             \u001b[0;32mif\u001b[0m \u001b[0mself\u001b[0m\u001b[0;34m.\u001b[0m\u001b[0m_info_axis\u001b[0m\u001b[0;34m.\u001b[0m\u001b[0m_can_hold_identifiers_and_holds_name\u001b[0m\u001b[0;34m(\u001b[0m\u001b[0mname\u001b[0m\u001b[0;34m)\u001b[0m\u001b[0;34m:\u001b[0m\u001b[0;34m\u001b[0m\u001b[0;34m\u001b[0m\u001b[0m\n\u001b[1;32m   5178\u001b[0m                 \u001b[0;32mreturn\u001b[0m \u001b[0mself\u001b[0m\u001b[0;34m[\u001b[0m\u001b[0mname\u001b[0m\u001b[0;34m]\u001b[0m\u001b[0;34m\u001b[0m\u001b[0;34m\u001b[0m\u001b[0m\n\u001b[0;32m-> 5179\u001b[0;31m             \u001b[0;32mreturn\u001b[0m \u001b[0mobject\u001b[0m\u001b[0;34m.\u001b[0m\u001b[0m__getattribute__\u001b[0m\u001b[0;34m(\u001b[0m\u001b[0mself\u001b[0m\u001b[0;34m,\u001b[0m \u001b[0mname\u001b[0m\u001b[0;34m)\u001b[0m\u001b[0;34m\u001b[0m\u001b[0;34m\u001b[0m\u001b[0m\n\u001b[0m\u001b[1;32m   5180\u001b[0m \u001b[0;34m\u001b[0m\u001b[0m\n\u001b[1;32m   5181\u001b[0m     \u001b[0;32mdef\u001b[0m \u001b[0m__setattr__\u001b[0m\u001b[0;34m(\u001b[0m\u001b[0mself\u001b[0m\u001b[0;34m,\u001b[0m \u001b[0mname\u001b[0m\u001b[0;34m,\u001b[0m \u001b[0mvalue\u001b[0m\u001b[0;34m)\u001b[0m\u001b[0;34m:\u001b[0m\u001b[0;34m\u001b[0m\u001b[0;34m\u001b[0m\u001b[0m\n",
            "\u001b[0;31mAttributeError\u001b[0m: 'DataFrame' object has no attribute 'Qtr_27_Predicted'"
          ]
        }
      ]
    },
    {
      "cell_type": "code",
      "metadata": {
        "id": "zkn-0_9nCoWo",
        "colab_type": "code",
        "colab": {
          "base_uri": "https://localhost:8080/",
          "height": 370
        },
        "outputId": "4708e4b4-0dab-4d64-e9cb-53bc65663e81"
      },
      "source": [
        "NET_SALES = df2.Qtr_28_Predicted[0] + df2.Qtr_28_Predicted[1]\n",
        "\n",
        "COST_OF_SALES = df2.Qtr_28_Predicted[2] + df2.Qtr_28_Predicted[3]\n",
        "\n",
        "OPEX = df2.Qtr_28_Predicted[4] + df2.Qtr_28_Predicted[5] + df2.Qtr_28_Predicted[6] + df2.Qtr_28_Predicted[7] + df2.Qtr_28_Predicted[8] \n",
        "\n",
        "NET_INEREST_INCOME = df2.Qtr_28_Predicted[9] + df2.Qtr_28_Predicted[10] + df2.Qtr_28_Predicted[11]\n",
        "\n",
        "PROVISION_for_Income_Taxes = df2.Qtr_28_Predicted[12]\n",
        "\n",
        "NET_INCOME2 = NET_SALES - COST_OF_SALES - OPEX + NET_INEREST_INCOME - PROVISION_for_Income_Taxes\n",
        "\n",
        "print(\"Net Income for Qtr 28 is :\", NET_INCOME2)"
      ],
      "execution_count": 25,
      "outputs": [
        {
          "output_type": "error",
          "ename": "AttributeError",
          "evalue": "ignored",
          "traceback": [
            "\u001b[0;31m---------------------------------------------------------------------------\u001b[0m",
            "\u001b[0;31mAttributeError\u001b[0m                            Traceback (most recent call last)",
            "\u001b[0;32m<ipython-input-25-76db27674082>\u001b[0m in \u001b[0;36m<module>\u001b[0;34m()\u001b[0m\n\u001b[0;32m----> 1\u001b[0;31m \u001b[0mNET_SALES\u001b[0m \u001b[0;34m=\u001b[0m \u001b[0mdf2\u001b[0m\u001b[0;34m.\u001b[0m\u001b[0mQtr_28_Predicted\u001b[0m\u001b[0;34m[\u001b[0m\u001b[0;36m0\u001b[0m\u001b[0;34m]\u001b[0m \u001b[0;34m+\u001b[0m \u001b[0mdf2\u001b[0m\u001b[0;34m.\u001b[0m\u001b[0mQtr_28_Predicted\u001b[0m\u001b[0;34m[\u001b[0m\u001b[0;36m1\u001b[0m\u001b[0;34m]\u001b[0m\u001b[0;34m\u001b[0m\u001b[0;34m\u001b[0m\u001b[0m\n\u001b[0m\u001b[1;32m      2\u001b[0m \u001b[0;34m\u001b[0m\u001b[0m\n\u001b[1;32m      3\u001b[0m \u001b[0mCOST_OF_SALES\u001b[0m \u001b[0;34m=\u001b[0m \u001b[0mdf2\u001b[0m\u001b[0;34m.\u001b[0m\u001b[0mQtr_28_Predicted\u001b[0m\u001b[0;34m[\u001b[0m\u001b[0;36m2\u001b[0m\u001b[0;34m]\u001b[0m \u001b[0;34m+\u001b[0m \u001b[0mdf2\u001b[0m\u001b[0;34m.\u001b[0m\u001b[0mQtr_28_Predicted\u001b[0m\u001b[0;34m[\u001b[0m\u001b[0;36m3\u001b[0m\u001b[0;34m]\u001b[0m\u001b[0;34m\u001b[0m\u001b[0;34m\u001b[0m\u001b[0m\n\u001b[1;32m      4\u001b[0m \u001b[0;34m\u001b[0m\u001b[0m\n\u001b[1;32m      5\u001b[0m \u001b[0mOPEX\u001b[0m \u001b[0;34m=\u001b[0m \u001b[0mdf2\u001b[0m\u001b[0;34m.\u001b[0m\u001b[0mQtr_28_Predicted\u001b[0m\u001b[0;34m[\u001b[0m\u001b[0;36m4\u001b[0m\u001b[0;34m]\u001b[0m \u001b[0;34m+\u001b[0m \u001b[0mdf2\u001b[0m\u001b[0;34m.\u001b[0m\u001b[0mQtr_28_Predicted\u001b[0m\u001b[0;34m[\u001b[0m\u001b[0;36m5\u001b[0m\u001b[0;34m]\u001b[0m \u001b[0;34m+\u001b[0m \u001b[0mdf2\u001b[0m\u001b[0;34m.\u001b[0m\u001b[0mQtr_28_Predicted\u001b[0m\u001b[0;34m[\u001b[0m\u001b[0;36m6\u001b[0m\u001b[0;34m]\u001b[0m \u001b[0;34m+\u001b[0m \u001b[0mdf2\u001b[0m\u001b[0;34m.\u001b[0m\u001b[0mQtr_28_Predicted\u001b[0m\u001b[0;34m[\u001b[0m\u001b[0;36m7\u001b[0m\u001b[0;34m]\u001b[0m \u001b[0;34m+\u001b[0m \u001b[0mdf2\u001b[0m\u001b[0;34m.\u001b[0m\u001b[0mQtr_28_Predicted\u001b[0m\u001b[0;34m[\u001b[0m\u001b[0;36m8\u001b[0m\u001b[0;34m]\u001b[0m\u001b[0;34m\u001b[0m\u001b[0;34m\u001b[0m\u001b[0m\n",
            "\u001b[0;32m/usr/local/lib/python3.6/dist-packages/pandas/core/generic.py\u001b[0m in \u001b[0;36m__getattr__\u001b[0;34m(self, name)\u001b[0m\n\u001b[1;32m   5177\u001b[0m             \u001b[0;32mif\u001b[0m \u001b[0mself\u001b[0m\u001b[0;34m.\u001b[0m\u001b[0m_info_axis\u001b[0m\u001b[0;34m.\u001b[0m\u001b[0m_can_hold_identifiers_and_holds_name\u001b[0m\u001b[0;34m(\u001b[0m\u001b[0mname\u001b[0m\u001b[0;34m)\u001b[0m\u001b[0;34m:\u001b[0m\u001b[0;34m\u001b[0m\u001b[0;34m\u001b[0m\u001b[0m\n\u001b[1;32m   5178\u001b[0m                 \u001b[0;32mreturn\u001b[0m \u001b[0mself\u001b[0m\u001b[0;34m[\u001b[0m\u001b[0mname\u001b[0m\u001b[0;34m]\u001b[0m\u001b[0;34m\u001b[0m\u001b[0;34m\u001b[0m\u001b[0m\n\u001b[0;32m-> 5179\u001b[0;31m             \u001b[0;32mreturn\u001b[0m \u001b[0mobject\u001b[0m\u001b[0;34m.\u001b[0m\u001b[0m__getattribute__\u001b[0m\u001b[0;34m(\u001b[0m\u001b[0mself\u001b[0m\u001b[0;34m,\u001b[0m \u001b[0mname\u001b[0m\u001b[0;34m)\u001b[0m\u001b[0;34m\u001b[0m\u001b[0;34m\u001b[0m\u001b[0m\n\u001b[0m\u001b[1;32m   5180\u001b[0m \u001b[0;34m\u001b[0m\u001b[0m\n\u001b[1;32m   5181\u001b[0m     \u001b[0;32mdef\u001b[0m \u001b[0m__setattr__\u001b[0m\u001b[0;34m(\u001b[0m\u001b[0mself\u001b[0m\u001b[0;34m,\u001b[0m \u001b[0mname\u001b[0m\u001b[0;34m,\u001b[0m \u001b[0mvalue\u001b[0m\u001b[0;34m)\u001b[0m\u001b[0;34m:\u001b[0m\u001b[0;34m\u001b[0m\u001b[0;34m\u001b[0m\u001b[0m\n",
            "\u001b[0;31mAttributeError\u001b[0m: 'DataFrame' object has no attribute 'Qtr_28_Predicted'"
          ]
        }
      ]
    },
    {
      "cell_type": "code",
      "metadata": {
        "id": "2HJeQncqCoUf",
        "colab_type": "code",
        "colab": {
          "base_uri": "https://localhost:8080/",
          "height": 231
        },
        "outputId": "44a5ca07-e749-4d9a-f2ed-23beca284a4d"
      },
      "source": [
        "# Plotting Values and Regression Line\n",
        "Qtr_pred = [27,28]\n",
        "predicted = [NET_INCOME1, NET_INCOME2]\n",
        "X = df['Qtr']\n",
        "max_x = np.max(X) + 1\n",
        "min_x = np.min(X) - 1\n",
        "# Calculating line values x and y\n",
        "x = np.linspace(min_x, max_x, 1000)\n",
        "y = b0 + b1 * x\n",
        "# Ploting Line\n",
        "plt.plot(x, y, color='#58b970', label='Regression Line')\n",
        "# Ploting Scatter Points\n",
        "plt.scatter(X, Y, c='blue', label='Scatter Plot')\n",
        "plt.scatter(Qtr_pred, predicted, c='red', label='Scatter Plot')\n",
        "plt.scatter(df_ypredicted['Qtr'], df_ypredicted['Predicted'], c='brown', label='Scatter Plot')\n",
        "\n",
        "plt.xlabel('Qtr')\n",
        "plt.ylabel('Net Income')\n",
        "plt.legend()\n",
        "plt.show()"
      ],
      "execution_count": 26,
      "outputs": [
        {
          "output_type": "error",
          "ename": "NameError",
          "evalue": "ignored",
          "traceback": [
            "\u001b[0;31m---------------------------------------------------------------------------\u001b[0m",
            "\u001b[0;31mNameError\u001b[0m                                 Traceback (most recent call last)",
            "\u001b[0;32m<ipython-input-26-9e250b951b2a>\u001b[0m in \u001b[0;36m<module>\u001b[0;34m()\u001b[0m\n\u001b[1;32m      1\u001b[0m \u001b[0mQtr_pred\u001b[0m \u001b[0;34m=\u001b[0m \u001b[0;34m[\u001b[0m\u001b[0;36m27\u001b[0m\u001b[0;34m,\u001b[0m\u001b[0;36m28\u001b[0m\u001b[0;34m]\u001b[0m\u001b[0;34m\u001b[0m\u001b[0;34m\u001b[0m\u001b[0m\n\u001b[0;32m----> 2\u001b[0;31m \u001b[0mpredicted\u001b[0m \u001b[0;34m=\u001b[0m \u001b[0;34m[\u001b[0m\u001b[0mNET_INCOME1\u001b[0m\u001b[0;34m,\u001b[0m \u001b[0mNET_INCOME2\u001b[0m\u001b[0;34m]\u001b[0m\u001b[0;34m\u001b[0m\u001b[0;34m\u001b[0m\u001b[0m\n\u001b[0m\u001b[1;32m      3\u001b[0m \u001b[0mX\u001b[0m \u001b[0;34m=\u001b[0m \u001b[0mdf\u001b[0m\u001b[0;34m[\u001b[0m\u001b[0;34m'Qtr'\u001b[0m\u001b[0;34m]\u001b[0m\u001b[0;34m\u001b[0m\u001b[0;34m\u001b[0m\u001b[0m\n\u001b[1;32m      4\u001b[0m \u001b[0mmax_x\u001b[0m \u001b[0;34m=\u001b[0m \u001b[0mnp\u001b[0m\u001b[0;34m.\u001b[0m\u001b[0mmax\u001b[0m\u001b[0;34m(\u001b[0m\u001b[0mX\u001b[0m\u001b[0;34m)\u001b[0m \u001b[0;34m+\u001b[0m \u001b[0;36m1\u001b[0m\u001b[0;34m\u001b[0m\u001b[0;34m\u001b[0m\u001b[0m\n\u001b[1;32m      5\u001b[0m \u001b[0mmin_x\u001b[0m \u001b[0;34m=\u001b[0m \u001b[0mnp\u001b[0m\u001b[0;34m.\u001b[0m\u001b[0mmin\u001b[0m\u001b[0;34m(\u001b[0m\u001b[0mX\u001b[0m\u001b[0;34m)\u001b[0m \u001b[0;34m-\u001b[0m \u001b[0;36m1\u001b[0m\u001b[0;34m\u001b[0m\u001b[0;34m\u001b[0m\u001b[0m\n",
            "\u001b[0;31mNameError\u001b[0m: name 'NET_INCOME1' is not defined"
          ]
        }
      ]
    },
    {
      "cell_type": "code",
      "metadata": {
        "id": "BOoQ7dJEDTYX",
        "colab_type": "code",
        "colab": {
          "base_uri": "https://localhost:8080/",
          "height": 512
        },
        "outputId": "cf0bec87-4dda-4678-85e5-263381bafdee"
      },
      "source": [
        "df2 = pd.DataFrame()\n",
        "lst_rmse = []\n",
        "lst_r2=[]\n",
        "lst_coeff = []\n",
        "lst_ypred27 = []\n",
        "lst_ypred28 = []\n",
        "Y=[]\n",
        "for column in df_item_totals:\n",
        "    X = df_item_totals['Qtr'].values\n",
        "    Y_OL = df_item_totals[column].values\n",
        "    m = len(X)\n",
        "    df2['Items'] = df_item_totals.columns\n",
        "    Y = outliers(Y_OL)\n",
        "    # Mean X and Y\n",
        "    mean_x = np.mean(X)\n",
        "    mean_y = np.mean(Y)\n",
        "    b0, b1 = coeff(X,Y)\n",
        "    lst_coeff.append([b0, b1])\n",
        "    lst_rmse.append(rms(X,Y,m))\n",
        "    lst_r2.append(r_square(X,Y))\n",
        "    lst_ypred27.append(coeff(X,Y)[0] + coeff(X,Y)[1] * 27) \n",
        "    lst_ypred28.append(coeff(X,Y)[0] + coeff(X,Y)[1] * 28) \n",
        "df2['Coefficients'] = lst_coeff\n",
        "df2['RMSE'] = lst_rmse\n",
        "df2['R_Square'] = lst_r2\n",
        "df2['Qtr_27_Predicted'] = lst_ypred27\n",
        "df2['Qtr_28_Predicted'] = lst_ypred28\n",
        "\n",
        "df2.index = df2['Items']\n",
        "df2 = df2.drop('Items', axis=1)\n",
        "df2 = df2.drop(df2.index[0])\n",
        "df2"
      ],
      "execution_count": 27,
      "outputs": [
        {
          "output_type": "execute_result",
          "data": {
            "text/html": [
              "<div>\n",
              "<style scoped>\n",
              "    .dataframe tbody tr th:only-of-type {\n",
              "        vertical-align: middle;\n",
              "    }\n",
              "\n",
              "    .dataframe tbody tr th {\n",
              "        vertical-align: top;\n",
              "    }\n",
              "\n",
              "    .dataframe thead th {\n",
              "        text-align: right;\n",
              "    }\n",
              "</style>\n",
              "<table border=\"1\" class=\"dataframe\">\n",
              "  <thead>\n",
              "    <tr style=\"text-align: right;\">\n",
              "      <th></th>\n",
              "      <th>Coefficients</th>\n",
              "      <th>RMSE</th>\n",
              "      <th>R_Square</th>\n",
              "      <th>Qtr_27_Predicted</th>\n",
              "      <th>Qtr_28_Predicted</th>\n",
              "    </tr>\n",
              "    <tr>\n",
              "      <th>Items</th>\n",
              "      <th></th>\n",
              "      <th></th>\n",
              "      <th></th>\n",
              "      <th></th>\n",
              "      <th></th>\n",
              "    </tr>\n",
              "  </thead>\n",
              "  <tbody>\n",
              "    <tr>\n",
              "      <th>Total_NETSales</th>\n",
              "      <td>[10511.770650887574, 79.78556213017751]</td>\n",
              "      <td>437.949932</td>\n",
              "      <td>0.651192</td>\n",
              "      <td>12665.980828</td>\n",
              "      <td>12745.766391</td>\n",
              "    </tr>\n",
              "    <tr>\n",
              "      <th>Total_COSTSales</th>\n",
              "      <td>[4103.432426035503, 34.007416173570014]</td>\n",
              "      <td>240.920383</td>\n",
              "      <td>0.528477</td>\n",
              "      <td>5021.632663</td>\n",
              "      <td>5055.640079</td>\n",
              "    </tr>\n",
              "    <tr>\n",
              "      <th>GROSS_MARGIN</th>\n",
              "      <td>[6548.204497041421, 41.28596975673898]</td>\n",
              "      <td>226.583438</td>\n",
              "      <td>0.651270</td>\n",
              "      <td>7662.925680</td>\n",
              "      <td>7704.211650</td>\n",
              "    </tr>\n",
              "    <tr>\n",
              "      <th>Total_OPEX</th>\n",
              "      <td>[4379.614556213018, 11.366048652202496]</td>\n",
              "      <td>209.494600</td>\n",
              "      <td>0.142055</td>\n",
              "      <td>4686.497870</td>\n",
              "      <td>4697.863918</td>\n",
              "    </tr>\n",
              "    <tr>\n",
              "      <th>OPIN</th>\n",
              "      <td>[2130.7426035502954, 29.104865220249835]</td>\n",
              "      <td>305.609540</td>\n",
              "      <td>0.337825</td>\n",
              "      <td>2916.573964</td>\n",
              "      <td>2945.678830</td>\n",
              "    </tr>\n",
              "    <tr>\n",
              "      <th>NetInterest_OtherIncome</th>\n",
              "      <td>[38.80307692307692, 0.5466929651545037]</td>\n",
              "      <td>39.146364</td>\n",
              "      <td>0.010851</td>\n",
              "      <td>53.563787</td>\n",
              "      <td>54.110480</td>\n",
              "    </tr>\n",
              "    <tr>\n",
              "      <th>INCOME_BeforeTax</th>\n",
              "      <td>[2165.472781065089, 30.6370151216305]</td>\n",
              "      <td>294.118879</td>\n",
              "      <td>0.379012</td>\n",
              "      <td>2992.672189</td>\n",
              "      <td>3023.309204</td>\n",
              "    </tr>\n",
              "    <tr>\n",
              "      <th>PROVISION_for_Income_Taxes</th>\n",
              "      <td>[394.9224852071006, 5.191913214990137]</td>\n",
              "      <td>129.381897</td>\n",
              "      <td>0.083056</td>\n",
              "      <td>535.104142</td>\n",
              "      <td>540.296055</td>\n",
              "    </tr>\n",
              "    <tr>\n",
              "      <th>NET_INCOME</th>\n",
              "      <td>[1824.8340828402368, 17.19353057199211]</td>\n",
              "      <td>232.596202</td>\n",
              "      <td>0.235100</td>\n",
              "      <td>2289.059408</td>\n",
              "      <td>2306.252939</td>\n",
              "    </tr>\n",
              "  </tbody>\n",
              "</table>\n",
              "</div>"
            ],
            "text/plain": [
              "                                                        Coefficients  ...  Qtr_28_Predicted\n",
              "Items                                                                 ...                  \n",
              "Total_NETSales               [10511.770650887574, 79.78556213017751]  ...      12745.766391\n",
              "Total_COSTSales              [4103.432426035503, 34.007416173570014]  ...       5055.640079\n",
              "GROSS_MARGIN                  [6548.204497041421, 41.28596975673898]  ...       7704.211650\n",
              "Total_OPEX                   [4379.614556213018, 11.366048652202496]  ...       4697.863918\n",
              "OPIN                        [2130.7426035502954, 29.104865220249835]  ...       2945.678830\n",
              "NetInterest_OtherIncome      [38.80307692307692, 0.5466929651545037]  ...         54.110480\n",
              "INCOME_BeforeTax               [2165.472781065089, 30.6370151216305]  ...       3023.309204\n",
              "PROVISION_for_Income_Taxes    [394.9224852071006, 5.191913214990137]  ...        540.296055\n",
              "NET_INCOME                   [1824.8340828402368, 17.19353057199211]  ...       2306.252939\n",
              "\n",
              "[9 rows x 5 columns]"
            ]
          },
          "metadata": {
            "tags": []
          },
          "execution_count": 27
        }
      ]
    },
    {
      "cell_type": "code",
      "metadata": {
        "id": "CrWBWnYnDTUY",
        "colab_type": "code",
        "colab": {
          "base_uri": "https://localhost:8080/",
          "height": 34
        },
        "outputId": "b72b6bdd-2922-4c64-ece1-44dcc0e32361"
      },
      "source": [
        "NET_INCOME1 = df2.Qtr_27_Predicted[0] - df2.Qtr_27_Predicted[1] - df2.Qtr_27_Predicted[3] + df2.Qtr_27_Predicted[5] - df2.Qtr_27_Predicted[7]\n",
        "\n",
        "\n",
        "print(\"Net Income for Qtr 27 is :\", NET_INCOME1)"
      ],
      "execution_count": 28,
      "outputs": [
        {
          "output_type": "stream",
          "text": [
            "Net Income for Qtr 27 is : 2476.3099408284024\n"
          ],
          "name": "stdout"
        }
      ]
    },
    {
      "cell_type": "code",
      "metadata": {
        "id": "UB6MEEg8DTSK",
        "colab_type": "code",
        "colab": {
          "base_uri": "https://localhost:8080/",
          "height": 34
        },
        "outputId": "80e2ec6d-a14d-4616-87ad-5c5fad5c1210"
      },
      "source": [
        "NET_INCOME2 = df2.Qtr_28_Predicted[0] - df2.Qtr_28_Predicted[1] - df2.Qtr_28_Predicted[3] + df2.Qtr_28_Predicted[5] - df2.Qtr_28_Predicted[7]\n",
        "\n",
        "\n",
        "print(\"Net Income for Qtr 28 is :\", NET_INCOME2)"
      ],
      "execution_count": 29,
      "outputs": [
        {
          "output_type": "stream",
          "text": [
            "Net Income for Qtr 28 is : 2506.076817882971\n"
          ],
          "name": "stdout"
        }
      ]
    },
    {
      "cell_type": "code",
      "metadata": {
        "id": "eua_rSeXDTQC",
        "colab_type": "code",
        "colab": {
          "base_uri": "https://localhost:8080/",
          "height": 231
        },
        "outputId": "d63085be-3118-4b8b-f1b7-d399e805cc89"
      },
      "source": [
        "# Plotting Values and Regression Line\n",
        "Qtr_pred = [27,28]\n",
        "predicted = [NET_INCOME1, NET_INCOME2]\n",
        "X = df['Qtr']\n",
        "\n",
        "# Calculating line values x and y\n",
        "x = np.linspace(min_x, max_x, 1000)\n",
        "y = b0 + b1 * x\n",
        "# Ploting Line\n",
        "plt.plot(x, y, color='#58b970', label='Regression Line')\n",
        "# Ploting Scatter Points\n",
        "plt.scatter(X, Y, c='blue', label='Scatter Plot')\n",
        "plt.scatter(Qtr_pred, predicted, c='red', label='Scatter Plot')\n",
        "plt.scatter(df_ypredicted['Qtr'], df_ypredicted['Predicted'], c='brown', label='Scatter Plot')\n",
        "\n",
        "plt.xlabel('Qtr')\n",
        "plt.ylabel('Net Income')\n",
        "plt.legend()\n",
        "plt.show()"
      ],
      "execution_count": 30,
      "outputs": [
        {
          "output_type": "error",
          "ename": "NameError",
          "evalue": "ignored",
          "traceback": [
            "\u001b[0;31m---------------------------------------------------------------------------\u001b[0m",
            "\u001b[0;31mNameError\u001b[0m                                 Traceback (most recent call last)",
            "\u001b[0;32m<ipython-input-30-b0c59ac4108f>\u001b[0m in \u001b[0;36m<module>\u001b[0;34m()\u001b[0m\n\u001b[1;32m      4\u001b[0m \u001b[0;34m\u001b[0m\u001b[0m\n\u001b[1;32m      5\u001b[0m \u001b[0;31m# Calculating line values x and y\u001b[0m\u001b[0;34m\u001b[0m\u001b[0;34m\u001b[0m\u001b[0;34m\u001b[0m\u001b[0m\n\u001b[0;32m----> 6\u001b[0;31m \u001b[0mx\u001b[0m \u001b[0;34m=\u001b[0m \u001b[0mnp\u001b[0m\u001b[0;34m.\u001b[0m\u001b[0mlinspace\u001b[0m\u001b[0;34m(\u001b[0m\u001b[0mmin_x\u001b[0m\u001b[0;34m,\u001b[0m \u001b[0mmax_x\u001b[0m\u001b[0;34m,\u001b[0m \u001b[0;36m1000\u001b[0m\u001b[0;34m)\u001b[0m\u001b[0;34m\u001b[0m\u001b[0;34m\u001b[0m\u001b[0m\n\u001b[0m\u001b[1;32m      7\u001b[0m \u001b[0my\u001b[0m \u001b[0;34m=\u001b[0m \u001b[0mb0\u001b[0m \u001b[0;34m+\u001b[0m \u001b[0mb1\u001b[0m \u001b[0;34m*\u001b[0m \u001b[0mx\u001b[0m\u001b[0;34m\u001b[0m\u001b[0;34m\u001b[0m\u001b[0m\n\u001b[1;32m      8\u001b[0m \u001b[0;31m# Ploting Line\u001b[0m\u001b[0;34m\u001b[0m\u001b[0;34m\u001b[0m\u001b[0;34m\u001b[0m\u001b[0m\n",
            "\u001b[0;31mNameError\u001b[0m: name 'min_x' is not defined"
          ]
        }
      ]
    },
    {
      "cell_type": "code",
      "metadata": {
        "id": "3D5KDJyFDque",
        "colab_type": "code",
        "colab": {
          "base_uri": "https://localhost:8080/",
          "height": 918
        },
        "outputId": "97a17699-92d7-4658-e150-c41d7dffb6ba"
      },
      "source": [
        "df3 = pd.DataFrame()\n",
        "lst_rmse = []\n",
        "lst_r2=[]\n",
        "lst_coeff = []\n",
        "lst_ypred27 = []\n",
        "lst_ypred28 = []\n",
        "lst_y_pred = []\n",
        "Y=[]\n",
        "X = df['GROSS_MARGIN'].values\n",
        "Y_OL = df['NET_INCOME'].values\n",
        "Y = outliers(Y_OL)\n",
        "m = len(X)\n",
        "# Mean X and Y\n",
        "mean_x = np.mean(X)\n",
        "mean_y = np.mean(Y)\n",
        "b0, b1 = coeff(X,Y)\n",
        "lst_coeff.append([b0, b1])\n",
        "lst_rmse.append(rms(X,Y,m))\n",
        "lst_r2.append(r_square(X,Y))\n",
        "lst_ypred27.append(coeff(X,Y)[0] + coeff(X,Y)[1] * 7664.426561) \n",
        "lst_ypred28.append(coeff(X,Y)[0] + coeff(X,Y)[1] * 7712.078297) \n",
        "df3['Coefficients'] = lst_coeff\n",
        "df3['RMSE'] = lst_rmse\n",
        "df3['R_Square'] = lst_r2\n",
        "df3['Qtr_27_Predicted'] = lst_ypred27\n",
        "df3['Qtr_28_Predicted'] = lst_ypred28\n",
        "\n",
        "for i in range(m):\n",
        "    y_pred = b0 + b1 * X[i]\n",
        "    lst_y_pred.append(y_pred)\n",
        "\n",
        "df_Gross_Margin = pd.DataFrame()\n",
        "df_Gross_Margin['Qtr']= df['Qtr']\n",
        "df_Gross_Margin['GROSS_MARGIN'] = df['GROSS_MARGIN'] \n",
        "df_Gross_Margin['NET_INCOME'] = Y \n",
        "df_Gross_Margin['NET_INCOME_Predicted'] = lst_y_pred\n",
        "\n",
        "df_Gross_Margin\n",
        "\n",
        "df3"
      ],
      "execution_count": 31,
      "outputs": [
        {
          "output_type": "execute_result",
          "data": {
            "text/html": [
              "<div>\n",
              "<style scoped>\n",
              "    .dataframe tbody tr th:only-of-type {\n",
              "        vertical-align: middle;\n",
              "    }\n",
              "\n",
              "    .dataframe tbody tr th {\n",
              "        vertical-align: top;\n",
              "    }\n",
              "\n",
              "    .dataframe thead th {\n",
              "        text-align: right;\n",
              "    }\n",
              "</style>\n",
              "<table border=\"1\" class=\"dataframe\">\n",
              "  <thead>\n",
              "    <tr style=\"text-align: right;\">\n",
              "      <th></th>\n",
              "      <th>Qtr</th>\n",
              "      <th>GROSS_MARGIN</th>\n",
              "      <th>NET_INCOME</th>\n",
              "      <th>NET_INCOME_Predicted</th>\n",
              "    </tr>\n",
              "  </thead>\n",
              "  <tbody>\n",
              "    <tr>\n",
              "      <th>1</th>\n",
              "      <td>1</td>\n",
              "      <td>5888</td>\n",
              "      <td>1787.000000</td>\n",
              "      <td>1588.410348</td>\n",
              "    </tr>\n",
              "    <tr>\n",
              "      <th>2</th>\n",
              "      <td>2</td>\n",
              "      <td>6332</td>\n",
              "      <td>1853.000000</td>\n",
              "      <td>1772.045310</td>\n",
              "    </tr>\n",
              "    <tr>\n",
              "      <th>3</th>\n",
              "      <td>3</td>\n",
              "      <td>6630</td>\n",
              "      <td>2192.000000</td>\n",
              "      <td>1895.295803</td>\n",
              "    </tr>\n",
              "    <tr>\n",
              "      <th>4</th>\n",
              "      <td>4</td>\n",
              "      <td>6793</td>\n",
              "      <td>1935.000000</td>\n",
              "      <td>1962.711341</td>\n",
              "    </tr>\n",
              "    <tr>\n",
              "      <th>5</th>\n",
              "      <td>5</td>\n",
              "      <td>6755</td>\n",
              "      <td>1930.000000</td>\n",
              "      <td>1946.994835</td>\n",
              "    </tr>\n",
              "    <tr>\n",
              "      <th>6</th>\n",
              "      <td>6</td>\n",
              "      <td>6261</td>\n",
              "      <td>1521.000000</td>\n",
              "      <td>1742.680260</td>\n",
              "    </tr>\n",
              "    <tr>\n",
              "      <th>7</th>\n",
              "      <td>7</td>\n",
              "      <td>6659</td>\n",
              "      <td>1807.000000</td>\n",
              "      <td>1907.289978</td>\n",
              "    </tr>\n",
              "    <tr>\n",
              "      <th>8</th>\n",
              "      <td>8</td>\n",
              "      <td>6861</td>\n",
              "      <td>2103.538462</td>\n",
              "      <td>1990.835614</td>\n",
              "    </tr>\n",
              "    <tr>\n",
              "      <th>9</th>\n",
              "      <td>9</td>\n",
              "      <td>6890</td>\n",
              "      <td>1777.000000</td>\n",
              "      <td>2002.829790</td>\n",
              "    </tr>\n",
              "    <tr>\n",
              "      <th>10</th>\n",
              "      <td>10</td>\n",
              "      <td>7065</td>\n",
              "      <td>2182.000000</td>\n",
              "      <td>2075.208434</td>\n",
              "    </tr>\n",
              "    <tr>\n",
              "      <th>11</th>\n",
              "      <td>11</td>\n",
              "      <td>7169</td>\n",
              "      <td>2165.000000</td>\n",
              "      <td>2118.222029</td>\n",
              "    </tr>\n",
              "    <tr>\n",
              "      <th>12</th>\n",
              "      <td>12</td>\n",
              "      <td>7085</td>\n",
              "      <td>1917.000000</td>\n",
              "      <td>2083.480280</td>\n",
              "    </tr>\n",
              "    <tr>\n",
              "      <th>13</th>\n",
              "      <td>13</td>\n",
              "      <td>7239</td>\n",
              "      <td>2092.000000</td>\n",
              "      <td>2147.173487</td>\n",
              "    </tr>\n",
              "    <tr>\n",
              "      <th>14</th>\n",
              "      <td>14</td>\n",
              "      <td>7343</td>\n",
              "      <td>2103.538462</td>\n",
              "      <td>2190.187082</td>\n",
              "    </tr>\n",
              "    <tr>\n",
              "      <th>15</th>\n",
              "      <td>15</td>\n",
              "      <td>7511</td>\n",
              "      <td>2478.000000</td>\n",
              "      <td>2259.670581</td>\n",
              "    </tr>\n",
              "    <tr>\n",
              "      <th>16</th>\n",
              "      <td>16</td>\n",
              "      <td>7347</td>\n",
              "      <td>2270.000000</td>\n",
              "      <td>2191.841451</td>\n",
              "    </tr>\n",
              "    <tr>\n",
              "      <th>17</th>\n",
              "      <td>17</td>\n",
              "      <td>7407</td>\n",
              "      <td>1996.000000</td>\n",
              "      <td>2216.656986</td>\n",
              "    </tr>\n",
              "    <tr>\n",
              "      <th>18</th>\n",
              "      <td>18</td>\n",
              "      <td>5951</td>\n",
              "      <td>1429.000000</td>\n",
              "      <td>1614.466660</td>\n",
              "    </tr>\n",
              "    <tr>\n",
              "      <th>19</th>\n",
              "      <td>19</td>\n",
              "      <td>7006</td>\n",
              "      <td>2181.000000</td>\n",
              "      <td>2050.806491</td>\n",
              "    </tr>\n",
              "    <tr>\n",
              "      <th>20</th>\n",
              "      <td>20</td>\n",
              "      <td>7405</td>\n",
              "      <td>2247.000000</td>\n",
              "      <td>2215.829802</td>\n",
              "    </tr>\n",
              "    <tr>\n",
              "      <th>21</th>\n",
              "      <td>21</td>\n",
              "      <td>7333</td>\n",
              "      <td>1828.000000</td>\n",
              "      <td>2186.051159</td>\n",
              "    </tr>\n",
              "    <tr>\n",
              "      <th>22</th>\n",
              "      <td>22</td>\n",
              "      <td>7090</td>\n",
              "      <td>2397.000000</td>\n",
              "      <td>2085.548241</td>\n",
              "    </tr>\n",
              "    <tr>\n",
              "      <th>23</th>\n",
              "      <td>23</td>\n",
              "      <td>7525</td>\n",
              "      <td>2437.000000</td>\n",
              "      <td>2265.460873</td>\n",
              "    </tr>\n",
              "    <tr>\n",
              "      <th>24</th>\n",
              "      <td>24</td>\n",
              "      <td>7733</td>\n",
              "      <td>2319.000000</td>\n",
              "      <td>2351.488062</td>\n",
              "    </tr>\n",
              "    <tr>\n",
              "      <th>25</th>\n",
              "      <td>25</td>\n",
              "      <td>7832</td>\n",
              "      <td>2430.000000</td>\n",
              "      <td>2392.433695</td>\n",
              "    </tr>\n",
              "    <tr>\n",
              "      <th>26</th>\n",
              "      <td>26</td>\n",
              "      <td>7432</td>\n",
              "      <td>2103.538462</td>\n",
              "      <td>2226.996793</td>\n",
              "    </tr>\n",
              "  </tbody>\n",
              "</table>\n",
              "</div>"
            ],
            "text/plain": [
              "    Qtr GROSS_MARGIN   NET_INCOME  NET_INCOME_Predicted\n",
              "1     1         5888  1787.000000           1588.410348\n",
              "2     2         6332  1853.000000           1772.045310\n",
              "3     3         6630  2192.000000           1895.295803\n",
              "4     4         6793  1935.000000           1962.711341\n",
              "5     5         6755  1930.000000           1946.994835\n",
              "6     6         6261  1521.000000           1742.680260\n",
              "7     7         6659  1807.000000           1907.289978\n",
              "8     8         6861  2103.538462           1990.835614\n",
              "9     9         6890  1777.000000           2002.829790\n",
              "10   10         7065  2182.000000           2075.208434\n",
              "11   11         7169  2165.000000           2118.222029\n",
              "12   12         7085  1917.000000           2083.480280\n",
              "13   13         7239  2092.000000           2147.173487\n",
              "14   14         7343  2103.538462           2190.187082\n",
              "15   15         7511  2478.000000           2259.670581\n",
              "16   16         7347  2270.000000           2191.841451\n",
              "17   17         7407  1996.000000           2216.656986\n",
              "18   18         5951  1429.000000           1614.466660\n",
              "19   19         7006  2181.000000           2050.806491\n",
              "20   20         7405  2247.000000           2215.829802\n",
              "21   21         7333  1828.000000           2186.051159\n",
              "22   22         7090  2397.000000           2085.548241\n",
              "23   23         7525  2437.000000           2265.460873\n",
              "24   24         7733  2319.000000           2351.488062\n",
              "25   25         7832  2430.000000           2392.433695\n",
              "26   26         7432  2103.538462           2226.996793"
            ]
          },
          "metadata": {
            "tags": []
          },
          "execution_count": 31
        },
        {
          "output_type": "execute_result",
          "data": {
            "text/html": [
              "<div>\n",
              "<style scoped>\n",
              "    .dataframe tbody tr th:only-of-type {\n",
              "        vertical-align: middle;\n",
              "    }\n",
              "\n",
              "    .dataframe tbody tr th {\n",
              "        vertical-align: top;\n",
              "    }\n",
              "\n",
              "    .dataframe thead th {\n",
              "        text-align: right;\n",
              "    }\n",
              "</style>\n",
              "<table border=\"1\" class=\"dataframe\">\n",
              "  <thead>\n",
              "    <tr style=\"text-align: right;\">\n",
              "      <th></th>\n",
              "      <th>Coefficients</th>\n",
              "      <th>RMSE</th>\n",
              "      <th>R_Square</th>\n",
              "      <th>Qtr_27_Predicted</th>\n",
              "      <th>Qtr_28_Predicted</th>\n",
              "    </tr>\n",
              "  </thead>\n",
              "  <tbody>\n",
              "    <tr>\n",
              "      <th>0</th>\n",
              "      <td>[-846.8208593239965, 0.4135922567246951]</td>\n",
              "      <td>168.359306</td>\n",
              "      <td>0.59925</td>\n",
              "      <td>2323.126619</td>\n",
              "      <td>2342.835008</td>\n",
              "    </tr>\n",
              "  </tbody>\n",
              "</table>\n",
              "</div>"
            ],
            "text/plain": [
              "                               Coefficients  ...  Qtr_28_Predicted\n",
              "0  [-846.8208593239965, 0.4135922567246951]  ...       2342.835008\n",
              "\n",
              "[1 rows x 5 columns]"
            ]
          },
          "metadata": {
            "tags": []
          },
          "execution_count": 31
        }
      ]
    },
    {
      "cell_type": "code",
      "metadata": {
        "id": "YGdlis_nDqrK",
        "colab_type": "code",
        "colab": {
          "base_uri": "https://localhost:8080/",
          "height": 695
        },
        "outputId": "a4d9ae2f-36cb-44a3-87df-a48fae9384a2"
      },
      "source": [
        "plt.plot(df_Gross_Margin['NET_INCOME'])\n",
        "plt.plot(df_Gross_Margin['NET_INCOME_Predicted'])\n",
        "plt.title(\"Actual Net Income vs Predicted Net Income\")\n",
        "plt.xlabel('Actual Net Income')\n",
        "plt.ylabel('Predicted Net Income')\n",
        "plt.legend()"
      ],
      "execution_count": 32,
      "outputs": [
        {
          "output_type": "execute_result",
          "data": {
            "text/plain": [
              "[<matplotlib.lines.Line2D at 0x7f7a319f1080>]"
            ]
          },
          "metadata": {
            "tags": []
          },
          "execution_count": 32
        },
        {
          "output_type": "execute_result",
          "data": {
            "text/plain": [
              "[<matplotlib.lines.Line2D at 0x7f7a31a334e0>]"
            ]
          },
          "metadata": {
            "tags": []
          },
          "execution_count": 32
        },
        {
          "output_type": "execute_result",
          "data": {
            "text/plain": [
              "Text(0.5, 1.0, 'Actual Net Income vs Predicted Net Income')"
            ]
          },
          "metadata": {
            "tags": []
          },
          "execution_count": 32
        },
        {
          "output_type": "execute_result",
          "data": {
            "text/plain": [
              "Text(0.5, 0, 'Actual Net Income')"
            ]
          },
          "metadata": {
            "tags": []
          },
          "execution_count": 32
        },
        {
          "output_type": "execute_result",
          "data": {
            "text/plain": [
              "Text(0, 0.5, 'Predicted Net Income')"
            ]
          },
          "metadata": {
            "tags": []
          },
          "execution_count": 32
        },
        {
          "output_type": "stream",
          "text": [
            "No handles with labels found to put in legend.\n"
          ],
          "name": "stderr"
        },
        {
          "output_type": "execute_result",
          "data": {
            "text/plain": [
              "<matplotlib.legend.Legend at 0x7f7a319d4b38>"
            ]
          },
          "metadata": {
            "tags": []
          },
          "execution_count": 32
        },
        {
          "output_type": "display_data",
          "data": {
            "image/png": "[encoded data removed]",
            "text/plain": [
              "<Figure size 1440x720 with 1 Axes>"
            ]
          },
          "metadata": {
            "tags": []
          }
        }
      ]
    },
    {
      "cell_type": "code",
      "metadata": {
        "id": "c6h-r4p6DqpD",
        "colab_type": "code",
        "colab": {}
      },
      "source": [
        "#implement linear regression\n",
        "from sklearn.linear_model import LinearRegression\n",
        "from sklearn.model_selection import train_test_split\n",
        "from sklearn.metrics import mean_squared_error\n",
        "from sklearn.metrics import r2_score"
      ],
      "execution_count": 0,
      "outputs": []
    },
    {
      "cell_type": "code",
      "metadata": {
        "id": "CKtm-58bENWA",
        "colab_type": "code",
        "colab": {}
      },
      "source": [
        "X =  df_items.iloc[:,1:14]\n",
        "Y =  df_items.iloc[:,14:]"
      ],
      "execution_count": 0,
      "outputs": []
    },
    {
      "cell_type": "code",
      "metadata": {
        "id": "3BexC4NuENat",
        "colab_type": "code",
        "colab": {}
      },
      "source": [
        "\n",
        "X_train, X_test, y_train, y_test = train_test_split(X,y,test_size=0.3,  random_state=None, shuffle=False)"
      ],
      "execution_count": 0,
      "outputs": []
    },
    {
      "cell_type": "code",
      "metadata": {
        "id": "xZDrr2gbENUC",
        "colab_type": "code",
        "colab": {
          "base_uri": "https://localhost:8080/",
          "height": 394
        },
        "outputId": "e3ac6549-b6fa-4eb3-8bea-f4d347f743a0"
      },
      "source": [
        "slr = LinearRegression()\n",
        "slr.fit(X_train,y_train)\n",
        "\n",
        "#make predictions and find the rmse\n",
        "\n",
        "y_pred = slr.predict(X_test)\n",
        "\n",
        "# Model Evaluation\n",
        "rmse = np.sqrt(mean_squared_error(y_test, y_pred))\n",
        "r2 = r2_score(y_test, y_pred)\n",
        "\n",
        "print(\"RMSE Value :\", rmse)\n",
        "print(\"R-Squared Value :\", r2)"
      ],
      "execution_count": 42,
      "outputs": [
        {
          "output_type": "error",
          "ename": "ValueError",
          "evalue": "ignored",
          "traceback": [
            "\u001b[0;31m---------------------------------------------------------------------------\u001b[0m",
            "\u001b[0;31mValueError\u001b[0m                                Traceback (most recent call last)",
            "\u001b[0;32m<ipython-input-42-4cea3b827b93>\u001b[0m in \u001b[0;36m<module>\u001b[0;34m()\u001b[0m\n\u001b[1;32m      1\u001b[0m \u001b[0mslr\u001b[0m \u001b[0;34m=\u001b[0m \u001b[0mLinearRegression\u001b[0m\u001b[0;34m(\u001b[0m\u001b[0;34m)\u001b[0m\u001b[0;34m\u001b[0m\u001b[0;34m\u001b[0m\u001b[0m\n\u001b[0;32m----> 2\u001b[0;31m \u001b[0mslr\u001b[0m\u001b[0;34m.\u001b[0m\u001b[0mfit\u001b[0m\u001b[0;34m(\u001b[0m\u001b[0mX_train\u001b[0m\u001b[0;34m,\u001b[0m\u001b[0my_train\u001b[0m\u001b[0;34m)\u001b[0m\u001b[0;34m\u001b[0m\u001b[0;34m\u001b[0m\u001b[0m\n\u001b[0m\u001b[1;32m      3\u001b[0m \u001b[0;34m\u001b[0m\u001b[0m\n\u001b[1;32m      4\u001b[0m \u001b[0;31m#make predictions and find the rmse\u001b[0m\u001b[0;34m\u001b[0m\u001b[0;34m\u001b[0m\u001b[0;34m\u001b[0m\u001b[0m\n\u001b[1;32m      5\u001b[0m \u001b[0;34m\u001b[0m\u001b[0m\n",
            "\u001b[0;32m/usr/local/lib/python3.6/dist-packages/sklearn/linear_model/base.py\u001b[0m in \u001b[0;36mfit\u001b[0;34m(self, X, y, sample_weight)\u001b[0m\n\u001b[1;32m    461\u001b[0m         \u001b[0mn_jobs_\u001b[0m \u001b[0;34m=\u001b[0m \u001b[0mself\u001b[0m\u001b[0;34m.\u001b[0m\u001b[0mn_jobs\u001b[0m\u001b[0;34m\u001b[0m\u001b[0;34m\u001b[0m\u001b[0m\n\u001b[1;32m    462\u001b[0m         X, y = check_X_y(X, y, accept_sparse=['csr', 'csc', 'coo'],\n\u001b[0;32m--> 463\u001b[0;31m                          y_numeric=True, multi_output=True)\n\u001b[0m\u001b[1;32m    464\u001b[0m \u001b[0;34m\u001b[0m\u001b[0m\n\u001b[1;32m    465\u001b[0m         \u001b[0;32mif\u001b[0m \u001b[0msample_weight\u001b[0m \u001b[0;32mis\u001b[0m \u001b[0;32mnot\u001b[0m \u001b[0;32mNone\u001b[0m \u001b[0;32mand\u001b[0m \u001b[0mnp\u001b[0m\u001b[0;34m.\u001b[0m\u001b[0matleast_1d\u001b[0m\u001b[0;34m(\u001b[0m\u001b[0msample_weight\u001b[0m\u001b[0;34m)\u001b[0m\u001b[0;34m.\u001b[0m\u001b[0mndim\u001b[0m \u001b[0;34m>\u001b[0m \u001b[0;36m1\u001b[0m\u001b[0;34m:\u001b[0m\u001b[0;34m\u001b[0m\u001b[0;34m\u001b[0m\u001b[0m\n",
            "\u001b[0;32m/usr/local/lib/python3.6/dist-packages/sklearn/utils/validation.py\u001b[0m in \u001b[0;36mcheck_X_y\u001b[0;34m(X, y, accept_sparse, accept_large_sparse, dtype, order, copy, force_all_finite, ensure_2d, allow_nd, multi_output, ensure_min_samples, ensure_min_features, y_numeric, warn_on_dtype, estimator)\u001b[0m\n\u001b[1;32m    717\u001b[0m                     \u001b[0mensure_min_features\u001b[0m\u001b[0;34m=\u001b[0m\u001b[0mensure_min_features\u001b[0m\u001b[0;34m,\u001b[0m\u001b[0;34m\u001b[0m\u001b[0;34m\u001b[0m\u001b[0m\n\u001b[1;32m    718\u001b[0m                     \u001b[0mwarn_on_dtype\u001b[0m\u001b[0;34m=\u001b[0m\u001b[0mwarn_on_dtype\u001b[0m\u001b[0;34m,\u001b[0m\u001b[0;34m\u001b[0m\u001b[0;34m\u001b[0m\u001b[0m\n\u001b[0;32m--> 719\u001b[0;31m                     estimator=estimator)\n\u001b[0m\u001b[1;32m    720\u001b[0m     \u001b[0;32mif\u001b[0m \u001b[0mmulti_output\u001b[0m\u001b[0;34m:\u001b[0m\u001b[0;34m\u001b[0m\u001b[0;34m\u001b[0m\u001b[0m\n\u001b[1;32m    721\u001b[0m         y = check_array(y, 'csr', force_all_finite=True, ensure_2d=False,\n",
            "\u001b[0;32m/usr/local/lib/python3.6/dist-packages/sklearn/utils/validation.py\u001b[0m in \u001b[0;36mcheck_array\u001b[0;34m(array, accept_sparse, accept_large_sparse, dtype, order, copy, force_all_finite, ensure_2d, allow_nd, ensure_min_samples, ensure_min_features, warn_on_dtype, estimator)\u001b[0m\n\u001b[1;32m    534\u001b[0m         \u001b[0;31m# make sure we actually converted to numeric:\u001b[0m\u001b[0;34m\u001b[0m\u001b[0;34m\u001b[0m\u001b[0;34m\u001b[0m\u001b[0m\n\u001b[1;32m    535\u001b[0m         \u001b[0;32mif\u001b[0m \u001b[0mdtype_numeric\u001b[0m \u001b[0;32mand\u001b[0m \u001b[0marray\u001b[0m\u001b[0;34m.\u001b[0m\u001b[0mdtype\u001b[0m\u001b[0;34m.\u001b[0m\u001b[0mkind\u001b[0m \u001b[0;34m==\u001b[0m \u001b[0;34m\"O\"\u001b[0m\u001b[0;34m:\u001b[0m\u001b[0;34m\u001b[0m\u001b[0;34m\u001b[0m\u001b[0m\n\u001b[0;32m--> 536\u001b[0;31m             \u001b[0marray\u001b[0m \u001b[0;34m=\u001b[0m \u001b[0marray\u001b[0m\u001b[0;34m.\u001b[0m\u001b[0mastype\u001b[0m\u001b[0;34m(\u001b[0m\u001b[0mnp\u001b[0m\u001b[0;34m.\u001b[0m\u001b[0mfloat64\u001b[0m\u001b[0;34m)\u001b[0m\u001b[0;34m\u001b[0m\u001b[0;34m\u001b[0m\u001b[0m\n\u001b[0m\u001b[1;32m    537\u001b[0m         \u001b[0;32mif\u001b[0m \u001b[0;32mnot\u001b[0m \u001b[0mallow_nd\u001b[0m \u001b[0;32mand\u001b[0m \u001b[0marray\u001b[0m\u001b[0;34m.\u001b[0m\u001b[0mndim\u001b[0m \u001b[0;34m>=\u001b[0m \u001b[0;36m3\u001b[0m\u001b[0;34m:\u001b[0m\u001b[0;34m\u001b[0m\u001b[0;34m\u001b[0m\u001b[0m\n\u001b[1;32m    538\u001b[0m             raise ValueError(\"Found array with dim %d. %s expected <= 2.\"\n",
            "\u001b[0;31mValueError\u001b[0m: could not convert string to float: ' $-   '"
          ]
        }
      ]
    },
    {
      "cell_type": "code",
      "metadata": {
        "id": "0evAbMJ-EXue",
        "colab_type": "code",
        "colab": {}
      },
      "source": [
        ""
      ],
      "execution_count": 0,
      "outputs": []
    },
    {
      "cell_type": "code",
      "metadata": {
        "id": "NqvBHZgFEXzC",
        "colab_type": "code",
        "colab": {}
      },
      "source": [
        ""
      ],
      "execution_count": 0,
      "outputs": []
    },
    {
      "cell_type": "code",
      "metadata": {
        "id": "lEc-ucK9EXsa",
        "colab_type": "code",
        "colab": {}
      },
      "source": [
        ""
      ],
      "execution_count": 0,
      "outputs": []
    },
    {
      "cell_type": "code",
      "metadata": {
        "id": "zBXBziDEENR5",
        "colab_type": "code",
        "colab": {}
      },
      "source": [
        ""
      ],
      "execution_count": 0,
      "outputs": []
    }
  ]
}