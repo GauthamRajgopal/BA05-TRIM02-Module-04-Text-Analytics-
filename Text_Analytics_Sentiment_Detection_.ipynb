{
  "nbformat": 4,
  "nbformat_minor": 0,
  "metadata": {
    "colab": {
      "name": "Text Analytics Sentiment Detection .ipynb",
      "version": "0.3.2",
      "provenance": [],
      "collapsed_sections": []
    },
    "kernelspec": {
      "name": "python3",
      "display_name": "Python 3"
    }
  },
  "cells": [
    {
      "cell_type": "code",
      "metadata": {
        "id": "8Fhc-ZHq2ZBg",
        "colab_type": "code",
        "colab": {}
      },
      "source": [
        " import nltk "
      ],
      "execution_count": 0,
      "outputs": []
    },
    {
      "cell_type": "code",
      "metadata": {
        "id": "ztnuLIDl2iCb",
        "colab_type": "code",
        "colab": {}
      },
      "source": [
        "import matplotlib.pyplot as plt \n",
        "from wordcloud import WordCloud\n"
      ],
      "execution_count": 0,
      "outputs": []
    },
    {
      "cell_type": "code",
      "metadata": {
        "id": "SxoUDtQG1s3H",
        "colab_type": "code",
        "colab": {
          "base_uri": "https://localhost:8080/",
          "height": 51
        },
        "outputId": "628b474c-2bf2-46ca-9de0-0101becae6d0"
      },
      "source": [
        "#Tokenization \n",
        "sampleString = \"Hello World\" \n",
        "print(sampleString) \n",
        "timeToday = \"04,July, 2018\" \n",
        "print(timeToday)"
      ],
      "execution_count": 3,
      "outputs": [
        {
          "output_type": "stream",
          "text": [
            "Hello World\n",
            "04,July, 2018\n"
          ],
          "name": "stdout"
        }
      ]
    },
    {
      "cell_type": "code",
      "metadata": {
        "id": "PlFViF2_2ZEB",
        "colab_type": "code",
        "colab": {
          "base_uri": "https://localhost:8080/",
          "height": 51
        },
        "outputId": "88f76139-ecaf-4169-f7ca-c626ef4faeaa"
      },
      "source": [
        "#Tokenize \n",
        "print(sampleString.split()) \n",
        "print(timeToday.split(','))\n"
      ],
      "execution_count": 4,
      "outputs": [
        {
          "output_type": "stream",
          "text": [
            "['Hello', 'World']\n",
            "['04', 'July', ' 2018']\n"
          ],
          "name": "stdout"
        }
      ]
    },
    {
      "cell_type": "code",
      "metadata": {
        "id": "cp3cQl5721i3",
        "colab_type": "code",
        "colab": {}
      },
      "source": [
        " string = \"Who is the PM of India ? you know it!!\"\n"
      ],
      "execution_count": 0,
      "outputs": []
    },
    {
      "cell_type": "code",
      "metadata": {
        "id": "GQFIeDBn21lR",
        "colab_type": "code",
        "colab": {
          "base_uri": "https://localhost:8080/",
          "height": 34
        },
        "outputId": "ee109c93-92b7-4de8-cba3-1018e8368ac8"
      },
      "source": [
        " print(string.split())\n"
      ],
      "execution_count": 6,
      "outputs": [
        {
          "output_type": "stream",
          "text": [
            "['Who', 'is', 'the', 'PM', 'of', 'India', '?', 'you', 'know', 'it!!']\n"
          ],
          "name": "stdout"
        }
      ]
    },
    {
      "cell_type": "code",
      "metadata": {
        "id": "QKtkGDLI21oD",
        "colab_type": "code",
        "colab": {}
      },
      "source": [
        " stop_words = ['who', 'is', 'the', 'of', 'you', 'know', 'it!!', '?']\n"
      ],
      "execution_count": 0,
      "outputs": []
    },
    {
      "cell_type": "code",
      "metadata": {
        "id": "2Cvs9vvD21rL",
        "colab_type": "code",
        "colab": {
          "base_uri": "https://localhost:8080/",
          "height": 34
        },
        "outputId": "12952191-28a8-48ce-845f-9a858904ca7d"
      },
      "source": [
        " print(stop_words)\n"
      ],
      "execution_count": 8,
      "outputs": [
        {
          "output_type": "stream",
          "text": [
            "['who', 'is', 'the', 'of', 'you', 'know', 'it!!', '?']\n"
          ],
          "name": "stdout"
        }
      ]
    },
    {
      "cell_type": "code",
      "metadata": {
        "id": "9CeaNMCx3Hb2",
        "colab_type": "code",
        "colab": {
          "base_uri": "https://localhost:8080/",
          "height": 51
        },
        "outputId": "f3d87151-feb6-4c1a-be9e-0b2ed634ba81"
      },
      "source": [
        "refined_str = [] \n",
        "for word in string.split():    \n",
        "  if word.lower() in stop_words:        \n",
        "    pass    \n",
        "  else:        \n",
        "    refined_str.append(word) \n",
        "    print(refined_str)"
      ],
      "execution_count": 9,
      "outputs": [
        {
          "output_type": "stream",
          "text": [
            "['PM']\n",
            "['PM', 'India']\n"
          ],
          "name": "stdout"
        }
      ]
    },
    {
      "cell_type": "code",
      "metadata": {
        "id": "RvfOYtr-3Hd3",
        "colab_type": "code",
        "colab": {
          "base_uri": "https://localhost:8080/",
          "height": 34
        },
        "outputId": "b02a8c43-fa39-426e-c356-b8787d6e4237"
      },
      "source": [
        "#Sentence tokenization \n",
        "sampleString2 = \"India got it's independence in 1947. However, it is not yet clear, the progess of nation compared to China.\" \n",
        "print(sampleString2)"
      ],
      "execution_count": 10,
      "outputs": [
        {
          "output_type": "stream",
          "text": [
            "India got it's independence in 1947. However, it is not yet clear, the progess of nation compared to China.\n"
          ],
          "name": "stdout"
        }
      ]
    },
    {
      "cell_type": "code",
      "metadata": {
        "id": "SbG2tIl_4H5n",
        "colab_type": "code",
        "colab": {
          "base_uri": "https://localhost:8080/",
          "height": 34
        },
        "outputId": "d8652252-0861-4e97-b23b-1411efc6ca4c"
      },
      "source": [
        "first_split = sampleString2.split(\".\") \n",
        "print(first_split)\n"
      ],
      "execution_count": 11,
      "outputs": [
        {
          "output_type": "stream",
          "text": [
            "[\"India got it's independence in 1947\", ' However, it is not yet clear, the progess of nation compared to China', '']\n"
          ],
          "name": "stdout"
        }
      ]
    },
    {
      "cell_type": "code",
      "metadata": {
        "id": "8wMAz3y84H8e",
        "colab_type": "code",
        "colab": {
          "base_uri": "https://localhost:8080/",
          "height": 68
        },
        "outputId": "187ba6ed-3c1a-4969-fd6f-6f9f101adbe2"
      },
      "source": [
        "second_split = [] \n",
        "for sent in first_split:    \n",
        "  temp = sent.split(',')    \n",
        "  second_split.append(temp) \n",
        "  print(second_split)"
      ],
      "execution_count": 12,
      "outputs": [
        {
          "output_type": "stream",
          "text": [
            "[[\"India got it's independence in 1947\"]]\n",
            "[[\"India got it's independence in 1947\"], [' However', ' it is not yet clear', ' the progess of nation compared to China']]\n",
            "[[\"India got it's independence in 1947\"], [' However', ' it is not yet clear', ' the progess of nation compared to China'], ['']]\n"
          ],
          "name": "stdout"
        }
      ]
    },
    {
      "cell_type": "code",
      "metadata": {
        "id": "JcMt1i2l4IAU",
        "colab_type": "code",
        "colab": {
          "base_uri": "https://localhost:8080/",
          "height": 102
        },
        "outputId": "09584d67-04db-4f90-d250-7d7369e875f5"
      },
      "source": [
        "for xyz in second_split:    \n",
        "  for sent in xyz:        \n",
        "    print(sent.split())\n"
      ],
      "execution_count": 13,
      "outputs": [
        {
          "output_type": "stream",
          "text": [
            "['India', 'got', \"it's\", 'independence', 'in', '1947']\n",
            "['However']\n",
            "['it', 'is', 'not', 'yet', 'clear']\n",
            "['the', 'progess', 'of', 'nation', 'compared', 'to', 'China']\n",
            "[]\n"
          ],
          "name": "stdout"
        }
      ]
    },
    {
      "cell_type": "code",
      "metadata": {
        "id": "llCt1wIv4H3f",
        "colab_type": "code",
        "colab": {}
      },
      "source": [
        "text = \"this's a sent tokenize test. this is sent two.is this sent three? sent 4 is cool! Now it’s your turn.\"\n"
      ],
      "execution_count": 0,
      "outputs": []
    },
    {
      "cell_type": "code",
      "metadata": {
        "id": "qg0ua6Zm35n3",
        "colab_type": "code",
        "colab": {
          "base_uri": "https://localhost:8080/",
          "height": 34
        },
        "outputId": "c651208f-be95-4fca-dfc4-2dd6b7ecc276"
      },
      "source": [
        " print(text.split(\".\"))\n"
      ],
      "execution_count": 15,
      "outputs": [
        {
          "output_type": "stream",
          "text": [
            "[\"this's a sent tokenize test\", ' this is sent two', 'is this sent three? sent 4 is cool! Now it’s your turn', '']\n"
          ],
          "name": "stdout"
        }
      ]
    },
    {
      "cell_type": "code",
      "metadata": {
        "id": "U2IYztRI35qo",
        "colab_type": "code",
        "colab": {
          "base_uri": "https://localhost:8080/",
          "height": 1000
        },
        "outputId": "c6287200-8570-40b8-8cd5-029426c4c88c"
      },
      "source": [
        "#Download required text processing packages \n",
        "import nltk \n",
        "nltk.download()"
      ],
      "execution_count": 16,
      "outputs": [
        {
          "output_type": "stream",
          "text": [
            "NLTK Downloader\n",
            "---------------------------------------------------------------------------\n",
            "    d) Download   l) List    u) Update   c) Config   h) Help   q) Quit\n",
            "---------------------------------------------------------------------------\n",
            "Downloader> d\n",
            "\n",
            "Download which package (l=list; x=cancel)?\n",
            "  Identifier> l\n",
            "Packages:\n",
            "  [ ] abc................. Australian Broadcasting Commission 2006\n",
            "  [ ] alpino.............. Alpino Dutch Treebank\n",
            "  [ ] averaged_perceptron_tagger_ru Averaged Perceptron Tagger (Russian)\n",
            "  [ ] basque_grammars..... Grammars for Basque\n",
            "  [ ] biocreative_ppi..... BioCreAtIvE (Critical Assessment of Information\n",
            "                           Extraction Systems in Biology)\n",
            "  [ ] bllip_wsj_no_aux.... BLLIP Parser: WSJ Model\n",
            "  [ ] book_grammars....... Grammars from NLTK Book\n",
            "  [ ] brown_tei........... Brown Corpus (TEI XML Version)\n",
            "  [ ] cess_cat............ CESS-CAT Treebank\n",
            "  [ ] cess_esp............ CESS-ESP Treebank\n",
            "  [ ] chat80.............. Chat-80 Data Files\n",
            "  [ ] city_database....... City Database\n",
            "  [ ] cmudict............. The Carnegie Mellon Pronouncing Dictionary (0.6)\n",
            "  [ ] comparative_sentences Comparative Sentence Dataset\n",
            "  [ ] comtrans............ ComTrans Corpus Sample\n",
            "  [ ] conll2000........... CONLL 2000 Chunking Corpus\n",
            "  [ ] conll2002........... CONLL 2002 Named Entity Recognition Corpus\n",
            "  [ ] conll2007........... Dependency Treebanks from CoNLL 2007 (Catalan\n",
            "                           and Basque Subset)\n",
            "Hit Enter to continue: \n",
            "  [ ] crubadan............ Crubadan Corpus\n",
            "  [ ] dependency_treebank. Dependency Parsed Treebank\n",
            "  [ ] dolch............... Dolch Word List\n",
            "  [ ] europarl_raw........ Sample European Parliament Proceedings Parallel\n",
            "                           Corpus\n",
            "  [ ] floresta............ Portuguese Treebank\n",
            "  [ ] framenet_v15........ FrameNet 1.5\n",
            "  [ ] framenet_v17........ FrameNet 1.7\n",
            "  [ ] gazetteers.......... Gazeteer Lists\n",
            "  [ ] genesis............. Genesis Corpus\n",
            "  [ ] gutenberg........... Project Gutenberg Selections\n",
            "  [ ] ieer................ NIST IE-ER DATA SAMPLE\n",
            "  [ ] inaugural........... C-Span Inaugural Address Corpus\n",
            "  [ ] indian.............. Indian Language POS-Tagged Corpus\n",
            "  [ ] jeita............... JEITA Public Morphologically Tagged Corpus (in\n",
            "                           ChaSen format)\n",
            "  [ ] kimmo............... PC-KIMMO Data Files\n",
            "  [ ] knbc................ KNB Corpus (Annotated blog corpus)\n",
            "  [ ] large_grammars...... Large context-free and feature-based grammars\n",
            "                           for parser comparison\n",
            "  [ ] lin_thesaurus....... Lin's Dependency Thesaurus\n",
            "Hit Enter to continue: \n",
            "  [ ] mac_morpho.......... MAC-MORPHO: Brazilian Portuguese news text with\n",
            "                           part-of-speech tags\n",
            "  [ ] machado............. Machado de Assis -- Obra Completa\n",
            "  [ ] masc_tagged......... MASC Tagged Corpus\n",
            "  [ ] maxent_ne_chunker... ACE Named Entity Chunker (Maximum entropy)\n",
            "  [ ] maxent_treebank_pos_tagger Treebank Part of Speech Tagger (Maximum entropy)\n",
            "  [ ] moses_sample........ Moses Sample Models\n",
            "  [ ] movie_reviews....... Sentiment Polarity Dataset Version 2.0\n",
            "  [ ] mte_teip5........... MULTEXT-East 1984 annotated corpus 4.0\n",
            "  [ ] mwa_ppdb............ The monolingual word aligner (Sultan et al.\n",
            "                           2015) subset of the Paraphrase Database.\n",
            "  [ ] names............... Names Corpus, Version 1.3 (1994-03-29)\n",
            "  [ ] nombank.1.0......... NomBank Corpus 1.0\n",
            "  [ ] nonbreaking_prefixes Non-Breaking Prefixes (Moses Decoder)\n",
            "  [ ] nps_chat............ NPS Chat\n",
            "  [ ] omw................. Open Multilingual Wordnet\n",
            "  [ ] opinion_lexicon..... Opinion Lexicon\n",
            "  [ ] panlex_swadesh...... PanLex Swadesh Corpora\n",
            "  [ ] paradigms........... Paradigm Corpus\n",
            "  [ ] pe08................ Cross-Framework and Cross-Domain Parser\n",
            "                           Evaluation Shared Task\n",
            "Hit Enter to continue: \n",
            "  [ ] perluniprops........ perluniprops: Index of Unicode Version 7.0.0\n",
            "                           character properties in Perl\n",
            "  [ ] pil................. The Patient Information Leaflet (PIL) Corpus\n",
            "  [ ] pl196x.............. Polish language of the XX century sixties\n",
            "  [ ] porter_test......... Porter Stemmer Test Files\n",
            "  [ ] ppattach............ Prepositional Phrase Attachment Corpus\n",
            "  [ ] problem_reports..... Problem Report Corpus\n",
            "  [ ] product_reviews_1... Product Reviews (5 Products)\n",
            "  [ ] product_reviews_2... Product Reviews (9 Products)\n",
            "  [ ] propbank............ Proposition Bank Corpus 1.0\n",
            "  [ ] pros_cons........... Pros and Cons\n",
            "  [ ] ptb................. Penn Treebank\n",
            "  [ ] qc.................. Experimental Data for Question Classification\n",
            "  [ ] reuters............. The Reuters-21578 benchmark corpus, ApteMod\n",
            "                           version\n",
            "  [ ] rslp................ RSLP Stemmer (Removedor de Sufixos da Lingua\n",
            "                           Portuguesa)\n",
            "  [ ] rte................. PASCAL RTE Challenges 1, 2, and 3\n",
            "  [ ] sample_grammars..... Sample Grammars\n",
            "  [ ] semcor.............. SemCor 3.0\n",
            "  [ ] senseval............ SENSEVAL 2 Corpus: Sense Tagged Text\n",
            "Hit Enter to continue: \n",
            "  [ ] sentence_polarity... Sentence Polarity Dataset v1.0\n",
            "  [ ] sentiwordnet........ SentiWordNet\n",
            "  [ ] shakespeare......... Shakespeare XML Corpus Sample\n",
            "  [ ] sinica_treebank..... Sinica Treebank Corpus Sample\n",
            "  [ ] smultron............ SMULTRON Corpus Sample\n",
            "  [ ] snowball_data....... Snowball Data\n",
            "  [ ] spanish_grammars.... Grammars for Spanish\n",
            "  [ ] state_union......... C-Span State of the Union Address Corpus\n",
            "  [ ] subjectivity........ Subjectivity Dataset v1.0\n",
            "  [ ] swadesh............. Swadesh Wordlists\n",
            "  [ ] switchboard......... Switchboard Corpus Sample\n",
            "  [ ] tagsets............. Help on Tagsets\n",
            "  [ ] timit............... TIMIT Corpus Sample\n",
            "  [ ] toolbox............. Toolbox Sample Files\n",
            "  [ ] treebank............ Penn Treebank Sample\n",
            "  [ ] twitter_samples..... Twitter Samples\n",
            "  [ ] udhr2............... Universal Declaration of Human Rights Corpus\n",
            "                           (Unicode Version)\n",
            "  [ ] udhr................ Universal Declaration of Human Rights Corpus\n",
            "  [ ] unicode_samples..... Unicode Samples\n",
            "  [ ] universal_tagset.... Mappings to the Universal Part-of-Speech Tagset\n",
            "Hit Enter to continue: \n",
            "  [ ] universal_treebanks_v20 Universal Treebanks Version 2.0\n",
            "  [ ] vader_lexicon....... VADER Sentiment Lexicon\n",
            "  [ ] verbnet3............ VerbNet Lexicon, Version 3.3\n",
            "  [ ] verbnet............. VerbNet Lexicon, Version 2.1\n",
            "  [ ] webtext............. Web Text Corpus\n",
            "  [ ] wmt15_eval.......... Evaluation data from WMT15\n",
            "  [ ] word2vec_sample..... Word2Vec Sample\n",
            "  [ ] wordnet_ic.......... WordNet-InfoContent\n",
            "  [ ] words............... Word Lists\n",
            "  [ ] ycoe................ York-Toronto-Helsinki Parsed Corpus of Old\n",
            "                           English Prose\n",
            "\n",
            "Collections:\n",
            "  [P] all-corpora......... All the corpora\n",
            "  [P] all-nltk............ All packages available on nltk_data gh-pages\n",
            "                           branch\n",
            "  [P] all................. All packages\n",
            "  [P] book................ Everything used in the NLTK Book\n",
            "  [P] popular............. Popular packages\n",
            "  [P] tests............... Packages for running tests\n",
            "  [ ] third-party......... Third-party data packages\n",
            "\n",
            "([*] marks installed packages; [P] marks partially installed collections)\n",
            "\n",
            "Download which package (l=list; x=cancel)?\n",
            "  Identifier> l\n",
            "Packages:\n",
            "  [ ] abc................. Australian Broadcasting Commission 2006\n",
            "  [ ] alpino.............. Alpino Dutch Treebank\n",
            "  [ ] averaged_perceptron_tagger_ru Averaged Perceptron Tagger (Russian)\n",
            "  [ ] basque_grammars..... Grammars for Basque\n",
            "  [ ] biocreative_ppi..... BioCreAtIvE (Critical Assessment of Information\n",
            "                           Extraction Systems in Biology)\n",
            "  [ ] bllip_wsj_no_aux.... BLLIP Parser: WSJ Model\n",
            "  [ ] book_grammars....... Grammars from NLTK Book\n",
            "  [ ] brown_tei........... Brown Corpus (TEI XML Version)\n",
            "  [ ] cess_cat............ CESS-CAT Treebank\n",
            "  [ ] cess_esp............ CESS-ESP Treebank\n",
            "  [ ] chat80.............. Chat-80 Data Files\n",
            "  [ ] city_database....... City Database\n",
            "  [ ] cmudict............. The Carnegie Mellon Pronouncing Dictionary (0.6)\n",
            "  [ ] comparative_sentences Comparative Sentence Dataset\n",
            "  [ ] comtrans............ ComTrans Corpus Sample\n",
            "  [ ] conll2000........... CONLL 2000 Chunking Corpus\n",
            "  [ ] conll2002........... CONLL 2002 Named Entity Recognition Corpus\n",
            "  [ ] conll2007........... Dependency Treebanks from CoNLL 2007 (Catalan\n",
            "                           and Basque Subset)\n",
            "Hit Enter to continue: \n",
            "  [ ] crubadan............ Crubadan Corpus\n",
            "  [ ] dependency_treebank. Dependency Parsed Treebank\n",
            "  [ ] dolch............... Dolch Word List\n",
            "  [ ] europarl_raw........ Sample European Parliament Proceedings Parallel\n",
            "                           Corpus\n",
            "  [ ] floresta............ Portuguese Treebank\n",
            "  [ ] framenet_v15........ FrameNet 1.5\n",
            "  [ ] framenet_v17........ FrameNet 1.7\n",
            "  [ ] gazetteers.......... Gazeteer Lists\n",
            "  [ ] genesis............. Genesis Corpus\n",
            "  [ ] gutenberg........... Project Gutenberg Selections\n",
            "  [ ] ieer................ NIST IE-ER DATA SAMPLE\n",
            "  [ ] inaugural........... C-Span Inaugural Address Corpus\n",
            "  [ ] indian.............. Indian Language POS-Tagged Corpus\n",
            "  [ ] jeita............... JEITA Public Morphologically Tagged Corpus (in\n",
            "                           ChaSen format)\n",
            "  [ ] kimmo............... PC-KIMMO Data Files\n",
            "  [ ] knbc................ KNB Corpus (Annotated blog corpus)\n",
            "  [ ] large_grammars...... Large context-free and feature-based grammars\n",
            "                           for parser comparison\n",
            "  [ ] lin_thesaurus....... Lin's Dependency Thesaurus\n",
            "Hit Enter to continue: \n",
            "  [ ] mac_morpho.......... MAC-MORPHO: Brazilian Portuguese news text with\n",
            "                           part-of-speech tags\n",
            "  [ ] machado............. Machado de Assis -- Obra Completa\n",
            "  [ ] masc_tagged......... MASC Tagged Corpus\n",
            "  [ ] maxent_ne_chunker... ACE Named Entity Chunker (Maximum entropy)\n",
            "  [ ] maxent_treebank_pos_tagger Treebank Part of Speech Tagger (Maximum entropy)\n",
            "  [ ] moses_sample........ Moses Sample Models\n",
            "  [ ] movie_reviews....... Sentiment Polarity Dataset Version 2.0\n",
            "  [ ] mte_teip5........... MULTEXT-East 1984 annotated corpus 4.0\n",
            "  [ ] mwa_ppdb............ The monolingual word aligner (Sultan et al.\n",
            "                           2015) subset of the Paraphrase Database.\n",
            "  [ ] names............... Names Corpus, Version 1.3 (1994-03-29)\n",
            "  [ ] nombank.1.0......... NomBank Corpus 1.0\n",
            "  [ ] nonbreaking_prefixes Non-Breaking Prefixes (Moses Decoder)\n",
            "  [ ] nps_chat............ NPS Chat\n",
            "  [ ] omw................. Open Multilingual Wordnet\n",
            "  [ ] opinion_lexicon..... Opinion Lexicon\n",
            "  [ ] panlex_swadesh...... PanLex Swadesh Corpora\n",
            "  [ ] paradigms........... Paradigm Corpus\n",
            "  [ ] pe08................ Cross-Framework and Cross-Domain Parser\n",
            "                           Evaluation Shared Task\n",
            "Hit Enter to continue: \n",
            "  [ ] perluniprops........ perluniprops: Index of Unicode Version 7.0.0\n",
            "                           character properties in Perl\n",
            "  [ ] pil................. The Patient Information Leaflet (PIL) Corpus\n",
            "  [ ] pl196x.............. Polish language of the XX century sixties\n",
            "  [ ] porter_test......... Porter Stemmer Test Files\n",
            "  [ ] ppattach............ Prepositional Phrase Attachment Corpus\n",
            "  [ ] problem_reports..... Problem Report Corpus\n",
            "  [ ] product_reviews_1... Product Reviews (5 Products)\n",
            "  [ ] product_reviews_2... Product Reviews (9 Products)\n",
            "  [ ] propbank............ Proposition Bank Corpus 1.0\n",
            "  [ ] pros_cons........... Pros and Cons\n",
            "  [ ] ptb................. Penn Treebank\n",
            "  [ ] qc.................. Experimental Data for Question Classification\n",
            "  [ ] reuters............. The Reuters-21578 benchmark corpus, ApteMod\n",
            "                           version\n",
            "  [ ] rslp................ RSLP Stemmer (Removedor de Sufixos da Lingua\n",
            "                           Portuguesa)\n",
            "  [ ] rte................. PASCAL RTE Challenges 1, 2, and 3\n",
            "  [ ] sample_grammars..... Sample Grammars\n",
            "  [ ] semcor.............. SemCor 3.0\n",
            "  [ ] senseval............ SENSEVAL 2 Corpus: Sense Tagged Text\n",
            "Hit Enter to continue: \n",
            "  [ ] sentence_polarity... Sentence Polarity Dataset v1.0\n",
            "  [ ] sentiwordnet........ SentiWordNet\n",
            "  [ ] shakespeare......... Shakespeare XML Corpus Sample\n",
            "  [ ] sinica_treebank..... Sinica Treebank Corpus Sample\n",
            "  [ ] smultron............ SMULTRON Corpus Sample\n",
            "  [ ] snowball_data....... Snowball Data\n",
            "  [ ] spanish_grammars.... Grammars for Spanish\n",
            "  [ ] state_union......... C-Span State of the Union Address Corpus\n",
            "  [ ] subjectivity........ Subjectivity Dataset v1.0\n",
            "  [ ] swadesh............. Swadesh Wordlists\n",
            "  [ ] switchboard......... Switchboard Corpus Sample\n",
            "  [ ] tagsets............. Help on Tagsets\n",
            "  [ ] timit............... TIMIT Corpus Sample\n",
            "  [ ] toolbox............. Toolbox Sample Files\n",
            "  [ ] treebank............ Penn Treebank Sample\n",
            "  [ ] twitter_samples..... Twitter Samples\n",
            "  [ ] udhr2............... Universal Declaration of Human Rights Corpus\n",
            "                           (Unicode Version)\n",
            "  [ ] udhr................ Universal Declaration of Human Rights Corpus\n",
            "  [ ] unicode_samples..... Unicode Samples\n",
            "  [ ] universal_tagset.... Mappings to the Universal Part-of-Speech Tagset\n",
            "Hit Enter to continue: \n",
            "  [ ] universal_treebanks_v20 Universal Treebanks Version 2.0\n",
            "  [ ] vader_lexicon....... VADER Sentiment Lexicon\n",
            "  [ ] verbnet3............ VerbNet Lexicon, Version 3.3\n",
            "  [ ] verbnet............. VerbNet Lexicon, Version 2.1\n",
            "  [ ] webtext............. Web Text Corpus\n",
            "  [ ] wmt15_eval.......... Evaluation data from WMT15\n",
            "  [ ] word2vec_sample..... Word2Vec Sample\n",
            "  [ ] wordnet_ic.......... WordNet-InfoContent\n",
            "  [ ] words............... Word Lists\n",
            "  [ ] ycoe................ York-Toronto-Helsinki Parsed Corpus of Old\n",
            "                           English Prose\n",
            "\n",
            "Collections:\n",
            "  [P] all-corpora......... All the corpora\n",
            "  [P] all-nltk............ All packages available on nltk_data gh-pages\n",
            "                           branch\n",
            "  [P] all................. All packages\n",
            "  [P] book................ Everything used in the NLTK Book\n",
            "  [P] popular............. Popular packages\n",
            "  [P] tests............... Packages for running tests\n",
            "  [ ] third-party......... Third-party data packages\n",
            "\n",
            "([*] marks installed packages; [P] marks partially installed collections)\n",
            "\n",
            "Download which package (l=list; x=cancel)?\n",
            "  Identifier> l\n",
            "Packages:\n",
            "  [ ] abc................. Australian Broadcasting Commission 2006\n",
            "  [ ] alpino.............. Alpino Dutch Treebank\n",
            "  [ ] averaged_perceptron_tagger_ru Averaged Perceptron Tagger (Russian)\n",
            "  [ ] basque_grammars..... Grammars for Basque\n",
            "  [ ] biocreative_ppi..... BioCreAtIvE (Critical Assessment of Information\n",
            "                           Extraction Systems in Biology)\n",
            "  [ ] bllip_wsj_no_aux.... BLLIP Parser: WSJ Model\n",
            "  [ ] book_grammars....... Grammars from NLTK Book\n",
            "  [ ] brown_tei........... Brown Corpus (TEI XML Version)\n",
            "  [ ] cess_cat............ CESS-CAT Treebank\n",
            "  [ ] cess_esp............ CESS-ESP Treebank\n",
            "  [ ] chat80.............. Chat-80 Data Files\n",
            "  [ ] city_database....... City Database\n",
            "  [ ] cmudict............. The Carnegie Mellon Pronouncing Dictionary (0.6)\n",
            "  [ ] comparative_sentences Comparative Sentence Dataset\n",
            "  [ ] comtrans............ ComTrans Corpus Sample\n",
            "  [ ] conll2000........... CONLL 2000 Chunking Corpus\n",
            "  [ ] conll2002........... CONLL 2002 Named Entity Recognition Corpus\n",
            "  [ ] conll2007........... Dependency Treebanks from CoNLL 2007 (Catalan\n",
            "                           and Basque Subset)\n",
            "Hit Enter to continue: \n",
            "  [ ] crubadan............ Crubadan Corpus\n",
            "  [ ] dependency_treebank. Dependency Parsed Treebank\n",
            "  [ ] dolch............... Dolch Word List\n",
            "  [ ] europarl_raw........ Sample European Parliament Proceedings Parallel\n",
            "                           Corpus\n",
            "  [ ] floresta............ Portuguese Treebank\n",
            "  [ ] framenet_v15........ FrameNet 1.5\n",
            "  [ ] framenet_v17........ FrameNet 1.7\n",
            "  [ ] gazetteers.......... Gazeteer Lists\n",
            "  [ ] genesis............. Genesis Corpus\n",
            "  [ ] gutenberg........... Project Gutenberg Selections\n",
            "  [ ] ieer................ NIST IE-ER DATA SAMPLE\n",
            "  [ ] inaugural........... C-Span Inaugural Address Corpus\n",
            "  [ ] indian.............. Indian Language POS-Tagged Corpus\n",
            "  [ ] jeita............... JEITA Public Morphologically Tagged Corpus (in\n",
            "                           ChaSen format)\n",
            "  [ ] kimmo............... PC-KIMMO Data Files\n",
            "  [ ] knbc................ KNB Corpus (Annotated blog corpus)\n",
            "  [ ] large_grammars...... Large context-free and feature-based grammars\n",
            "                           for parser comparison\n",
            "  [ ] lin_thesaurus....... Lin's Dependency Thesaurus\n",
            "Hit Enter to continue: \n",
            "  [ ] mac_morpho.......... MAC-MORPHO: Brazilian Portuguese news text with\n",
            "                           part-of-speech tags\n",
            "  [ ] machado............. Machado de Assis -- Obra Completa\n",
            "  [ ] masc_tagged......... MASC Tagged Corpus\n",
            "  [ ] maxent_ne_chunker... ACE Named Entity Chunker (Maximum entropy)\n",
            "  [ ] maxent_treebank_pos_tagger Treebank Part of Speech Tagger (Maximum entropy)\n",
            "  [ ] moses_sample........ Moses Sample Models\n",
            "  [ ] movie_reviews....... Sentiment Polarity Dataset Version 2.0\n",
            "  [ ] mte_teip5........... MULTEXT-East 1984 annotated corpus 4.0\n",
            "  [ ] mwa_ppdb............ The monolingual word aligner (Sultan et al.\n",
            "                           2015) subset of the Paraphrase Database.\n",
            "  [ ] names............... Names Corpus, Version 1.3 (1994-03-29)\n",
            "  [ ] nombank.1.0......... NomBank Corpus 1.0\n",
            "  [ ] nonbreaking_prefixes Non-Breaking Prefixes (Moses Decoder)\n",
            "  [ ] nps_chat............ NPS Chat\n",
            "  [ ] omw................. Open Multilingual Wordnet\n",
            "  [ ] opinion_lexicon..... Opinion Lexicon\n",
            "  [ ] panlex_swadesh...... PanLex Swadesh Corpora\n",
            "  [ ] paradigms........... Paradigm Corpus\n",
            "  [ ] pe08................ Cross-Framework and Cross-Domain Parser\n",
            "                           Evaluation Shared Task\n",
            "Hit Enter to continue: \n",
            "  [ ] perluniprops........ perluniprops: Index of Unicode Version 7.0.0\n",
            "                           character properties in Perl\n",
            "  [ ] pil................. The Patient Information Leaflet (PIL) Corpus\n",
            "  [ ] pl196x.............. Polish language of the XX century sixties\n",
            "  [ ] porter_test......... Porter Stemmer Test Files\n",
            "  [ ] ppattach............ Prepositional Phrase Attachment Corpus\n",
            "  [ ] problem_reports..... Problem Report Corpus\n",
            "  [ ] product_reviews_1... Product Reviews (5 Products)\n",
            "  [ ] product_reviews_2... Product Reviews (9 Products)\n",
            "  [ ] propbank............ Proposition Bank Corpus 1.0\n",
            "  [ ] pros_cons........... Pros and Cons\n",
            "  [ ] ptb................. Penn Treebank\n",
            "  [ ] qc.................. Experimental Data for Question Classification\n",
            "  [ ] reuters............. The Reuters-21578 benchmark corpus, ApteMod\n",
            "                           version\n",
            "  [ ] rslp................ RSLP Stemmer (Removedor de Sufixos da Lingua\n",
            "                           Portuguesa)\n",
            "  [ ] rte................. PASCAL RTE Challenges 1, 2, and 3\n",
            "  [ ] sample_grammars..... Sample Grammars\n",
            "  [ ] semcor.............. SemCor 3.0\n",
            "  [ ] senseval............ SENSEVAL 2 Corpus: Sense Tagged Text\n",
            "Hit Enter to continue: \n",
            "  [ ] sentence_polarity... Sentence Polarity Dataset v1.0\n",
            "  [ ] sentiwordnet........ SentiWordNet\n",
            "  [ ] shakespeare......... Shakespeare XML Corpus Sample\n",
            "  [ ] sinica_treebank..... Sinica Treebank Corpus Sample\n",
            "  [ ] smultron............ SMULTRON Corpus Sample\n",
            "  [ ] snowball_data....... Snowball Data\n",
            "  [ ] spanish_grammars.... Grammars for Spanish\n",
            "  [ ] state_union......... C-Span State of the Union Address Corpus\n",
            "  [ ] subjectivity........ Subjectivity Dataset v1.0\n",
            "  [ ] swadesh............. Swadesh Wordlists\n",
            "  [ ] switchboard......... Switchboard Corpus Sample\n",
            "  [ ] tagsets............. Help on Tagsets\n",
            "  [ ] timit............... TIMIT Corpus Sample\n",
            "  [ ] toolbox............. Toolbox Sample Files\n",
            "  [ ] treebank............ Penn Treebank Sample\n",
            "  [ ] twitter_samples..... Twitter Samples\n",
            "  [ ] udhr2............... Universal Declaration of Human Rights Corpus\n",
            "                           (Unicode Version)\n",
            "  [ ] udhr................ Universal Declaration of Human Rights Corpus\n",
            "  [ ] unicode_samples..... Unicode Samples\n",
            "  [ ] universal_tagset.... Mappings to the Universal Part-of-Speech Tagset\n",
            "Hit Enter to continue: \n",
            "  [ ] universal_treebanks_v20 Universal Treebanks Version 2.0\n",
            "  [ ] vader_lexicon....... VADER Sentiment Lexicon\n",
            "  [ ] verbnet3............ VerbNet Lexicon, Version 3.3\n",
            "  [ ] verbnet............. VerbNet Lexicon, Version 2.1\n",
            "  [ ] webtext............. Web Text Corpus\n",
            "  [ ] wmt15_eval.......... Evaluation data from WMT15\n",
            "  [ ] word2vec_sample..... Word2Vec Sample\n",
            "  [ ] wordnet_ic.......... WordNet-InfoContent\n",
            "  [ ] words............... Word Lists\n",
            "  [ ] ycoe................ York-Toronto-Helsinki Parsed Corpus of Old\n",
            "                           English Prose\n",
            "\n",
            "Collections:\n",
            "  [P] all-corpora......... All the corpora\n",
            "  [P] all-nltk............ All packages available on nltk_data gh-pages\n",
            "                           branch\n",
            "  [P] all................. All packages\n",
            "  [P] book................ Everything used in the NLTK Book\n",
            "  [P] popular............. Popular packages\n",
            "  [P] tests............... Packages for running tests\n",
            "  [ ] third-party......... Third-party data packages\n",
            "\n",
            "([*] marks installed packages; [P] marks partially installed collections)\n",
            "\n",
            "Download which package (l=list; x=cancel)?\n",
            "  Identifier> l\n",
            "Packages:\n",
            "  [ ] abc................. Australian Broadcasting Commission 2006\n",
            "  [ ] alpino.............. Alpino Dutch Treebank\n",
            "  [ ] averaged_perceptron_tagger_ru Averaged Perceptron Tagger (Russian)\n",
            "  [ ] basque_grammars..... Grammars for Basque\n",
            "  [ ] biocreative_ppi..... BioCreAtIvE (Critical Assessment of Information\n",
            "                           Extraction Systems in Biology)\n",
            "  [ ] bllip_wsj_no_aux.... BLLIP Parser: WSJ Model\n",
            "  [ ] book_grammars....... Grammars from NLTK Book\n",
            "  [ ] brown_tei........... Brown Corpus (TEI XML Version)\n",
            "  [ ] cess_cat............ CESS-CAT Treebank\n",
            "  [ ] cess_esp............ CESS-ESP Treebank\n",
            "  [ ] chat80.............. Chat-80 Data Files\n",
            "  [ ] city_database....... City Database\n",
            "  [ ] cmudict............. The Carnegie Mellon Pronouncing Dictionary (0.6)\n",
            "  [ ] comparative_sentences Comparative Sentence Dataset\n",
            "  [ ] comtrans............ ComTrans Corpus Sample\n",
            "  [ ] conll2000........... CONLL 2000 Chunking Corpus\n",
            "  [ ] conll2002........... CONLL 2002 Named Entity Recognition Corpus\n",
            "  [ ] conll2007........... Dependency Treebanks from CoNLL 2007 (Catalan\n",
            "                           and Basque Subset)\n",
            "Hit Enter to continue: \n",
            "  [ ] crubadan............ Crubadan Corpus\n",
            "  [ ] dependency_treebank. Dependency Parsed Treebank\n",
            "  [ ] dolch............... Dolch Word List\n",
            "  [ ] europarl_raw........ Sample European Parliament Proceedings Parallel\n",
            "                           Corpus\n",
            "  [ ] floresta............ Portuguese Treebank\n",
            "  [ ] framenet_v15........ FrameNet 1.5\n",
            "  [ ] framenet_v17........ FrameNet 1.7\n",
            "  [ ] gazetteers.......... Gazeteer Lists\n",
            "  [ ] genesis............. Genesis Corpus\n",
            "  [ ] gutenberg........... Project Gutenberg Selections\n",
            "  [ ] ieer................ NIST IE-ER DATA SAMPLE\n",
            "  [ ] inaugural........... C-Span Inaugural Address Corpus\n",
            "  [ ] indian.............. Indian Language POS-Tagged Corpus\n",
            "  [ ] jeita............... JEITA Public Morphologically Tagged Corpus (in\n",
            "                           ChaSen format)\n",
            "  [ ] kimmo............... PC-KIMMO Data Files\n",
            "  [ ] knbc................ KNB Corpus (Annotated blog corpus)\n",
            "  [ ] large_grammars...... Large context-free and feature-based grammars\n",
            "                           for parser comparison\n",
            "  [ ] lin_thesaurus....... Lin's Dependency Thesaurus\n",
            "Hit Enter to continue: \n",
            "  [ ] mac_morpho.......... MAC-MORPHO: Brazilian Portuguese news text with\n",
            "                           part-of-speech tags\n",
            "  [ ] machado............. Machado de Assis -- Obra Completa\n",
            "  [ ] masc_tagged......... MASC Tagged Corpus\n",
            "  [ ] maxent_ne_chunker... ACE Named Entity Chunker (Maximum entropy)\n",
            "  [ ] maxent_treebank_pos_tagger Treebank Part of Speech Tagger (Maximum entropy)\n",
            "  [ ] moses_sample........ Moses Sample Models\n",
            "  [ ] movie_reviews....... Sentiment Polarity Dataset Version 2.0\n",
            "  [ ] mte_teip5........... MULTEXT-East 1984 annotated corpus 4.0\n",
            "  [ ] mwa_ppdb............ The monolingual word aligner (Sultan et al.\n",
            "                           2015) subset of the Paraphrase Database.\n",
            "  [ ] names............... Names Corpus, Version 1.3 (1994-03-29)\n",
            "  [ ] nombank.1.0......... NomBank Corpus 1.0\n",
            "  [ ] nonbreaking_prefixes Non-Breaking Prefixes (Moses Decoder)\n",
            "  [ ] nps_chat............ NPS Chat\n",
            "  [ ] omw................. Open Multilingual Wordnet\n",
            "  [ ] opinion_lexicon..... Opinion Lexicon\n",
            "  [ ] panlex_swadesh...... PanLex Swadesh Corpora\n",
            "  [ ] paradigms........... Paradigm Corpus\n",
            "  [ ] pe08................ Cross-Framework and Cross-Domain Parser\n",
            "                           Evaluation Shared Task\n",
            "Hit Enter to continue: \n",
            "  [ ] perluniprops........ perluniprops: Index of Unicode Version 7.0.0\n",
            "                           character properties in Perl\n",
            "  [ ] pil................. The Patient Information Leaflet (PIL) Corpus\n",
            "  [ ] pl196x.............. Polish language of the XX century sixties\n",
            "  [ ] porter_test......... Porter Stemmer Test Files\n",
            "  [ ] ppattach............ Prepositional Phrase Attachment Corpus\n",
            "  [ ] problem_reports..... Problem Report Corpus\n",
            "  [ ] product_reviews_1... Product Reviews (5 Products)\n",
            "  [ ] product_reviews_2... Product Reviews (9 Products)\n",
            "  [ ] propbank............ Proposition Bank Corpus 1.0\n",
            "  [ ] pros_cons........... Pros and Cons\n",
            "  [ ] ptb................. Penn Treebank\n",
            "  [ ] qc.................. Experimental Data for Question Classification\n",
            "  [ ] reuters............. The Reuters-21578 benchmark corpus, ApteMod\n",
            "                           version\n",
            "  [ ] rslp................ RSLP Stemmer (Removedor de Sufixos da Lingua\n",
            "                           Portuguesa)\n",
            "  [ ] rte................. PASCAL RTE Challenges 1, 2, and 3\n",
            "  [ ] sample_grammars..... Sample Grammars\n",
            "  [ ] semcor.............. SemCor 3.0\n",
            "  [ ] senseval............ SENSEVAL 2 Corpus: Sense Tagged Text\n",
            "Hit Enter to continue: \n",
            "  [ ] sentence_polarity... Sentence Polarity Dataset v1.0\n",
            "  [ ] sentiwordnet........ SentiWordNet\n",
            "  [ ] shakespeare......... Shakespeare XML Corpus Sample\n",
            "  [ ] sinica_treebank..... Sinica Treebank Corpus Sample\n",
            "  [ ] smultron............ SMULTRON Corpus Sample\n",
            "  [ ] snowball_data....... Snowball Data\n",
            "  [ ] spanish_grammars.... Grammars for Spanish\n",
            "  [ ] state_union......... C-Span State of the Union Address Corpus\n",
            "  [ ] subjectivity........ Subjectivity Dataset v1.0\n",
            "  [ ] swadesh............. Swadesh Wordlists\n",
            "  [ ] switchboard......... Switchboard Corpus Sample\n",
            "  [ ] tagsets............. Help on Tagsets\n",
            "  [ ] timit............... TIMIT Corpus Sample\n",
            "  [ ] toolbox............. Toolbox Sample Files\n",
            "  [ ] treebank............ Penn Treebank Sample\n",
            "  [ ] twitter_samples..... Twitter Samples\n",
            "  [ ] udhr2............... Universal Declaration of Human Rights Corpus\n",
            "                           (Unicode Version)\n",
            "  [ ] udhr................ Universal Declaration of Human Rights Corpus\n",
            "  [ ] unicode_samples..... Unicode Samples\n",
            "  [ ] universal_tagset.... Mappings to the Universal Part-of-Speech Tagset\n",
            "Hit Enter to continue: \n",
            "  [ ] universal_treebanks_v20 Universal Treebanks Version 2.0\n",
            "  [ ] vader_lexicon....... VADER Sentiment Lexicon\n",
            "  [ ] verbnet3............ VerbNet Lexicon, Version 3.3\n",
            "  [ ] verbnet............. VerbNet Lexicon, Version 2.1\n",
            "  [ ] webtext............. Web Text Corpus\n",
            "  [ ] wmt15_eval.......... Evaluation data from WMT15\n",
            "  [ ] word2vec_sample..... Word2Vec Sample\n",
            "  [ ] wordnet_ic.......... WordNet-InfoContent\n",
            "  [ ] words............... Word Lists\n",
            "  [ ] ycoe................ York-Toronto-Helsinki Parsed Corpus of Old\n",
            "                           English Prose\n",
            "\n",
            "Collections:\n",
            "  [P] all-corpora......... All the corpora\n",
            "  [P] all-nltk............ All packages available on nltk_data gh-pages\n",
            "                           branch\n",
            "  [P] all................. All packages\n",
            "  [P] book................ Everything used in the NLTK Book\n",
            "  [P] popular............. Popular packages\n",
            "  [P] tests............... Packages for running tests\n",
            "  [ ] third-party......... Third-party data packages\n",
            "\n",
            "([*] marks installed packages; [P] marks partially installed collections)\n",
            "\n",
            "Download which package (l=list; x=cancel)?\n",
            "  Identifier> l\n",
            "Packages:\n",
            "  [ ] abc................. Australian Broadcasting Commission 2006\n",
            "  [ ] alpino.............. Alpino Dutch Treebank\n",
            "  [ ] averaged_perceptron_tagger_ru Averaged Perceptron Tagger (Russian)\n",
            "  [ ] basque_grammars..... Grammars for Basque\n",
            "  [ ] biocreative_ppi..... BioCreAtIvE (Critical Assessment of Information\n",
            "                           Extraction Systems in Biology)\n",
            "  [ ] bllip_wsj_no_aux.... BLLIP Parser: WSJ Model\n",
            "  [ ] book_grammars....... Grammars from NLTK Book\n",
            "  [ ] brown_tei........... Brown Corpus (TEI XML Version)\n",
            "  [ ] cess_cat............ CESS-CAT Treebank\n",
            "  [ ] cess_esp............ CESS-ESP Treebank\n",
            "  [ ] chat80.............. Chat-80 Data Files\n",
            "  [ ] city_database....... City Database\n",
            "  [ ] cmudict............. The Carnegie Mellon Pronouncing Dictionary (0.6)\n",
            "  [ ] comparative_sentences Comparative Sentence Dataset\n",
            "  [ ] comtrans............ ComTrans Corpus Sample\n",
            "  [ ] conll2000........... CONLL 2000 Chunking Corpus\n",
            "  [ ] conll2002........... CONLL 2002 Named Entity Recognition Corpus\n",
            "  [ ] conll2007........... Dependency Treebanks from CoNLL 2007 (Catalan\n",
            "                           and Basque Subset)\n",
            "Hit Enter to continue: \n",
            "  [ ] crubadan............ Crubadan Corpus\n",
            "  [ ] dependency_treebank. Dependency Parsed Treebank\n",
            "  [ ] dolch............... Dolch Word List\n",
            "  [ ] europarl_raw........ Sample European Parliament Proceedings Parallel\n",
            "                           Corpus\n",
            "  [ ] floresta............ Portuguese Treebank\n",
            "  [ ] framenet_v15........ FrameNet 1.5\n",
            "  [ ] framenet_v17........ FrameNet 1.7\n",
            "  [ ] gazetteers.......... Gazeteer Lists\n",
            "  [ ] genesis............. Genesis Corpus\n",
            "  [ ] gutenberg........... Project Gutenberg Selections\n",
            "  [ ] ieer................ NIST IE-ER DATA SAMPLE\n",
            "  [ ] inaugural........... C-Span Inaugural Address Corpus\n",
            "  [ ] indian.............. Indian Language POS-Tagged Corpus\n",
            "  [ ] jeita............... JEITA Public Morphologically Tagged Corpus (in\n",
            "                           ChaSen format)\n",
            "  [ ] kimmo............... PC-KIMMO Data Files\n",
            "  [ ] knbc................ KNB Corpus (Annotated blog corpus)\n",
            "  [ ] large_grammars...... Large context-free and feature-based grammars\n",
            "                           for parser comparison\n",
            "  [ ] lin_thesaurus....... Lin's Dependency Thesaurus\n",
            "Hit Enter to continue: \n",
            "  [ ] mac_morpho.......... MAC-MORPHO: Brazilian Portuguese news text with\n",
            "                           part-of-speech tags\n",
            "  [ ] machado............. Machado de Assis -- Obra Completa\n",
            "  [ ] masc_tagged......... MASC Tagged Corpus\n",
            "  [ ] maxent_ne_chunker... ACE Named Entity Chunker (Maximum entropy)\n",
            "  [ ] maxent_treebank_pos_tagger Treebank Part of Speech Tagger (Maximum entropy)\n",
            "  [ ] moses_sample........ Moses Sample Models\n",
            "  [ ] movie_reviews....... Sentiment Polarity Dataset Version 2.0\n",
            "  [ ] mte_teip5........... MULTEXT-East 1984 annotated corpus 4.0\n",
            "  [ ] mwa_ppdb............ The monolingual word aligner (Sultan et al.\n",
            "                           2015) subset of the Paraphrase Database.\n",
            "  [ ] names............... Names Corpus, Version 1.3 (1994-03-29)\n",
            "  [ ] nombank.1.0......... NomBank Corpus 1.0\n",
            "  [ ] nonbreaking_prefixes Non-Breaking Prefixes (Moses Decoder)\n",
            "  [ ] nps_chat............ NPS Chat\n",
            "  [ ] omw................. Open Multilingual Wordnet\n",
            "  [ ] opinion_lexicon..... Opinion Lexicon\n",
            "  [ ] panlex_swadesh...... PanLex Swadesh Corpora\n",
            "  [ ] paradigms........... Paradigm Corpus\n",
            "  [ ] pe08................ Cross-Framework and Cross-Domain Parser\n",
            "                           Evaluation Shared Task\n",
            "Hit Enter to continue: \n",
            "  [ ] perluniprops........ perluniprops: Index of Unicode Version 7.0.0\n",
            "                           character properties in Perl\n",
            "  [ ] pil................. The Patient Information Leaflet (PIL) Corpus\n",
            "  [ ] pl196x.............. Polish language of the XX century sixties\n",
            "  [ ] porter_test......... Porter Stemmer Test Files\n",
            "  [ ] ppattach............ Prepositional Phrase Attachment Corpus\n",
            "  [ ] problem_reports..... Problem Report Corpus\n",
            "  [ ] product_reviews_1... Product Reviews (5 Products)\n",
            "  [ ] product_reviews_2... Product Reviews (9 Products)\n",
            "  [ ] propbank............ Proposition Bank Corpus 1.0\n",
            "  [ ] pros_cons........... Pros and Cons\n",
            "  [ ] ptb................. Penn Treebank\n",
            "  [ ] qc.................. Experimental Data for Question Classification\n",
            "  [ ] reuters............. The Reuters-21578 benchmark corpus, ApteMod\n",
            "                           version\n",
            "  [ ] rslp................ RSLP Stemmer (Removedor de Sufixos da Lingua\n",
            "                           Portuguesa)\n",
            "  [ ] rte................. PASCAL RTE Challenges 1, 2, and 3\n",
            "  [ ] sample_grammars..... Sample Grammars\n",
            "  [ ] semcor.............. SemCor 3.0\n",
            "  [ ] senseval............ SENSEVAL 2 Corpus: Sense Tagged Text\n",
            "Hit Enter to continue: \n",
            "  [ ] sentence_polarity... Sentence Polarity Dataset v1.0\n",
            "  [ ] sentiwordnet........ SentiWordNet\n",
            "  [ ] shakespeare......... Shakespeare XML Corpus Sample\n",
            "  [ ] sinica_treebank..... Sinica Treebank Corpus Sample\n",
            "  [ ] smultron............ SMULTRON Corpus Sample\n",
            "  [ ] snowball_data....... Snowball Data\n",
            "  [ ] spanish_grammars.... Grammars for Spanish\n",
            "  [ ] state_union......... C-Span State of the Union Address Corpus\n",
            "  [ ] subjectivity........ Subjectivity Dataset v1.0\n",
            "  [ ] swadesh............. Swadesh Wordlists\n",
            "  [ ] switchboard......... Switchboard Corpus Sample\n",
            "  [ ] tagsets............. Help on Tagsets\n",
            "  [ ] timit............... TIMIT Corpus Sample\n",
            "  [ ] toolbox............. Toolbox Sample Files\n",
            "  [ ] treebank............ Penn Treebank Sample\n",
            "  [ ] twitter_samples..... Twitter Samples\n",
            "  [ ] udhr2............... Universal Declaration of Human Rights Corpus\n",
            "                           (Unicode Version)\n",
            "  [ ] udhr................ Universal Declaration of Human Rights Corpus\n",
            "  [ ] unicode_samples..... Unicode Samples\n",
            "  [ ] universal_tagset.... Mappings to the Universal Part-of-Speech Tagset\n",
            "Hit Enter to continue: \n",
            "  [ ] universal_treebanks_v20 Universal Treebanks Version 2.0\n",
            "  [ ] vader_lexicon....... VADER Sentiment Lexicon\n",
            "  [ ] verbnet3............ VerbNet Lexicon, Version 3.3\n",
            "  [ ] verbnet............. VerbNet Lexicon, Version 2.1\n",
            "  [ ] webtext............. Web Text Corpus\n",
            "  [ ] wmt15_eval.......... Evaluation data from WMT15\n",
            "  [ ] word2vec_sample..... Word2Vec Sample\n",
            "  [ ] wordnet_ic.......... WordNet-InfoContent\n",
            "  [ ] words............... Word Lists\n",
            "  [ ] ycoe................ York-Toronto-Helsinki Parsed Corpus of Old\n",
            "                           English Prose\n",
            "\n",
            "Collections:\n",
            "  [P] all-corpora......... All the corpora\n",
            "  [P] all-nltk............ All packages available on nltk_data gh-pages\n",
            "                           branch\n",
            "  [P] all................. All packages\n",
            "  [P] book................ Everything used in the NLTK Book\n",
            "  [P] popular............. Popular packages\n",
            "  [P] tests............... Packages for running tests\n",
            "  [ ] third-party......... Third-party data packages\n",
            "\n",
            "([*] marks installed packages; [P] marks partially installed collections)\n",
            "\n",
            "Download which package (l=list; x=cancel)?\n",
            "  Identifier> l\n",
            "Packages:\n",
            "  [ ] abc................. Australian Broadcasting Commission 2006\n",
            "  [ ] alpino.............. Alpino Dutch Treebank\n",
            "  [ ] averaged_perceptron_tagger_ru Averaged Perceptron Tagger (Russian)\n",
            "  [ ] basque_grammars..... Grammars for Basque\n",
            "  [ ] biocreative_ppi..... BioCreAtIvE (Critical Assessment of Information\n",
            "                           Extraction Systems in Biology)\n",
            "  [ ] bllip_wsj_no_aux.... BLLIP Parser: WSJ Model\n",
            "  [ ] book_grammars....... Grammars from NLTK Book\n",
            "  [ ] brown_tei........... Brown Corpus (TEI XML Version)\n",
            "  [ ] cess_cat............ CESS-CAT Treebank\n",
            "  [ ] cess_esp............ CESS-ESP Treebank\n",
            "  [ ] chat80.............. Chat-80 Data Files\n",
            "  [ ] city_database....... City Database\n",
            "  [ ] cmudict............. The Carnegie Mellon Pronouncing Dictionary (0.6)\n",
            "  [ ] comparative_sentences Comparative Sentence Dataset\n",
            "  [ ] comtrans............ ComTrans Corpus Sample\n",
            "  [ ] conll2000........... CONLL 2000 Chunking Corpus\n",
            "  [ ] conll2002........... CONLL 2002 Named Entity Recognition Corpus\n",
            "  [ ] conll2007........... Dependency Treebanks from CoNLL 2007 (Catalan\n",
            "                           and Basque Subset)\n",
            "Hit Enter to continue: \n",
            "  [ ] crubadan............ Crubadan Corpus\n",
            "  [ ] dependency_treebank. Dependency Parsed Treebank\n",
            "  [ ] dolch............... Dolch Word List\n",
            "  [ ] europarl_raw........ Sample European Parliament Proceedings Parallel\n",
            "                           Corpus\n",
            "  [ ] floresta............ Portuguese Treebank\n",
            "  [ ] framenet_v15........ FrameNet 1.5\n",
            "  [ ] framenet_v17........ FrameNet 1.7\n",
            "  [ ] gazetteers.......... Gazeteer Lists\n",
            "  [ ] genesis............. Genesis Corpus\n",
            "  [ ] gutenberg........... Project Gutenberg Selections\n",
            "  [ ] ieer................ NIST IE-ER DATA SAMPLE\n",
            "  [ ] inaugural........... C-Span Inaugural Address Corpus\n",
            "  [ ] indian.............. Indian Language POS-Tagged Corpus\n",
            "  [ ] jeita............... JEITA Public Morphologically Tagged Corpus (in\n",
            "                           ChaSen format)\n",
            "  [ ] kimmo............... PC-KIMMO Data Files\n",
            "  [ ] knbc................ KNB Corpus (Annotated blog corpus)\n",
            "  [ ] large_grammars...... Large context-free and feature-based grammars\n",
            "                           for parser comparison\n",
            "  [ ] lin_thesaurus....... Lin's Dependency Thesaurus\n",
            "Hit Enter to continue: \n",
            "  [ ] mac_morpho.......... MAC-MORPHO: Brazilian Portuguese news text with\n",
            "                           part-of-speech tags\n",
            "  [ ] machado............. Machado de Assis -- Obra Completa\n",
            "  [ ] masc_tagged......... MASC Tagged Corpus\n",
            "  [ ] maxent_ne_chunker... ACE Named Entity Chunker (Maximum entropy)\n",
            "  [ ] maxent_treebank_pos_tagger Treebank Part of Speech Tagger (Maximum entropy)\n",
            "  [ ] moses_sample........ Moses Sample Models\n",
            "  [ ] movie_reviews....... Sentiment Polarity Dataset Version 2.0\n",
            "  [ ] mte_teip5........... MULTEXT-East 1984 annotated corpus 4.0\n",
            "  [ ] mwa_ppdb............ The monolingual word aligner (Sultan et al.\n",
            "                           2015) subset of the Paraphrase Database.\n",
            "  [ ] names............... Names Corpus, Version 1.3 (1994-03-29)\n",
            "  [ ] nombank.1.0......... NomBank Corpus 1.0\n",
            "  [ ] nonbreaking_prefixes Non-Breaking Prefixes (Moses Decoder)\n",
            "  [ ] nps_chat............ NPS Chat\n",
            "  [ ] omw................. Open Multilingual Wordnet\n",
            "  [ ] opinion_lexicon..... Opinion Lexicon\n",
            "  [ ] panlex_swadesh...... PanLex Swadesh Corpora\n",
            "  [ ] paradigms........... Paradigm Corpus\n",
            "  [ ] pe08................ Cross-Framework and Cross-Domain Parser\n",
            "                           Evaluation Shared Task\n",
            "Hit Enter to continue: \n",
            "  [ ] perluniprops........ perluniprops: Index of Unicode Version 7.0.0\n",
            "                           character properties in Perl\n",
            "  [ ] pil................. The Patient Information Leaflet (PIL) Corpus\n",
            "  [ ] pl196x.............. Polish language of the XX century sixties\n",
            "  [ ] porter_test......... Porter Stemmer Test Files\n",
            "  [ ] ppattach............ Prepositional Phrase Attachment Corpus\n",
            "  [ ] problem_reports..... Problem Report Corpus\n",
            "  [ ] product_reviews_1... Product Reviews (5 Products)\n",
            "  [ ] product_reviews_2... Product Reviews (9 Products)\n",
            "  [ ] propbank............ Proposition Bank Corpus 1.0\n",
            "  [ ] pros_cons........... Pros and Cons\n",
            "  [ ] ptb................. Penn Treebank\n",
            "  [ ] qc.................. Experimental Data for Question Classification\n",
            "  [ ] reuters............. The Reuters-21578 benchmark corpus, ApteMod\n",
            "                           version\n",
            "  [ ] rslp................ RSLP Stemmer (Removedor de Sufixos da Lingua\n",
            "                           Portuguesa)\n",
            "  [ ] rte................. PASCAL RTE Challenges 1, 2, and 3\n",
            "  [ ] sample_grammars..... Sample Grammars\n",
            "  [ ] semcor.............. SemCor 3.0\n",
            "  [ ] senseval............ SENSEVAL 2 Corpus: Sense Tagged Text\n",
            "Hit Enter to continue: \n",
            "  [ ] sentence_polarity... Sentence Polarity Dataset v1.0\n",
            "  [ ] sentiwordnet........ SentiWordNet\n",
            "  [ ] shakespeare......... Shakespeare XML Corpus Sample\n",
            "  [ ] sinica_treebank..... Sinica Treebank Corpus Sample\n",
            "  [ ] smultron............ SMULTRON Corpus Sample\n",
            "  [ ] snowball_data....... Snowball Data\n",
            "  [ ] spanish_grammars.... Grammars for Spanish\n",
            "  [ ] state_union......... C-Span State of the Union Address Corpus\n",
            "  [ ] subjectivity........ Subjectivity Dataset v1.0\n",
            "  [ ] swadesh............. Swadesh Wordlists\n",
            "  [ ] switchboard......... Switchboard Corpus Sample\n",
            "  [ ] tagsets............. Help on Tagsets\n",
            "  [ ] timit............... TIMIT Corpus Sample\n",
            "  [ ] toolbox............. Toolbox Sample Files\n",
            "  [ ] treebank............ Penn Treebank Sample\n",
            "  [ ] twitter_samples..... Twitter Samples\n",
            "  [ ] udhr2............... Universal Declaration of Human Rights Corpus\n",
            "                           (Unicode Version)\n",
            "  [ ] udhr................ Universal Declaration of Human Rights Corpus\n",
            "  [ ] unicode_samples..... Unicode Samples\n",
            "  [ ] universal_tagset.... Mappings to the Universal Part-of-Speech Tagset\n",
            "Hit Enter to continue: \n",
            "  [ ] universal_treebanks_v20 Universal Treebanks Version 2.0\n",
            "  [ ] vader_lexicon....... VADER Sentiment Lexicon\n",
            "  [ ] verbnet3............ VerbNet Lexicon, Version 3.3\n",
            "  [ ] verbnet............. VerbNet Lexicon, Version 2.1\n",
            "  [ ] webtext............. Web Text Corpus\n",
            "  [ ] wmt15_eval.......... Evaluation data from WMT15\n",
            "  [ ] word2vec_sample..... Word2Vec Sample\n",
            "  [ ] wordnet_ic.......... WordNet-InfoContent\n",
            "  [ ] words............... Word Lists\n",
            "  [ ] ycoe................ York-Toronto-Helsinki Parsed Corpus of Old\n",
            "                           English Prose\n",
            "\n",
            "Collections:\n",
            "  [P] all-corpora......... All the corpora\n",
            "  [P] all-nltk............ All packages available on nltk_data gh-pages\n",
            "                           branch\n",
            "  [P] all................. All packages\n",
            "  [P] book................ Everything used in the NLTK Book\n",
            "  [P] popular............. Popular packages\n",
            "  [P] tests............... Packages for running tests\n",
            "  [ ] third-party......... Third-party data packages\n",
            "\n",
            "([*] marks installed packages; [P] marks partially installed collections)\n",
            "\n",
            "Download which package (l=list; x=cancel)?\n",
            "  Identifier> x\n",
            "\n",
            "---------------------------------------------------------------------------\n",
            "    d) Download   l) List    u) Update   c) Config   h) Help   q) Quit\n",
            "---------------------------------------------------------------------------\n",
            "Downloader> q\n"
          ],
          "name": "stdout"
        },
        {
          "output_type": "execute_result",
          "data": {
            "text/plain": [
              "True"
            ]
          },
          "metadata": {
            "tags": []
          },
          "execution_count": 16
        }
      ]
    },
    {
      "cell_type": "code",
      "metadata": {
        "id": "hEx4YGzJ35t6",
        "colab_type": "code",
        "colab": {
          "base_uri": "https://localhost:8080/",
          "height": 34
        },
        "outputId": "d37df832-38af-45e3-c599-1556d589940b"
      },
      "source": [
        "text = \"this's a sent tokenize test. this is sent two.is this sent three? sent 4 is cool! Now it’s your turn.\" \n",
        "print(text)"
      ],
      "execution_count": 17,
      "outputs": [
        {
          "output_type": "stream",
          "text": [
            "this's a sent tokenize test. this is sent two.is this sent three? sent 4 is cool! Now it’s your turn.\n"
          ],
          "name": "stdout"
        }
      ]
    },
    {
      "cell_type": "code",
      "metadata": {
        "id": "R5AOQFSo7sxV",
        "colab_type": "code",
        "colab": {
          "base_uri": "https://localhost:8080/",
          "height": 68
        },
        "outputId": "01df7f5d-4a87-488b-a60c-f527024e34b7"
      },
      "source": [
        "nltk.download('punkt')"
      ],
      "execution_count": 18,
      "outputs": [
        {
          "output_type": "stream",
          "text": [
            "[nltk_data] Downloading package punkt to /root/nltk_data...\n",
            "[nltk_data]   Package punkt is already up-to-date!\n"
          ],
          "name": "stdout"
        },
        {
          "output_type": "execute_result",
          "data": {
            "text/plain": [
              "True"
            ]
          },
          "metadata": {
            "tags": []
          },
          "execution_count": 18
        }
      ]
    },
    {
      "cell_type": "code",
      "metadata": {
        "id": "46oDUEQ03HiL",
        "colab_type": "code",
        "colab": {
          "base_uri": "https://localhost:8080/",
          "height": 34
        },
        "outputId": "b7e8ac89-f63b-44ac-fd81-1071df6be72c"
      },
      "source": [
        "#Use sentence tokenizer from NLTK \n",
        "from nltk.tokenize import sent_tokenize\n",
        "sent_tokenize_list = sent_tokenize(text) \n",
        "len(sent_tokenize_list) \n",
        "print(sent_tokenize_list)"
      ],
      "execution_count": 19,
      "outputs": [
        {
          "output_type": "stream",
          "text": [
            "[\"this's a sent tokenize test.\", 'this is sent two.is this sent three?', 'sent 4 is cool!', 'Now it’s your turn.']\n"
          ],
          "name": "stdout"
        }
      ]
    },
    {
      "cell_type": "code",
      "metadata": {
        "id": "HXKjqR453HmA",
        "colab_type": "code",
        "colab": {
          "base_uri": "https://localhost:8080/",
          "height": 85
        },
        "outputId": "6078e7e6-1662-4c03-c80c-7d08298f8ac3"
      },
      "source": [
        "import nltk.data \n",
        "tokenizer = nltk.data.load('tokenizers/punkt/english.pickle') \n",
        "tokenizer.tokenize(text)"
      ],
      "execution_count": 20,
      "outputs": [
        {
          "output_type": "execute_result",
          "data": {
            "text/plain": [
              "[\"this's a sent tokenize test.\",\n",
              " 'this is sent two.is this sent three?',\n",
              " 'sent 4 is cool!',\n",
              " 'Now it’s your turn.']"
            ]
          },
          "metadata": {
            "tags": []
          },
          "execution_count": 20
        }
      ]
    },
    {
      "cell_type": "code",
      "metadata": {
        "id": "UkYintCw2ZHZ",
        "colab_type": "code",
        "colab": {
          "base_uri": "https://localhost:8080/",
          "height": 34
        },
        "outputId": "ed3e6625-8191-4581-fec9-57a206b27681"
      },
      "source": [
        "#Word tokenizer \n",
        "from nltk.tokenize import word_tokenize \n",
        "word_tokenize(\"this’s a test\")"
      ],
      "execution_count": 21,
      "outputs": [
        {
          "output_type": "execute_result",
          "data": {
            "text/plain": [
              "['this', '’', 's', 'a', 'test']"
            ]
          },
          "metadata": {
            "tags": []
          },
          "execution_count": 21
        }
      ]
    },
    {
      "cell_type": "code",
      "metadata": {
        "id": "TjRq_HkO7-dj",
        "colab_type": "code",
        "colab": {
          "base_uri": "https://localhost:8080/",
          "height": 34
        },
        "outputId": "176d44c9-77e9-484b-8480-bd1a1fdc5d86"
      },
      "source": [
        "#Punctuation based tokenizer \n",
        "from nltk.tokenize import WordPunctTokenizer \n",
        "word_punct_tokenizer = WordPunctTokenizer() \n",
        "word_punct_tokenizer.tokenize(\"This’s a test\")\n"
      ],
      "execution_count": 22,
      "outputs": [
        {
          "output_type": "execute_result",
          "data": {
            "text/plain": [
              "['This', '’', 's', 'a', 'test']"
            ]
          },
          "metadata": {
            "tags": []
          },
          "execution_count": 22
        }
      ]
    },
    {
      "cell_type": "code",
      "metadata": {
        "id": "MWipXbRX7-lH",
        "colab_type": "code",
        "colab": {
          "base_uri": "https://localhost:8080/",
          "height": 204
        },
        "outputId": "39559509-d765-4dfd-edf9-50b72935526e"
      },
      "source": [
        "#Compute the word frequency \n",
        "def wordfreq (str):    \n",
        "  \"\"\"Function to generate the frequency distribution of the given text\"\"\"    \n",
        "  print(str)    \n",
        "  word_freq={}    \n",
        "  for tok in str.split():        \n",
        "    if tok.lower() in word_freq:            \n",
        "      word_freq [tok.lower()]+=1        \n",
        "    else:            \n",
        "        word_freq [tok.lower()]=1    \n",
        "    print(word_freq) \n",
        "wordfreq(\"This is a good sentence on good topic of this\") "
      ],
      "execution_count": 23,
      "outputs": [
        {
          "output_type": "stream",
          "text": [
            "This is a good sentence on good topic of this\n",
            "{'this': 1}\n",
            "{'this': 1, 'is': 1}\n",
            "{'this': 1, 'is': 1, 'a': 1}\n",
            "{'this': 1, 'is': 1, 'a': 1, 'good': 1}\n",
            "{'this': 1, 'is': 1, 'a': 1, 'good': 1, 'sentence': 1}\n",
            "{'this': 1, 'is': 1, 'a': 1, 'good': 1, 'sentence': 1, 'on': 1}\n",
            "{'this': 1, 'is': 1, 'a': 1, 'good': 2, 'sentence': 1, 'on': 1}\n",
            "{'this': 1, 'is': 1, 'a': 1, 'good': 2, 'sentence': 1, 'on': 1, 'topic': 1}\n",
            "{'this': 1, 'is': 1, 'a': 1, 'good': 2, 'sentence': 1, 'on': 1, 'topic': 1, 'of': 1}\n",
            "{'this': 2, 'is': 1, 'a': 1, 'good': 2, 'sentence': 1, 'on': 1, 'topic': 1, 'of': 1}\n"
          ],
          "name": "stdout"
        }
      ]
    },
    {
      "cell_type": "code",
      "metadata": {
        "id": "Q-ct7QTV7-pH",
        "colab_type": "code",
        "colab": {
          "base_uri": "https://localhost:8080/",
          "height": 34
        },
        "outputId": "dbb61ec4-0f3b-4b57-d33e-26c338c2a884"
      },
      "source": [
        "lst = ['A', 'B', 'A', 'C'] \n",
        "dict = {} \n",
        "for element in lst:    \n",
        "  if element in dict:        \n",
        "    dict[element] = dict[element] +1    \n",
        "  else:        \n",
        "      dict[element] = 1 \n",
        "dict\n"
      ],
      "execution_count": 24,
      "outputs": [
        {
          "output_type": "execute_result",
          "data": {
            "text/plain": [
              "{'A': 2, 'B': 1, 'C': 1}"
            ]
          },
          "metadata": {
            "tags": []
          },
          "execution_count": 24
        }
      ]
    },
    {
      "cell_type": "code",
      "metadata": {
        "id": "9igDkHM87-i0",
        "colab_type": "code",
        "colab": {
          "base_uri": "https://localhost:8080/",
          "height": 51
        },
        "outputId": "1e3c2a07-7ed4-48c0-c0b7-9965b1d75892"
      },
      "source": [
        "#Some of them are stop words..what do we do with them \n",
        "#Remove them \n",
        "stop_words = ('is', 'a', 'on', 'of') \n",
        "line = \"This is a good sentence on good topic of this\" \n",
        "word_list = [] \n",
        "print(line) \n",
        "for tok in line.split():    \n",
        "  if tok.lower() in stop_words:        \n",
        "    pass    \n",
        "  else:        \n",
        "    if tok.lower() in word_list:            \n",
        "      pass        \n",
        "    else:            \n",
        "      word_list.append(tok.lower()) \n",
        "print(word_list)\n"
      ],
      "execution_count": 25,
      "outputs": [
        {
          "output_type": "stream",
          "text": [
            "This is a good sentence on good topic of this\n",
            "['this', 'good', 'sentence', 'topic']\n"
          ],
          "name": "stdout"
        }
      ]
    },
    {
      "cell_type": "code",
      "metadata": {
        "id": "UIcigTYv9TzL",
        "colab_type": "code",
        "colab": {
          "base_uri": "https://localhost:8080/",
          "height": 34
        },
        "outputId": "374763c4-d31b-4c08-8b5b-8cb7b65bd6bd"
      },
      "source": [
        "#Clean text?? \n",
        "from urllib.request import urlopen \n",
        "response = urlopen('http://python.org/') \n",
        "html = response.read() \n",
        "print(len(html)) \n",
        "tokens = [tok for tok in html.split()] \n",
        "#print(\"Total no of tokens :\"+ str(len(tokens))) \n",
        "#print(tokens[0:100])"
      ],
      "execution_count": 26,
      "outputs": [
        {
          "output_type": "stream",
          "text": [
            "48832\n"
          ],
          "name": "stdout"
        }
      ]
    },
    {
      "cell_type": "code",
      "metadata": {
        "id": "oCjkkSIm9T4E",
        "colab_type": "code",
        "colab": {
          "base_uri": "https://localhost:8080/",
          "height": 34
        },
        "outputId": "1e1e7594-b6ee-4aa0-d554-e8e6536874bc"
      },
      "source": [
        "#We clean it a bit \n",
        "from bs4 import BeautifulSoup \n",
        "print(\"Calling BS4\") \n",
        "soup = BeautifulSoup(html, 'html.parser') \n",
        "#print(soup.get_text()) \n",
        "# kill all script and style elements \n",
        "for script in soup([\"script\", \"style\"]):    \n",
        "  script.extract()  \n",
        "#print(soup.get_text())\n"
      ],
      "execution_count": 27,
      "outputs": [
        {
          "output_type": "stream",
          "text": [
            "Calling BS4\n"
          ],
          "name": "stdout"
        }
      ]
    },
    {
      "cell_type": "code",
      "metadata": {
        "id": "vyI7tUsZ9T8y",
        "colab_type": "code",
        "colab": {}
      },
      "source": [
        "#Get the token \n",
        "tokens = [tok for tok in soup.get_text().split()]\n"
      ],
      "execution_count": 0,
      "outputs": []
    },
    {
      "cell_type": "code",
      "metadata": {
        "id": "t0PdJ7e4-RlW",
        "colab_type": "code",
        "colab": {}
      },
      "source": [
        "words = soup.get_text().split() \n",
        "#for word in words:    \n",
        "#print(word)\n"
      ],
      "execution_count": 0,
      "outputs": []
    },
    {
      "cell_type": "code",
      "metadata": {
        "id": "X7Eq2PBA-Rrd",
        "colab_type": "code",
        "colab": {
          "base_uri": "https://localhost:8080/",
          "height": 54
        },
        "outputId": "947bf970-d17c-4bcb-a7c3-c990c54759a6"
      },
      "source": [
        "print(tokens[0:100])\n"
      ],
      "execution_count": 30,
      "outputs": [
        {
          "output_type": "stream",
          "text": [
            "['Welcome', 'to', 'Python.org', 'Notice:', 'While', 'Javascript', 'is', 'not', 'essential', 'for', 'this', 'website,', 'your', 'interaction', 'with', 'the', 'content', 'will', 'be', 'limited.', 'Please', 'turn', 'Javascript', 'on', 'for', 'the', 'full', 'experience.', 'Skip', 'to', 'content', '▼', 'Close', 'Python', 'PSF', 'Docs', 'PyPI', 'Jobs', 'Community', '▲', 'The', 'Python', 'Network', 'Donate', '≡', 'Menu', 'Search', 'This', 'Site', 'GO', 'A', 'A', 'Smaller', 'Larger', 'Reset', 'Socialize', 'Facebook', 'Twitter', 'Chat', 'on', 'IRC', 'About', 'Applications', 'Quotes', 'Getting', 'Started', 'Help', 'Python', 'Brochure', 'Downloads', 'All', 'releases', 'Source', 'code', 'Windows', 'Mac', 'OS', 'X', 'Other', 'Platforms', 'License', 'Alternative', 'Implementations', 'Documentation', 'Docs', 'Audio/Visual', 'Talks', \"Beginner's\", 'Guide', \"Developer's\", 'Guide', 'FAQ', 'Non-English', 'Docs', 'PEP', 'Index', 'Python', 'Books', 'Python', 'Essays']\n"
          ],
          "name": "stdout"
        }
      ]
    },
    {
      "cell_type": "code",
      "metadata": {
        "id": "0f9e1Ok8-Rva",
        "colab_type": "code",
        "colab": {}
      },
      "source": [
        "def wordfreq (lst):    \n",
        "  \"\"\"Function to generated the frequency distribution of the \n",
        "  given text\"\"\"    \n",
        "  word_freq={}    \n",
        "  for tok in words:        \n",
        "    if tok.lower() in word_freq:            \n",
        "      word_freq [tok.lower()]+=1        \n",
        "    else:            \n",
        "        word_freq [tok.lower()]=1    \n",
        "  return word_freq "
      ],
      "execution_count": 0,
      "outputs": []
    },
    {
      "cell_type": "code",
      "metadata": {
        "id": "js_1t89b-eiq",
        "colab_type": "code",
        "colab": {}
      },
      "source": [
        "new_tokens = wordfreq(tokens) "
      ],
      "execution_count": 0,
      "outputs": []
    },
    {
      "cell_type": "code",
      "metadata": {
        "id": "y58-iCdK-eo-",
        "colab_type": "code",
        "colab": {
          "base_uri": "https://localhost:8080/",
          "height": 54
        },
        "outputId": "4bc69659-8fec-4d59-a110-b64bb1c103f2"
      },
      "source": [
        "import operator \n",
        "sorted_d = sorted(new_tokens.items(), key=operator.itemgetter(1),reverse=True) \n",
        "#print('Dictionary in descending order by value : ',sorted_d) \n",
        "print(sorted_d[:25])\n"
      ],
      "execution_count": 33,
      "outputs": [
        {
          "output_type": "stream",
          "text": [
            "[('python', 49), ('>>>', 24), ('and', 20), ('the', 19), ('to', 16), ('for', 12), ('more', 12), ('is', 11), ('news', 11), ('events', 11), ('community', 10), ('a', 10), ('of', 10), ('#', 9), ('psf', 8), ('=', 8), ('3', 8), ('in', 8), ('your', 7), ('with', 7), ('other', 7), ('software', 7), ('docs', 6), ('about', 6), ('guide', 6)]\n"
          ],
          "name": "stdout"
        }
      ]
    },
    {
      "cell_type": "code",
      "metadata": {
        "id": "JjZ8Gx5t-emG",
        "colab_type": "code",
        "colab": {
          "base_uri": "https://localhost:8080/",
          "height": 384
        },
        "outputId": "fb650e69-5b7b-4282-e496-45f380c0883d"
      },
      "source": [
        "import nltk \n",
        "%matplotlib inline \n",
        "Freq_dist_nltk=nltk.FreqDist(tokens) \n",
        "print(Freq_dist_nltk) \n",
        "sorted_d = sorted(Freq_dist_nltk.items(), key=operator.itemgetter(1),reverse=True) \n",
        "print(sorted_d[:25]) \n",
        "Freq_dist_nltk.plot(25, cumulative=False)"
      ],
      "execution_count": 34,
      "outputs": [
        {
          "output_type": "stream",
          "text": [
            "<FreqDist with 528 samples and 989 outcomes>\n",
            "[('Python', 49), ('>>>', 24), ('and', 20), ('to', 16), ('the', 14), ('is', 11), ('for', 11), ('News', 11), ('Events', 11), ('of', 10), ('Community', 9), ('#', 9), ('More', 9), ('PSF', 8), ('=', 8), ('a', 8), ('3', 8), ('in', 8), ('your', 7), ('with', 7), ('Software', 7), ('Docs', 6), ('Guide', 6), ('The', 5), ('PyCon', 5)]\n"
          ],
          "name": "stdout"
        },
        {
          "output_type": "display_data",
          "data": {
            "image/png": "[encoded data removed]",
            "text/plain": [
              "<Figure size 432x288 with 1 Axes>"
            ]
          },
          "metadata": {
            "tags": []
          }
        }
      ]
    },
    {
      "cell_type": "code",
      "metadata": {
        "id": "LPa4LFs3AEJQ",
        "colab_type": "code",
        "colab": {
          "base_uri": "https://localhost:8080/",
          "height": 68
        },
        "outputId": "3bf6fb29-8b17-41f2-d45c-36e711905826"
      },
      "source": [
        "nltk.download('stopwords')"
      ],
      "execution_count": 35,
      "outputs": [
        {
          "output_type": "stream",
          "text": [
            "[nltk_data] Downloading package stopwords to /root/nltk_data...\n",
            "[nltk_data]   Package stopwords is already up-to-date!\n"
          ],
          "name": "stdout"
        },
        {
          "output_type": "execute_result",
          "data": {
            "text/plain": [
              "True"
            ]
          },
          "metadata": {
            "tags": []
          },
          "execution_count": 35
        }
      ]
    },
    {
      "cell_type": "code",
      "metadata": {
        "id": "nza3FWqR-egM",
        "colab_type": "code",
        "colab": {}
      },
      "source": [
        "from nltk.corpus import stopwords \n",
        "stopWords = set(stopwords.words('english')) "
      ],
      "execution_count": 0,
      "outputs": []
    },
    {
      "cell_type": "code",
      "metadata": {
        "id": "5ZSPrZp1-edy",
        "colab_type": "code",
        "colab": {}
      },
      "source": [
        "from nltk.tokenize import word_tokenize \n",
        "data = \"All work and no play makes jack dull boy.\" \n",
        "words = word_tokenize(data)\n"
      ],
      "execution_count": 0,
      "outputs": []
    },
    {
      "cell_type": "code",
      "metadata": {
        "id": "KXUshGr2AO5X",
        "colab_type": "code",
        "colab": {}
      },
      "source": [
        "wordsFiltered = [] \n",
        " \n",
        "for w in words:    \n",
        "    if w not in stopWords:        \n",
        "      wordsFiltered.append(w)\n"
      ],
      "execution_count": 0,
      "outputs": []
    },
    {
      "cell_type": "code",
      "metadata": {
        "id": "rNzJ7v8WAO9-",
        "colab_type": "code",
        "colab": {
          "base_uri": "https://localhost:8080/",
          "height": 51
        },
        "outputId": "a1c09bde-8205-4c39-99b3-2b733f2e543f"
      },
      "source": [
        "print(data) \n",
        "print(wordsFiltered)\n"
      ],
      "execution_count": 39,
      "outputs": [
        {
          "output_type": "stream",
          "text": [
            "All work and no play makes jack dull boy.\n",
            "['All', 'work', 'play', 'makes', 'jack', 'dull', 'boy', '.']\n"
          ],
          "name": "stdout"
        }
      ]
    },
    {
      "cell_type": "code",
      "metadata": {
        "id": "NN2dM8vTAPNA",
        "colab_type": "code",
        "colab": {}
      },
      "source": [
        "wordsFiltered = [] \n",
        " \n",
        "for w in tokens:    \n",
        "  if w not in stopWords:        \n",
        "    wordsFiltered.append(w) \n",
        "    #print(wordsFiltered)\n"
      ],
      "execution_count": 0,
      "outputs": []
    },
    {
      "cell_type": "code",
      "metadata": {
        "id": "tTg83GTLAPTb",
        "colab_type": "code",
        "colab": {}
      },
      "source": [
        "wordsFiltered2 = [] \n",
        "stopWords2 = ['>>>', '...', '\\\\', '3','1', 'The', 'more', '=', '#', '/', '▲'] \n",
        "for w in wordsFiltered:    \n",
        "  if w not in stopWords2:        \n",
        "    wordsFiltered2.append(w)"
      ],
      "execution_count": 0,
      "outputs": []
    },
    {
      "cell_type": "code",
      "metadata": {
        "id": "nkhRPhekAPe0",
        "colab_type": "code",
        "colab": {
          "base_uri": "https://localhost:8080/",
          "height": 404
        },
        "outputId": "66bc4acc-c88d-429a-a46b-78cd82ebcbc3"
      },
      "source": [
        "Freq_dist_nltk=nltk.FreqDist(wordsFiltered2) \n",
        "print(Freq_dist_nltk) \n",
        "sorted_d = sorted(Freq_dist_nltk.items(), key=operator.itemgetter(1),reverse=True) \n",
        "print(sorted_d[:25]) \n",
        "Freq_dist_nltk.plot(25, cumulative=False)\n"
      ],
      "execution_count": 42,
      "outputs": [
        {
          "output_type": "stream",
          "text": [
            "<FreqDist with 480 samples and 746 outcomes>\n",
            "[('Python', 49), ('News', 11), ('Events', 11), ('Community', 9), ('More', 9), ('PSF', 8), ('Software', 7), ('Docs', 6), ('Guide', 6), ('PyCon', 5), ('product', 5), ('PyPI', 4), ('Lists', 4), ('User', 4), ('Group', 4), ('Archive', 4), ('3:', 4), ('programming', 4), ('IRC', 3), ('Started', 3), ('Help', 3), ('All', 3), ('code', 3), ('Documentation', 3), (\"Developer's\", 3)]\n"
          ],
          "name": "stdout"
        },
        {
          "output_type": "display_data",
          "data": {
            "image/png": "[encoded data removed]",
            "text/plain": [
              "<Figure size 432x288 with 1 Axes>"
            ]
          },
          "metadata": {
            "tags": []
          }
        }
      ]
    },
    {
      "cell_type": "code",
      "metadata": {
        "id": "Y0fxMQVCBJUU",
        "colab_type": "code",
        "colab": {
          "base_uri": "https://localhost:8080/",
          "height": 102
        },
        "outputId": "c17b62d0-5ad4-4776-e527-8696496eeb97"
      },
      "source": [
        "nltk.download('averaged_perceptron_tagger')"
      ],
      "execution_count": 43,
      "outputs": [
        {
          "output_type": "stream",
          "text": [
            "[nltk_data] Downloading package averaged_perceptron_tagger to\n",
            "[nltk_data]     /root/nltk_data...\n",
            "[nltk_data]   Package averaged_perceptron_tagger is already up-to-\n",
            "[nltk_data]       date!\n"
          ],
          "name": "stdout"
        },
        {
          "output_type": "execute_result",
          "data": {
            "text/plain": [
              "True"
            ]
          },
          "metadata": {
            "tags": []
          },
          "execution_count": 43
        }
      ]
    },
    {
      "cell_type": "code",
      "metadata": {
        "id": "sXOwHhS3APQm",
        "colab_type": "code",
        "colab": {
          "base_uri": "https://localhost:8080/",
          "height": 102
        },
        "outputId": "fa91b1f7-9d90-48dc-bb47-3df8a94742c5"
      },
      "source": [
        "#PoS tagging \n",
        "from nltk.tag import pos_tag \n",
        "pos_tag('Fruit flies like a banana'.split())\n"
      ],
      "execution_count": 44,
      "outputs": [
        {
          "output_type": "execute_result",
          "data": {
            "text/plain": [
              "[('Fruit', 'NNP'),\n",
              " ('flies', 'VBZ'),\n",
              " ('like', 'IN'),\n",
              " ('a', 'DT'),\n",
              " ('banana', 'NN')]"
            ]
          },
          "metadata": {
            "tags": []
          },
          "execution_count": 44
        }
      ]
    },
    {
      "cell_type": "code",
      "metadata": {
        "id": "iIwlNH_2BJc2",
        "colab_type": "code",
        "colab": {
          "base_uri": "https://localhost:8080/",
          "height": 170
        },
        "outputId": "1faed41e-c151-428f-a81d-7b0f42720723"
      },
      "source": [
        "#ngram taggers \n",
        "import nltk \n",
        "from nltk.util import ngrams \n",
        "words = 'one two three four'.split(' ') \n",
        "#print(words) \n",
        "s = [] \n",
        "for n in range(1, 4):    \n",
        "  for ngram in ngrams(words, n):        \n",
        "    print(ngram)\n"
      ],
      "execution_count": 45,
      "outputs": [
        {
          "output_type": "stream",
          "text": [
            "('one',)\n",
            "('two',)\n",
            "('three',)\n",
            "('four',)\n",
            "('one', 'two')\n",
            "('two', 'three')\n",
            "('three', 'four')\n",
            "('one', 'two', 'three')\n",
            "('two', 'three', 'four')\n"
          ],
          "name": "stdout"
        }
      ]
    },
    {
      "cell_type": "code",
      "metadata": {
        "id": "3vaDDEZ5BtV2",
        "colab_type": "code",
        "colab": {
          "base_uri": "https://localhost:8080/",
          "height": 85
        },
        "outputId": "8286c210-c20c-4bee-81bc-9e1d1a8fab64"
      },
      "source": [
        "#Stemming \n",
        "from nltk.stem import PorterStemmer \n",
        "stemmer = PorterStemmer() \n",
        "words = [\"game\",\"gaming\",\"gamed\",\"games\"] \n",
        "ps = PorterStemmer() \n",
        "for word in words:    \n",
        "  print(ps.stem(word))"
      ],
      "execution_count": 46,
      "outputs": [
        {
          "output_type": "stream",
          "text": [
            "game\n",
            "game\n",
            "game\n",
            "game\n"
          ],
          "name": "stdout"
        }
      ]
    },
    {
      "cell_type": "code",
      "metadata": {
        "id": "orE8zSbjBteK",
        "colab_type": "code",
        "colab": {
          "base_uri": "https://localhost:8080/",
          "height": 34
        },
        "outputId": "bd47ffdf-14ed-495f-883e-1030a44804b3"
      },
      "source": [
        "stemmer.stem('cookery')\n"
      ],
      "execution_count": 47,
      "outputs": [
        {
          "output_type": "execute_result",
          "data": {
            "text/plain": [
              "'cookeri'"
            ]
          },
          "metadata": {
            "tags": []
          },
          "execution_count": 47
        }
      ]
    },
    {
      "cell_type": "code",
      "metadata": {
        "id": "N40RDi2dCqkO",
        "colab_type": "code",
        "colab": {
          "base_uri": "https://localhost:8080/",
          "height": 68
        },
        "outputId": "943db43f-6665-47f0-c81f-e5a293fe6daa"
      },
      "source": [
        "nltk.download('wordnet')"
      ],
      "execution_count": 48,
      "outputs": [
        {
          "output_type": "stream",
          "text": [
            "[nltk_data] Downloading package wordnet to /root/nltk_data...\n",
            "[nltk_data]   Package wordnet is already up-to-date!\n"
          ],
          "name": "stdout"
        },
        {
          "output_type": "execute_result",
          "data": {
            "text/plain": [
              "True"
            ]
          },
          "metadata": {
            "tags": []
          },
          "execution_count": 48
        }
      ]
    },
    {
      "cell_type": "code",
      "metadata": {
        "id": "XD56AdxFBtrq",
        "colab_type": "code",
        "colab": {
          "base_uri": "https://localhost:8080/",
          "height": 34
        },
        "outputId": "6f92c59b-e002-4b5f-bfa8-67aeaddcb718"
      },
      "source": [
        "#Lemmatization \n",
        "from nltk.stem import WordNetLemmatizer \n",
        "lemmatizer = WordNetLemmatizer() \n",
        "lemmatizer.lemmatize('cooking')"
      ],
      "execution_count": 49,
      "outputs": [
        {
          "output_type": "execute_result",
          "data": {
            "text/plain": [
              "'cooking'"
            ]
          },
          "metadata": {
            "tags": []
          },
          "execution_count": 49
        }
      ]
    },
    {
      "cell_type": "code",
      "metadata": {
        "id": "HQjj68aSBt6J",
        "colab_type": "code",
        "colab": {
          "base_uri": "https://localhost:8080/",
          "height": 68
        },
        "outputId": "3bb2d506-6066-433d-d10f-16e6399a34f5"
      },
      "source": [
        "#Bag of words \n",
        "docs = ['First sentence', 'First second set', 'next set'] \n",
        "#Identify the unique words \n",
        "###For eack row, tokenize \n",
        "unique_words = [] \n",
        "for row in docs:    \n",
        "    tokens = row.split()    \n",
        "    for token in tokens:                \n",
        "        if token in unique_words:            \n",
        "           pass        \n",
        "        else:            \n",
        "            unique_words.append(token) \n",
        "print(unique_words)           \n",
        "bow = [] \n",
        "for row in docs:    \n",
        "    doc_to_bow = []    \n",
        "    tokens = row.split()    \n",
        "    for word in unique_words:        \n",
        "        if word in tokens:            \n",
        "           doc_to_bow.append(1)        \n",
        "        else:            \n",
        "            doc_to_bow.append(0)     \n",
        "    bow.append(doc_to_bow) \n",
        "print(docs) \n",
        "print(bow)"
      ],
      "execution_count": 50,
      "outputs": [
        {
          "output_type": "stream",
          "text": [
            "['First', 'sentence', 'second', 'set', 'next']\n",
            "['First sentence', 'First second set', 'next set']\n",
            "[[1, 1, 0, 0, 0], [1, 0, 1, 1, 0], [0, 0, 0, 1, 1]]\n"
          ],
          "name": "stdout"
        }
      ]
    },
    {
      "cell_type": "code",
      "metadata": {
        "id": "uzd3WhVsBt_Y",
        "colab_type": "code",
        "colab": {
          "base_uri": "https://localhost:8080/",
          "height": 119
        },
        "outputId": "58c0872a-a943-4d0e-fd07-857bca55c857"
      },
      "source": [
        " #TF-IDF \n",
        "from sklearn.feature_extraction.text import CountVectorizer\n",
        "from sklearn.feature_extraction.text import TfidfTransformer\n",
        "from sklearn.feature_extraction.text import TfidfVectorizer \n",
        "# list of text documents \n",
        "text = [\"The quick brown fox jumped over the lazy dog.\",\"The dog.\",\"The fox\"] \n",
        "# create the transform \n",
        "vectorizer = TfidfVectorizer() \n",
        "# tokenize and build vocab \n",
        "vectorizer.fit(text) \n",
        "# summarize \n",
        "print(vectorizer.vocabulary_) \n",
        "print(vectorizer.idf_) \n",
        "# encode document \n",
        "vector = vectorizer.transform([text[0]]) \n",
        "# summarize encoded vector \n",
        "print(vector.shape) \n",
        "print(vector.toarray())\n"
      ],
      "execution_count": 51,
      "outputs": [
        {
          "output_type": "stream",
          "text": [
            "{'the': 7, 'quick': 6, 'brown': 0, 'fox': 2, 'jumped': 3, 'over': 5, 'lazy': 4, 'dog': 1}\n",
            "[1.69314718 1.28768207 1.28768207 1.69314718 1.69314718 1.69314718\n",
            " 1.69314718 1.        ]\n",
            "(1, 8)\n",
            "[[0.36388646 0.27674503 0.27674503 0.36388646 0.36388646 0.36388646\n",
            "  0.36388646 0.42983441]]\n"
          ],
          "name": "stdout"
        }
      ]
    },
    {
      "cell_type": "code",
      "metadata": {
        "id": "ZI8zE2mFFvt7",
        "colab_type": "code",
        "colab": {
          "base_uri": "https://localhost:8080/",
          "height": 68
        },
        "outputId": "76aa8f48-a396-460b-edc0-c65b03709cb2"
      },
      "source": [
        "nltk.download('brown')"
      ],
      "execution_count": 52,
      "outputs": [
        {
          "output_type": "stream",
          "text": [
            "[nltk_data] Downloading package brown to /root/nltk_data...\n",
            "[nltk_data]   Package brown is already up-to-date!\n"
          ],
          "name": "stdout"
        },
        {
          "output_type": "execute_result",
          "data": {
            "text/plain": [
              "True"
            ]
          },
          "metadata": {
            "tags": []
          },
          "execution_count": 52
        }
      ]
    },
    {
      "cell_type": "code",
      "metadata": {
        "id": "7lvUKD8hBuG_",
        "colab_type": "code",
        "colab": {}
      },
      "source": [
        "#Embedding \n",
        "from gensim.models import Word2Vec \n",
        "from nltk.corpus import brown, movie_reviews, treebank \n",
        "b = Word2Vec(brown.sents())\n"
      ],
      "execution_count": 0,
      "outputs": []
    },
    {
      "cell_type": "code",
      "metadata": {
        "id": "BiOChcbvBuEB",
        "colab_type": "code",
        "colab": {
          "base_uri": "https://localhost:8080/",
          "height": 190
        },
        "outputId": "f4e15347-e40c-4ba5-b8d0-b63f3b67f84f"
      },
      "source": [
        "b.most_similar('money', topn=5)\n"
      ],
      "execution_count": 54,
      "outputs": [
        {
          "output_type": "stream",
          "text": [
            "/usr/local/lib/python3.6/dist-packages/ipykernel_launcher.py:1: DeprecationWarning: Call to deprecated `most_similar` (Method will be removed in 4.0.0, use self.wv.most_similar() instead).\n",
            "  \"\"\"Entry point for launching an IPython kernel.\n",
            "/usr/local/lib/python3.6/dist-packages/gensim/matutils.py:737: FutureWarning: Conversion of the second argument of issubdtype from `int` to `np.signedinteger` is deprecated. In future, it will be treated as `np.int64 == np.dtype(int).type`.\n",
            "  if np.issubdtype(vec.dtype, np.int):\n"
          ],
          "name": "stderr"
        },
        {
          "output_type": "execute_result",
          "data": {
            "text/plain": [
              "[('care', 0.9178472757339478),\n",
              " ('job', 0.9125343561172485),\n",
              " ('trouble', 0.9092035293579102),\n",
              " ('getting', 0.8865659236907959),\n",
              " ('chance', 0.8861125707626343)]"
            ]
          },
          "metadata": {
            "tags": []
          },
          "execution_count": 54
        }
      ]
    },
    {
      "cell_type": "code",
      "metadata": {
        "id": "crukV73dBtaa",
        "colab_type": "code",
        "colab": {
          "base_uri": "https://localhost:8080/",
          "height": 190
        },
        "outputId": "a128b96d-a109-4d6a-9707-404ab4603617"
      },
      "source": [
        "b.most_similar('great', topn=5) "
      ],
      "execution_count": 55,
      "outputs": [
        {
          "output_type": "stream",
          "text": [
            "/usr/local/lib/python3.6/dist-packages/ipykernel_launcher.py:1: DeprecationWarning: Call to deprecated `most_similar` (Method will be removed in 4.0.0, use self.wv.most_similar() instead).\n",
            "  \"\"\"Entry point for launching an IPython kernel.\n",
            "/usr/local/lib/python3.6/dist-packages/gensim/matutils.py:737: FutureWarning: Conversion of the second argument of issubdtype from `int` to `np.signedinteger` is deprecated. In future, it will be treated as `np.int64 == np.dtype(int).type`.\n",
            "  if np.issubdtype(vec.dtype, np.int):\n"
          ],
          "name": "stderr"
        },
        {
          "output_type": "execute_result",
          "data": {
            "text/plain": [
              "[('common', 0.8732550740242004),\n",
              " ('experience', 0.8603342175483704),\n",
              " ('limited', 0.8119268417358398),\n",
              " ('part', 0.7989245653152466),\n",
              " ('sense', 0.7967947721481323)]"
            ]
          },
          "metadata": {
            "tags": []
          },
          "execution_count": 55
        }
      ]
    },
    {
      "cell_type": "code",
      "metadata": {
        "id": "7tyk2HmlBtTY",
        "colab_type": "code",
        "colab": {}
      },
      "source": [
        " file = open(\"/content/tweetset.csv\", encoding=\"utf8\")"
      ],
      "execution_count": 0,
      "outputs": []
    },
    {
      "cell_type": "code",
      "metadata": {
        "id": "gvki0OxmBtRA",
        "colab_type": "code",
        "colab": {
          "base_uri": "https://localhost:8080/",
          "height": 34
        },
        "outputId": "9125920f-225a-4dcf-dbee-9320e22ae789"
      },
      "source": [
        "pwd()"
      ],
      "execution_count": 57,
      "outputs": [
        {
          "output_type": "execute_result",
          "data": {
            "text/plain": [
              "'/content'"
            ]
          },
          "metadata": {
            "tags": []
          },
          "execution_count": 57
        }
      ]
    },
    {
      "cell_type": "code",
      "metadata": {
        "id": "eXiWpWOdAO20",
        "colab_type": "code",
        "colab": {
          "base_uri": "https://localhost:8080/",
          "height": 34
        },
        "outputId": "c5ee643f-108b-41f4-c7af-b7445613fbf9"
      },
      "source": [
        "data = file.readlines()[0:5] \n",
        "#print(data) \n",
        "#Open the file, if it is closed \n",
        "#data = file.readlines() \n",
        "no_records = len(data) \n",
        "print(no_records)\n"
      ],
      "execution_count": 58,
      "outputs": [
        {
          "output_type": "stream",
          "text": [
            "5\n"
          ],
          "name": "stdout"
        }
      ]
    },
    {
      "cell_type": "code",
      "metadata": {
        "id": "aQdwMHcdAO0r",
        "colab_type": "code",
        "colab": {
          "base_uri": "https://localhost:8080/",
          "height": 1000
        },
        "outputId": "5bcdbebe-e75e-4b20-849d-4fa71e96271f"
      },
      "source": [
        "#Strip the records and create a word list for each tweet \n",
        "word_list = [] \n",
        "for record in (data):    \n",
        "  #print(record)    \n",
        "  words = []    \n",
        "  tokens = record.split()    \n",
        "  #print(tokens)    \n",
        "  for token in tokens:        \n",
        "    words.append(token.lower())    \n",
        "    word_list.append(words)       \n",
        "word_list"
      ],
      "execution_count": 59,
      "outputs": [
        {
          "output_type": "execute_result",
          "data": {
            "text/plain": [
              "[['tweet,category'],\n",
              " ['not', 'available,negative'],\n",
              " ['not', 'available,negative'],\n",
              " ['ios',\n",
              "  '9',\n",
              "  'app',\n",
              "  'transport',\n",
              "  'security.',\n",
              "  'mm',\n",
              "  'need',\n",
              "  'to',\n",
              "  'check',\n",
              "  'if',\n",
              "  'my',\n",
              "  '3rd',\n",
              "  'party',\n",
              "  'network',\n",
              "  'pod',\n",
              "  'supports',\n",
              "  'it',\n",
              "  'http://t.co/fmtcfuadgj,neutral'],\n",
              " ['ios',\n",
              "  '9',\n",
              "  'app',\n",
              "  'transport',\n",
              "  'security.',\n",
              "  'mm',\n",
              "  'need',\n",
              "  'to',\n",
              "  'check',\n",
              "  'if',\n",
              "  'my',\n",
              "  '3rd',\n",
              "  'party',\n",
              "  'network',\n",
              "  'pod',\n",
              "  'supports',\n",
              "  'it',\n",
              "  'http://t.co/fmtcfuadgj,neutral'],\n",
              " ['ios',\n",
              "  '9',\n",
              "  'app',\n",
              "  'transport',\n",
              "  'security.',\n",
              "  'mm',\n",
              "  'need',\n",
              "  'to',\n",
              "  'check',\n",
              "  'if',\n",
              "  'my',\n",
              "  '3rd',\n",
              "  'party',\n",
              "  'network',\n",
              "  'pod',\n",
              "  'supports',\n",
              "  'it',\n",
              "  'http://t.co/fmtcfuadgj,neutral'],\n",
              " ['ios',\n",
              "  '9',\n",
              "  'app',\n",
              "  'transport',\n",
              "  'security.',\n",
              "  'mm',\n",
              "  'need',\n",
              "  'to',\n",
              "  'check',\n",
              "  'if',\n",
              "  'my',\n",
              "  '3rd',\n",
              "  'party',\n",
              "  'network',\n",
              "  'pod',\n",
              "  'supports',\n",
              "  'it',\n",
              "  'http://t.co/fmtcfuadgj,neutral'],\n",
              " ['ios',\n",
              "  '9',\n",
              "  'app',\n",
              "  'transport',\n",
              "  'security.',\n",
              "  'mm',\n",
              "  'need',\n",
              "  'to',\n",
              "  'check',\n",
              "  'if',\n",
              "  'my',\n",
              "  '3rd',\n",
              "  'party',\n",
              "  'network',\n",
              "  'pod',\n",
              "  'supports',\n",
              "  'it',\n",
              "  'http://t.co/fmtcfuadgj,neutral'],\n",
              " ['ios',\n",
              "  '9',\n",
              "  'app',\n",
              "  'transport',\n",
              "  'security.',\n",
              "  'mm',\n",
              "  'need',\n",
              "  'to',\n",
              "  'check',\n",
              "  'if',\n",
              "  'my',\n",
              "  '3rd',\n",
              "  'party',\n",
              "  'network',\n",
              "  'pod',\n",
              "  'supports',\n",
              "  'it',\n",
              "  'http://t.co/fmtcfuadgj,neutral'],\n",
              " ['ios',\n",
              "  '9',\n",
              "  'app',\n",
              "  'transport',\n",
              "  'security.',\n",
              "  'mm',\n",
              "  'need',\n",
              "  'to',\n",
              "  'check',\n",
              "  'if',\n",
              "  'my',\n",
              "  '3rd',\n",
              "  'party',\n",
              "  'network',\n",
              "  'pod',\n",
              "  'supports',\n",
              "  'it',\n",
              "  'http://t.co/fmtcfuadgj,neutral'],\n",
              " ['ios',\n",
              "  '9',\n",
              "  'app',\n",
              "  'transport',\n",
              "  'security.',\n",
              "  'mm',\n",
              "  'need',\n",
              "  'to',\n",
              "  'check',\n",
              "  'if',\n",
              "  'my',\n",
              "  '3rd',\n",
              "  'party',\n",
              "  'network',\n",
              "  'pod',\n",
              "  'supports',\n",
              "  'it',\n",
              "  'http://t.co/fmtcfuadgj,neutral'],\n",
              " ['ios',\n",
              "  '9',\n",
              "  'app',\n",
              "  'transport',\n",
              "  'security.',\n",
              "  'mm',\n",
              "  'need',\n",
              "  'to',\n",
              "  'check',\n",
              "  'if',\n",
              "  'my',\n",
              "  '3rd',\n",
              "  'party',\n",
              "  'network',\n",
              "  'pod',\n",
              "  'supports',\n",
              "  'it',\n",
              "  'http://t.co/fmtcfuadgj,neutral'],\n",
              " ['ios',\n",
              "  '9',\n",
              "  'app',\n",
              "  'transport',\n",
              "  'security.',\n",
              "  'mm',\n",
              "  'need',\n",
              "  'to',\n",
              "  'check',\n",
              "  'if',\n",
              "  'my',\n",
              "  '3rd',\n",
              "  'party',\n",
              "  'network',\n",
              "  'pod',\n",
              "  'supports',\n",
              "  'it',\n",
              "  'http://t.co/fmtcfuadgj,neutral'],\n",
              " ['ios',\n",
              "  '9',\n",
              "  'app',\n",
              "  'transport',\n",
              "  'security.',\n",
              "  'mm',\n",
              "  'need',\n",
              "  'to',\n",
              "  'check',\n",
              "  'if',\n",
              "  'my',\n",
              "  '3rd',\n",
              "  'party',\n",
              "  'network',\n",
              "  'pod',\n",
              "  'supports',\n",
              "  'it',\n",
              "  'http://t.co/fmtcfuadgj,neutral'],\n",
              " ['ios',\n",
              "  '9',\n",
              "  'app',\n",
              "  'transport',\n",
              "  'security.',\n",
              "  'mm',\n",
              "  'need',\n",
              "  'to',\n",
              "  'check',\n",
              "  'if',\n",
              "  'my',\n",
              "  '3rd',\n",
              "  'party',\n",
              "  'network',\n",
              "  'pod',\n",
              "  'supports',\n",
              "  'it',\n",
              "  'http://t.co/fmtcfuadgj,neutral'],\n",
              " ['ios',\n",
              "  '9',\n",
              "  'app',\n",
              "  'transport',\n",
              "  'security.',\n",
              "  'mm',\n",
              "  'need',\n",
              "  'to',\n",
              "  'check',\n",
              "  'if',\n",
              "  'my',\n",
              "  '3rd',\n",
              "  'party',\n",
              "  'network',\n",
              "  'pod',\n",
              "  'supports',\n",
              "  'it',\n",
              "  'http://t.co/fmtcfuadgj,neutral'],\n",
              " ['ios',\n",
              "  '9',\n",
              "  'app',\n",
              "  'transport',\n",
              "  'security.',\n",
              "  'mm',\n",
              "  'need',\n",
              "  'to',\n",
              "  'check',\n",
              "  'if',\n",
              "  'my',\n",
              "  '3rd',\n",
              "  'party',\n",
              "  'network',\n",
              "  'pod',\n",
              "  'supports',\n",
              "  'it',\n",
              "  'http://t.co/fmtcfuadgj,neutral'],\n",
              " ['ios',\n",
              "  '9',\n",
              "  'app',\n",
              "  'transport',\n",
              "  'security.',\n",
              "  'mm',\n",
              "  'need',\n",
              "  'to',\n",
              "  'check',\n",
              "  'if',\n",
              "  'my',\n",
              "  '3rd',\n",
              "  'party',\n",
              "  'network',\n",
              "  'pod',\n",
              "  'supports',\n",
              "  'it',\n",
              "  'http://t.co/fmtcfuadgj,neutral'],\n",
              " ['ios',\n",
              "  '9',\n",
              "  'app',\n",
              "  'transport',\n",
              "  'security.',\n",
              "  'mm',\n",
              "  'need',\n",
              "  'to',\n",
              "  'check',\n",
              "  'if',\n",
              "  'my',\n",
              "  '3rd',\n",
              "  'party',\n",
              "  'network',\n",
              "  'pod',\n",
              "  'supports',\n",
              "  'it',\n",
              "  'http://t.co/fmtcfuadgj,neutral'],\n",
              " ['ios',\n",
              "  '9',\n",
              "  'app',\n",
              "  'transport',\n",
              "  'security.',\n",
              "  'mm',\n",
              "  'need',\n",
              "  'to',\n",
              "  'check',\n",
              "  'if',\n",
              "  'my',\n",
              "  '3rd',\n",
              "  'party',\n",
              "  'network',\n",
              "  'pod',\n",
              "  'supports',\n",
              "  'it',\n",
              "  'http://t.co/fmtcfuadgj,neutral'],\n",
              " ['ios',\n",
              "  '9',\n",
              "  'app',\n",
              "  'transport',\n",
              "  'security.',\n",
              "  'mm',\n",
              "  'need',\n",
              "  'to',\n",
              "  'check',\n",
              "  'if',\n",
              "  'my',\n",
              "  '3rd',\n",
              "  'party',\n",
              "  'network',\n",
              "  'pod',\n",
              "  'supports',\n",
              "  'it',\n",
              "  'http://t.co/fmtcfuadgj,neutral'],\n",
              " ['\"mar',\n",
              "  'if',\n",
              "  'you',\n",
              "  'have',\n",
              "  'an',\n",
              "  'ios',\n",
              "  'device,',\n",
              "  'you',\n",
              "  'should',\n",
              "  'download',\n",
              "  'our',\n",
              "  'app',\n",
              "  'too:',\n",
              "  'http://t.co/gl3tn2udnd\",neutral'],\n",
              " ['\"mar',\n",
              "  'if',\n",
              "  'you',\n",
              "  'have',\n",
              "  'an',\n",
              "  'ios',\n",
              "  'device,',\n",
              "  'you',\n",
              "  'should',\n",
              "  'download',\n",
              "  'our',\n",
              "  'app',\n",
              "  'too:',\n",
              "  'http://t.co/gl3tn2udnd\",neutral'],\n",
              " ['\"mar',\n",
              "  'if',\n",
              "  'you',\n",
              "  'have',\n",
              "  'an',\n",
              "  'ios',\n",
              "  'device,',\n",
              "  'you',\n",
              "  'should',\n",
              "  'download',\n",
              "  'our',\n",
              "  'app',\n",
              "  'too:',\n",
              "  'http://t.co/gl3tn2udnd\",neutral'],\n",
              " ['\"mar',\n",
              "  'if',\n",
              "  'you',\n",
              "  'have',\n",
              "  'an',\n",
              "  'ios',\n",
              "  'device,',\n",
              "  'you',\n",
              "  'should',\n",
              "  'download',\n",
              "  'our',\n",
              "  'app',\n",
              "  'too:',\n",
              "  'http://t.co/gl3tn2udnd\",neutral'],\n",
              " ['\"mar',\n",
              "  'if',\n",
              "  'you',\n",
              "  'have',\n",
              "  'an',\n",
              "  'ios',\n",
              "  'device,',\n",
              "  'you',\n",
              "  'should',\n",
              "  'download',\n",
              "  'our',\n",
              "  'app',\n",
              "  'too:',\n",
              "  'http://t.co/gl3tn2udnd\",neutral'],\n",
              " ['\"mar',\n",
              "  'if',\n",
              "  'you',\n",
              "  'have',\n",
              "  'an',\n",
              "  'ios',\n",
              "  'device,',\n",
              "  'you',\n",
              "  'should',\n",
              "  'download',\n",
              "  'our',\n",
              "  'app',\n",
              "  'too:',\n",
              "  'http://t.co/gl3tn2udnd\",neutral'],\n",
              " ['\"mar',\n",
              "  'if',\n",
              "  'you',\n",
              "  'have',\n",
              "  'an',\n",
              "  'ios',\n",
              "  'device,',\n",
              "  'you',\n",
              "  'should',\n",
              "  'download',\n",
              "  'our',\n",
              "  'app',\n",
              "  'too:',\n",
              "  'http://t.co/gl3tn2udnd\",neutral'],\n",
              " ['\"mar',\n",
              "  'if',\n",
              "  'you',\n",
              "  'have',\n",
              "  'an',\n",
              "  'ios',\n",
              "  'device,',\n",
              "  'you',\n",
              "  'should',\n",
              "  'download',\n",
              "  'our',\n",
              "  'app',\n",
              "  'too:',\n",
              "  'http://t.co/gl3tn2udnd\",neutral'],\n",
              " ['\"mar',\n",
              "  'if',\n",
              "  'you',\n",
              "  'have',\n",
              "  'an',\n",
              "  'ios',\n",
              "  'device,',\n",
              "  'you',\n",
              "  'should',\n",
              "  'download',\n",
              "  'our',\n",
              "  'app',\n",
              "  'too:',\n",
              "  'http://t.co/gl3tn2udnd\",neutral'],\n",
              " ['\"mar',\n",
              "  'if',\n",
              "  'you',\n",
              "  'have',\n",
              "  'an',\n",
              "  'ios',\n",
              "  'device,',\n",
              "  'you',\n",
              "  'should',\n",
              "  'download',\n",
              "  'our',\n",
              "  'app',\n",
              "  'too:',\n",
              "  'http://t.co/gl3tn2udnd\",neutral'],\n",
              " ['\"mar',\n",
              "  'if',\n",
              "  'you',\n",
              "  'have',\n",
              "  'an',\n",
              "  'ios',\n",
              "  'device,',\n",
              "  'you',\n",
              "  'should',\n",
              "  'download',\n",
              "  'our',\n",
              "  'app',\n",
              "  'too:',\n",
              "  'http://t.co/gl3tn2udnd\",neutral'],\n",
              " ['\"mar',\n",
              "  'if',\n",
              "  'you',\n",
              "  'have',\n",
              "  'an',\n",
              "  'ios',\n",
              "  'device,',\n",
              "  'you',\n",
              "  'should',\n",
              "  'download',\n",
              "  'our',\n",
              "  'app',\n",
              "  'too:',\n",
              "  'http://t.co/gl3tn2udnd\",neutral'],\n",
              " ['\"mar',\n",
              "  'if',\n",
              "  'you',\n",
              "  'have',\n",
              "  'an',\n",
              "  'ios',\n",
              "  'device,',\n",
              "  'you',\n",
              "  'should',\n",
              "  'download',\n",
              "  'our',\n",
              "  'app',\n",
              "  'too:',\n",
              "  'http://t.co/gl3tn2udnd\",neutral'],\n",
              " ['\"mar',\n",
              "  'if',\n",
              "  'you',\n",
              "  'have',\n",
              "  'an',\n",
              "  'ios',\n",
              "  'device,',\n",
              "  'you',\n",
              "  'should',\n",
              "  'download',\n",
              "  'our',\n",
              "  'app',\n",
              "  'too:',\n",
              "  'http://t.co/gl3tn2udnd\",neutral'],\n",
              " ['@jimmie_vanagon',\n",
              "  'my',\n",
              "  'phone',\n",
              "  'does',\n",
              "  'not',\n",
              "  'run',\n",
              "  'on',\n",
              "  'latest',\n",
              "  'ios',\n",
              "  'which',\n",
              "  'may',\n",
              "  'account',\n",
              "  'for',\n",
              "  'problem',\n",
              "  'the',\n",
              "  'other',\n",
              "  'day',\n",
              "  '..',\n",
              "  'time',\n",
              "  'it',\n",
              "  'was',\n",
              "  'replaced,negative'],\n",
              " ['@jimmie_vanagon',\n",
              "  'my',\n",
              "  'phone',\n",
              "  'does',\n",
              "  'not',\n",
              "  'run',\n",
              "  'on',\n",
              "  'latest',\n",
              "  'ios',\n",
              "  'which',\n",
              "  'may',\n",
              "  'account',\n",
              "  'for',\n",
              "  'problem',\n",
              "  'the',\n",
              "  'other',\n",
              "  'day',\n",
              "  '..',\n",
              "  'time',\n",
              "  'it',\n",
              "  'was',\n",
              "  'replaced,negative'],\n",
              " ['@jimmie_vanagon',\n",
              "  'my',\n",
              "  'phone',\n",
              "  'does',\n",
              "  'not',\n",
              "  'run',\n",
              "  'on',\n",
              "  'latest',\n",
              "  'ios',\n",
              "  'which',\n",
              "  'may',\n",
              "  'account',\n",
              "  'for',\n",
              "  'problem',\n",
              "  'the',\n",
              "  'other',\n",
              "  'day',\n",
              "  '..',\n",
              "  'time',\n",
              "  'it',\n",
              "  'was',\n",
              "  'replaced,negative'],\n",
              " ['@jimmie_vanagon',\n",
              "  'my',\n",
              "  'phone',\n",
              "  'does',\n",
              "  'not',\n",
              "  'run',\n",
              "  'on',\n",
              "  'latest',\n",
              "  'ios',\n",
              "  'which',\n",
              "  'may',\n",
              "  'account',\n",
              "  'for',\n",
              "  'problem',\n",
              "  'the',\n",
              "  'other',\n",
              "  'day',\n",
              "  '..',\n",
              "  'time',\n",
              "  'it',\n",
              "  'was',\n",
              "  'replaced,negative'],\n",
              " ['@jimmie_vanagon',\n",
              "  'my',\n",
              "  'phone',\n",
              "  'does',\n",
              "  'not',\n",
              "  'run',\n",
              "  'on',\n",
              "  'latest',\n",
              "  'ios',\n",
              "  'which',\n",
              "  'may',\n",
              "  'account',\n",
              "  'for',\n",
              "  'problem',\n",
              "  'the',\n",
              "  'other',\n",
              "  'day',\n",
              "  '..',\n",
              "  'time',\n",
              "  'it',\n",
              "  'was',\n",
              "  'replaced,negative'],\n",
              " ['@jimmie_vanagon',\n",
              "  'my',\n",
              "  'phone',\n",
              "  'does',\n",
              "  'not',\n",
              "  'run',\n",
              "  'on',\n",
              "  'latest',\n",
              "  'ios',\n",
              "  'which',\n",
              "  'may',\n",
              "  'account',\n",
              "  'for',\n",
              "  'problem',\n",
              "  'the',\n",
              "  'other',\n",
              "  'day',\n",
              "  '..',\n",
              "  'time',\n",
              "  'it',\n",
              "  'was',\n",
              "  'replaced,negative'],\n",
              " ['@jimmie_vanagon',\n",
              "  'my',\n",
              "  'phone',\n",
              "  'does',\n",
              "  'not',\n",
              "  'run',\n",
              "  'on',\n",
              "  'latest',\n",
              "  'ios',\n",
              "  'which',\n",
              "  'may',\n",
              "  'account',\n",
              "  'for',\n",
              "  'problem',\n",
              "  'the',\n",
              "  'other',\n",
              "  'day',\n",
              "  '..',\n",
              "  'time',\n",
              "  'it',\n",
              "  'was',\n",
              "  'replaced,negative'],\n",
              " ['@jimmie_vanagon',\n",
              "  'my',\n",
              "  'phone',\n",
              "  'does',\n",
              "  'not',\n",
              "  'run',\n",
              "  'on',\n",
              "  'latest',\n",
              "  'ios',\n",
              "  'which',\n",
              "  'may',\n",
              "  'account',\n",
              "  'for',\n",
              "  'problem',\n",
              "  'the',\n",
              "  'other',\n",
              "  'day',\n",
              "  '..',\n",
              "  'time',\n",
              "  'it',\n",
              "  'was',\n",
              "  'replaced,negative'],\n",
              " ['@jimmie_vanagon',\n",
              "  'my',\n",
              "  'phone',\n",
              "  'does',\n",
              "  'not',\n",
              "  'run',\n",
              "  'on',\n",
              "  'latest',\n",
              "  'ios',\n",
              "  'which',\n",
              "  'may',\n",
              "  'account',\n",
              "  'for',\n",
              "  'problem',\n",
              "  'the',\n",
              "  'other',\n",
              "  'day',\n",
              "  '..',\n",
              "  'time',\n",
              "  'it',\n",
              "  'was',\n",
              "  'replaced,negative'],\n",
              " ['@jimmie_vanagon',\n",
              "  'my',\n",
              "  'phone',\n",
              "  'does',\n",
              "  'not',\n",
              "  'run',\n",
              "  'on',\n",
              "  'latest',\n",
              "  'ios',\n",
              "  'which',\n",
              "  'may',\n",
              "  'account',\n",
              "  'for',\n",
              "  'problem',\n",
              "  'the',\n",
              "  'other',\n",
              "  'day',\n",
              "  '..',\n",
              "  'time',\n",
              "  'it',\n",
              "  'was',\n",
              "  'replaced,negative'],\n",
              " ['@jimmie_vanagon',\n",
              "  'my',\n",
              "  'phone',\n",
              "  'does',\n",
              "  'not',\n",
              "  'run',\n",
              "  'on',\n",
              "  'latest',\n",
              "  'ios',\n",
              "  'which',\n",
              "  'may',\n",
              "  'account',\n",
              "  'for',\n",
              "  'problem',\n",
              "  'the',\n",
              "  'other',\n",
              "  'day',\n",
              "  '..',\n",
              "  'time',\n",
              "  'it',\n",
              "  'was',\n",
              "  'replaced,negative'],\n",
              " ['@jimmie_vanagon',\n",
              "  'my',\n",
              "  'phone',\n",
              "  'does',\n",
              "  'not',\n",
              "  'run',\n",
              "  'on',\n",
              "  'latest',\n",
              "  'ios',\n",
              "  'which',\n",
              "  'may',\n",
              "  'account',\n",
              "  'for',\n",
              "  'problem',\n",
              "  'the',\n",
              "  'other',\n",
              "  'day',\n",
              "  '..',\n",
              "  'time',\n",
              "  'it',\n",
              "  'was',\n",
              "  'replaced,negative'],\n",
              " ['@jimmie_vanagon',\n",
              "  'my',\n",
              "  'phone',\n",
              "  'does',\n",
              "  'not',\n",
              "  'run',\n",
              "  'on',\n",
              "  'latest',\n",
              "  'ios',\n",
              "  'which',\n",
              "  'may',\n",
              "  'account',\n",
              "  'for',\n",
              "  'problem',\n",
              "  'the',\n",
              "  'other',\n",
              "  'day',\n",
              "  '..',\n",
              "  'time',\n",
              "  'it',\n",
              "  'was',\n",
              "  'replaced,negative'],\n",
              " ['@jimmie_vanagon',\n",
              "  'my',\n",
              "  'phone',\n",
              "  'does',\n",
              "  'not',\n",
              "  'run',\n",
              "  'on',\n",
              "  'latest',\n",
              "  'ios',\n",
              "  'which',\n",
              "  'may',\n",
              "  'account',\n",
              "  'for',\n",
              "  'problem',\n",
              "  'the',\n",
              "  'other',\n",
              "  'day',\n",
              "  '..',\n",
              "  'time',\n",
              "  'it',\n",
              "  'was',\n",
              "  'replaced,negative'],\n",
              " ['@jimmie_vanagon',\n",
              "  'my',\n",
              "  'phone',\n",
              "  'does',\n",
              "  'not',\n",
              "  'run',\n",
              "  'on',\n",
              "  'latest',\n",
              "  'ios',\n",
              "  'which',\n",
              "  'may',\n",
              "  'account',\n",
              "  'for',\n",
              "  'problem',\n",
              "  'the',\n",
              "  'other',\n",
              "  'day',\n",
              "  '..',\n",
              "  'time',\n",
              "  'it',\n",
              "  'was',\n",
              "  'replaced,negative'],\n",
              " ['@jimmie_vanagon',\n",
              "  'my',\n",
              "  'phone',\n",
              "  'does',\n",
              "  'not',\n",
              "  'run',\n",
              "  'on',\n",
              "  'latest',\n",
              "  'ios',\n",
              "  'which',\n",
              "  'may',\n",
              "  'account',\n",
              "  'for',\n",
              "  'problem',\n",
              "  'the',\n",
              "  'other',\n",
              "  'day',\n",
              "  '..',\n",
              "  'time',\n",
              "  'it',\n",
              "  'was',\n",
              "  'replaced,negative'],\n",
              " ['@jimmie_vanagon',\n",
              "  'my',\n",
              "  'phone',\n",
              "  'does',\n",
              "  'not',\n",
              "  'run',\n",
              "  'on',\n",
              "  'latest',\n",
              "  'ios',\n",
              "  'which',\n",
              "  'may',\n",
              "  'account',\n",
              "  'for',\n",
              "  'problem',\n",
              "  'the',\n",
              "  'other',\n",
              "  'day',\n",
              "  '..',\n",
              "  'time',\n",
              "  'it',\n",
              "  'was',\n",
              "  'replaced,negative'],\n",
              " ['@jimmie_vanagon',\n",
              "  'my',\n",
              "  'phone',\n",
              "  'does',\n",
              "  'not',\n",
              "  'run',\n",
              "  'on',\n",
              "  'latest',\n",
              "  'ios',\n",
              "  'which',\n",
              "  'may',\n",
              "  'account',\n",
              "  'for',\n",
              "  'problem',\n",
              "  'the',\n",
              "  'other',\n",
              "  'day',\n",
              "  '..',\n",
              "  'time',\n",
              "  'it',\n",
              "  'was',\n",
              "  'replaced,negative'],\n",
              " ['@jimmie_vanagon',\n",
              "  'my',\n",
              "  'phone',\n",
              "  'does',\n",
              "  'not',\n",
              "  'run',\n",
              "  'on',\n",
              "  'latest',\n",
              "  'ios',\n",
              "  'which',\n",
              "  'may',\n",
              "  'account',\n",
              "  'for',\n",
              "  'problem',\n",
              "  'the',\n",
              "  'other',\n",
              "  'day',\n",
              "  '..',\n",
              "  'time',\n",
              "  'it',\n",
              "  'was',\n",
              "  'replaced,negative'],\n",
              " ['@jimmie_vanagon',\n",
              "  'my',\n",
              "  'phone',\n",
              "  'does',\n",
              "  'not',\n",
              "  'run',\n",
              "  'on',\n",
              "  'latest',\n",
              "  'ios',\n",
              "  'which',\n",
              "  'may',\n",
              "  'account',\n",
              "  'for',\n",
              "  'problem',\n",
              "  'the',\n",
              "  'other',\n",
              "  'day',\n",
              "  '..',\n",
              "  'time',\n",
              "  'it',\n",
              "  'was',\n",
              "  'replaced,negative'],\n",
              " ['@jimmie_vanagon',\n",
              "  'my',\n",
              "  'phone',\n",
              "  'does',\n",
              "  'not',\n",
              "  'run',\n",
              "  'on',\n",
              "  'latest',\n",
              "  'ios',\n",
              "  'which',\n",
              "  'may',\n",
              "  'account',\n",
              "  'for',\n",
              "  'problem',\n",
              "  'the',\n",
              "  'other',\n",
              "  'day',\n",
              "  '..',\n",
              "  'time',\n",
              "  'it',\n",
              "  'was',\n",
              "  'replaced,negative'],\n",
              " ['@jimmie_vanagon',\n",
              "  'my',\n",
              "  'phone',\n",
              "  'does',\n",
              "  'not',\n",
              "  'run',\n",
              "  'on',\n",
              "  'latest',\n",
              "  'ios',\n",
              "  'which',\n",
              "  'may',\n",
              "  'account',\n",
              "  'for',\n",
              "  'problem',\n",
              "  'the',\n",
              "  'other',\n",
              "  'day',\n",
              "  '..',\n",
              "  'time',\n",
              "  'it',\n",
              "  'was',\n",
              "  'replaced,negative']]"
            ]
          },
          "metadata": {
            "tags": []
          },
          "execution_count": 59
        }
      ]
    },
    {
      "cell_type": "code",
      "metadata": {
        "id": "ewdUjJ_H-Ro8",
        "colab_type": "code",
        "colab": {}
      },
      "source": [
        " file = open(\"/content/AFINN-111.csv\", encoding=\"utf8\")"
      ],
      "execution_count": 0,
      "outputs": []
    },
    {
      "cell_type": "code",
      "metadata": {
        "id": "pFpxsICAHr-W",
        "colab_type": "code",
        "colab": {}
      },
      "source": [
        "lexicons = {} \n",
        "records =file.readlines() \n",
        "for record in records:    \n",
        "    #print(record) # line contains newline charecter    \n",
        "    #print(record.rstrip('\\n').split(\",\")) - to remove new line charecter    \n",
        "    lexicons[record.rstrip('\\n').split(\",\")[0]] = int(record.rstrip('\\n').split(\",\")[1]) \n",
        "    \n",
        "#print(lexicons) \n",
        "#lexicons[\"abandon\"]\n"
      ],
      "execution_count": 0,
      "outputs": []
    },
    {
      "cell_type": "code",
      "metadata": {
        "id": "dvRM_67eHsL_",
        "colab_type": "code",
        "colab": {}
      },
      "source": [
        "#For each tweet \n",
        "#For each word in tweet \n",
        "#Get the word score (score is a numbe rif the word is in Lexicon, 0 if not) \n",
        "#Add all the scores and find the ploarity \n",
        "strength = [] \n",
        "for tweet in word_list:    \n",
        "  score = 0    \n",
        "  for word in tweet:        \n",
        "    if word in (lexicons):            \n",
        "      score = score + lexicons[word]    \n",
        "  strength.append(score)"
      ],
      "execution_count": 0,
      "outputs": []
    },
    {
      "cell_type": "code",
      "metadata": {
        "id": "L4njZZbGHsW3",
        "colab_type": "code",
        "colab": {
          "base_uri": "https://localhost:8080/",
          "height": 986
        },
        "outputId": "6edc16ea-bf17-4da8-c320-503ec9919794"
      },
      "source": [
        "strength\n"
      ],
      "execution_count": 64,
      "outputs": [
        {
          "output_type": "execute_result",
          "data": {
            "text/plain": [
              "[0,\n",
              " 0,\n",
              " 0,\n",
              " 2,\n",
              " 2,\n",
              " 2,\n",
              " 2,\n",
              " 2,\n",
              " 2,\n",
              " 2,\n",
              " 2,\n",
              " 2,\n",
              " 2,\n",
              " 2,\n",
              " 2,\n",
              " 2,\n",
              " 2,\n",
              " 2,\n",
              " 2,\n",
              " 2,\n",
              " 2,\n",
              " 0,\n",
              " 0,\n",
              " 0,\n",
              " 0,\n",
              " 0,\n",
              " 0,\n",
              " 0,\n",
              " 0,\n",
              " 0,\n",
              " 0,\n",
              " 0,\n",
              " 0,\n",
              " 0,\n",
              " 0,\n",
              " 0,\n",
              " 0,\n",
              " 0,\n",
              " 0,\n",
              " 0,\n",
              " 0,\n",
              " 0,\n",
              " 0,\n",
              " 0,\n",
              " 0,\n",
              " 0,\n",
              " 0,\n",
              " 0,\n",
              " 0,\n",
              " 0,\n",
              " 0,\n",
              " 0,\n",
              " 0,\n",
              " 0,\n",
              " 0,\n",
              " 0,\n",
              " 0]"
            ]
          },
          "metadata": {
            "tags": []
          },
          "execution_count": 64
        }
      ]
    },
    {
      "cell_type": "code",
      "metadata": {
        "id": "cbId1H_3HskG",
        "colab_type": "code",
        "colab": {
          "base_uri": "https://localhost:8080/",
          "height": 1000
        },
        "outputId": "979aec8b-0e96-44ff-c906-6e16cbded565"
      },
      "source": [
        "n = len(word_list) \n",
        "for index in range(n):    \n",
        "    print(word_list[index], strength[index]) \n",
        "#Add a new list with polarity and a list score\n"
      ],
      "execution_count": 65,
      "outputs": [
        {
          "output_type": "stream",
          "text": [
            "['tweet,category'] 0\n",
            "['not', 'available,negative'] 0\n",
            "['not', 'available,negative'] 0\n",
            "['ios', '9', 'app', 'transport', 'security.', 'mm', 'need', 'to', 'check', 'if', 'my', '3rd', 'party', 'network', 'pod', 'supports', 'it', 'http://t.co/fmtcfuadgj,neutral'] 2\n",
            "['ios', '9', 'app', 'transport', 'security.', 'mm', 'need', 'to', 'check', 'if', 'my', '3rd', 'party', 'network', 'pod', 'supports', 'it', 'http://t.co/fmtcfuadgj,neutral'] 2\n",
            "['ios', '9', 'app', 'transport', 'security.', 'mm', 'need', 'to', 'check', 'if', 'my', '3rd', 'party', 'network', 'pod', 'supports', 'it', 'http://t.co/fmtcfuadgj,neutral'] 2\n",
            "['ios', '9', 'app', 'transport', 'security.', 'mm', 'need', 'to', 'check', 'if', 'my', '3rd', 'party', 'network', 'pod', 'supports', 'it', 'http://t.co/fmtcfuadgj,neutral'] 2\n",
            "['ios', '9', 'app', 'transport', 'security.', 'mm', 'need', 'to', 'check', 'if', 'my', '3rd', 'party', 'network', 'pod', 'supports', 'it', 'http://t.co/fmtcfuadgj,neutral'] 2\n",
            "['ios', '9', 'app', 'transport', 'security.', 'mm', 'need', 'to', 'check', 'if', 'my', '3rd', 'party', 'network', 'pod', 'supports', 'it', 'http://t.co/fmtcfuadgj,neutral'] 2\n",
            "['ios', '9', 'app', 'transport', 'security.', 'mm', 'need', 'to', 'check', 'if', 'my', '3rd', 'party', 'network', 'pod', 'supports', 'it', 'http://t.co/fmtcfuadgj,neutral'] 2\n",
            "['ios', '9', 'app', 'transport', 'security.', 'mm', 'need', 'to', 'check', 'if', 'my', '3rd', 'party', 'network', 'pod', 'supports', 'it', 'http://t.co/fmtcfuadgj,neutral'] 2\n",
            "['ios', '9', 'app', 'transport', 'security.', 'mm', 'need', 'to', 'check', 'if', 'my', '3rd', 'party', 'network', 'pod', 'supports', 'it', 'http://t.co/fmtcfuadgj,neutral'] 2\n",
            "['ios', '9', 'app', 'transport', 'security.', 'mm', 'need', 'to', 'check', 'if', 'my', '3rd', 'party', 'network', 'pod', 'supports', 'it', 'http://t.co/fmtcfuadgj,neutral'] 2\n",
            "['ios', '9', 'app', 'transport', 'security.', 'mm', 'need', 'to', 'check', 'if', 'my', '3rd', 'party', 'network', 'pod', 'supports', 'it', 'http://t.co/fmtcfuadgj,neutral'] 2\n",
            "['ios', '9', 'app', 'transport', 'security.', 'mm', 'need', 'to', 'check', 'if', 'my', '3rd', 'party', 'network', 'pod', 'supports', 'it', 'http://t.co/fmtcfuadgj,neutral'] 2\n",
            "['ios', '9', 'app', 'transport', 'security.', 'mm', 'need', 'to', 'check', 'if', 'my', '3rd', 'party', 'network', 'pod', 'supports', 'it', 'http://t.co/fmtcfuadgj,neutral'] 2\n",
            "['ios', '9', 'app', 'transport', 'security.', 'mm', 'need', 'to', 'check', 'if', 'my', '3rd', 'party', 'network', 'pod', 'supports', 'it', 'http://t.co/fmtcfuadgj,neutral'] 2\n",
            "['ios', '9', 'app', 'transport', 'security.', 'mm', 'need', 'to', 'check', 'if', 'my', '3rd', 'party', 'network', 'pod', 'supports', 'it', 'http://t.co/fmtcfuadgj,neutral'] 2\n",
            "['ios', '9', 'app', 'transport', 'security.', 'mm', 'need', 'to', 'check', 'if', 'my', '3rd', 'party', 'network', 'pod', 'supports', 'it', 'http://t.co/fmtcfuadgj,neutral'] 2\n",
            "['ios', '9', 'app', 'transport', 'security.', 'mm', 'need', 'to', 'check', 'if', 'my', '3rd', 'party', 'network', 'pod', 'supports', 'it', 'http://t.co/fmtcfuadgj,neutral'] 2\n",
            "['ios', '9', 'app', 'transport', 'security.', 'mm', 'need', 'to', 'check', 'if', 'my', '3rd', 'party', 'network', 'pod', 'supports', 'it', 'http://t.co/fmtcfuadgj,neutral'] 2\n",
            "['\"mar', 'if', 'you', 'have', 'an', 'ios', 'device,', 'you', 'should', 'download', 'our', 'app', 'too:', 'http://t.co/gl3tn2udnd\",neutral'] 0\n",
            "['\"mar', 'if', 'you', 'have', 'an', 'ios', 'device,', 'you', 'should', 'download', 'our', 'app', 'too:', 'http://t.co/gl3tn2udnd\",neutral'] 0\n",
            "['\"mar', 'if', 'you', 'have', 'an', 'ios', 'device,', 'you', 'should', 'download', 'our', 'app', 'too:', 'http://t.co/gl3tn2udnd\",neutral'] 0\n",
            "['\"mar', 'if', 'you', 'have', 'an', 'ios', 'device,', 'you', 'should', 'download', 'our', 'app', 'too:', 'http://t.co/gl3tn2udnd\",neutral'] 0\n",
            "['\"mar', 'if', 'you', 'have', 'an', 'ios', 'device,', 'you', 'should', 'download', 'our', 'app', 'too:', 'http://t.co/gl3tn2udnd\",neutral'] 0\n",
            "['\"mar', 'if', 'you', 'have', 'an', 'ios', 'device,', 'you', 'should', 'download', 'our', 'app', 'too:', 'http://t.co/gl3tn2udnd\",neutral'] 0\n",
            "['\"mar', 'if', 'you', 'have', 'an', 'ios', 'device,', 'you', 'should', 'download', 'our', 'app', 'too:', 'http://t.co/gl3tn2udnd\",neutral'] 0\n",
            "['\"mar', 'if', 'you', 'have', 'an', 'ios', 'device,', 'you', 'should', 'download', 'our', 'app', 'too:', 'http://t.co/gl3tn2udnd\",neutral'] 0\n",
            "['\"mar', 'if', 'you', 'have', 'an', 'ios', 'device,', 'you', 'should', 'download', 'our', 'app', 'too:', 'http://t.co/gl3tn2udnd\",neutral'] 0\n",
            "['\"mar', 'if', 'you', 'have', 'an', 'ios', 'device,', 'you', 'should', 'download', 'our', 'app', 'too:', 'http://t.co/gl3tn2udnd\",neutral'] 0\n",
            "['\"mar', 'if', 'you', 'have', 'an', 'ios', 'device,', 'you', 'should', 'download', 'our', 'app', 'too:', 'http://t.co/gl3tn2udnd\",neutral'] 0\n",
            "['\"mar', 'if', 'you', 'have', 'an', 'ios', 'device,', 'you', 'should', 'download', 'our', 'app', 'too:', 'http://t.co/gl3tn2udnd\",neutral'] 0\n",
            "['\"mar', 'if', 'you', 'have', 'an', 'ios', 'device,', 'you', 'should', 'download', 'our', 'app', 'too:', 'http://t.co/gl3tn2udnd\",neutral'] 0\n",
            "['\"mar', 'if', 'you', 'have', 'an', 'ios', 'device,', 'you', 'should', 'download', 'our', 'app', 'too:', 'http://t.co/gl3tn2udnd\",neutral'] 0\n",
            "['@jimmie_vanagon', 'my', 'phone', 'does', 'not', 'run', 'on', 'latest', 'ios', 'which', 'may', 'account', 'for', 'problem', 'the', 'other', 'day', '..', 'time', 'it', 'was', 'replaced,negative'] 0\n",
            "['@jimmie_vanagon', 'my', 'phone', 'does', 'not', 'run', 'on', 'latest', 'ios', 'which', 'may', 'account', 'for', 'problem', 'the', 'other', 'day', '..', 'time', 'it', 'was', 'replaced,negative'] 0\n",
            "['@jimmie_vanagon', 'my', 'phone', 'does', 'not', 'run', 'on', 'latest', 'ios', 'which', 'may', 'account', 'for', 'problem', 'the', 'other', 'day', '..', 'time', 'it', 'was', 'replaced,negative'] 0\n",
            "['@jimmie_vanagon', 'my', 'phone', 'does', 'not', 'run', 'on', 'latest', 'ios', 'which', 'may', 'account', 'for', 'problem', 'the', 'other', 'day', '..', 'time', 'it', 'was', 'replaced,negative'] 0\n",
            "['@jimmie_vanagon', 'my', 'phone', 'does', 'not', 'run', 'on', 'latest', 'ios', 'which', 'may', 'account', 'for', 'problem', 'the', 'other', 'day', '..', 'time', 'it', 'was', 'replaced,negative'] 0\n",
            "['@jimmie_vanagon', 'my', 'phone', 'does', 'not', 'run', 'on', 'latest', 'ios', 'which', 'may', 'account', 'for', 'problem', 'the', 'other', 'day', '..', 'time', 'it', 'was', 'replaced,negative'] 0\n",
            "['@jimmie_vanagon', 'my', 'phone', 'does', 'not', 'run', 'on', 'latest', 'ios', 'which', 'may', 'account', 'for', 'problem', 'the', 'other', 'day', '..', 'time', 'it', 'was', 'replaced,negative'] 0\n",
            "['@jimmie_vanagon', 'my', 'phone', 'does', 'not', 'run', 'on', 'latest', 'ios', 'which', 'may', 'account', 'for', 'problem', 'the', 'other', 'day', '..', 'time', 'it', 'was', 'replaced,negative'] 0\n",
            "['@jimmie_vanagon', 'my', 'phone', 'does', 'not', 'run', 'on', 'latest', 'ios', 'which', 'may', 'account', 'for', 'problem', 'the', 'other', 'day', '..', 'time', 'it', 'was', 'replaced,negative'] 0\n",
            "['@jimmie_vanagon', 'my', 'phone', 'does', 'not', 'run', 'on', 'latest', 'ios', 'which', 'may', 'account', 'for', 'problem', 'the', 'other', 'day', '..', 'time', 'it', 'was', 'replaced,negative'] 0\n",
            "['@jimmie_vanagon', 'my', 'phone', 'does', 'not', 'run', 'on', 'latest', 'ios', 'which', 'may', 'account', 'for', 'problem', 'the', 'other', 'day', '..', 'time', 'it', 'was', 'replaced,negative'] 0\n",
            "['@jimmie_vanagon', 'my', 'phone', 'does', 'not', 'run', 'on', 'latest', 'ios', 'which', 'may', 'account', 'for', 'problem', 'the', 'other', 'day', '..', 'time', 'it', 'was', 'replaced,negative'] 0\n",
            "['@jimmie_vanagon', 'my', 'phone', 'does', 'not', 'run', 'on', 'latest', 'ios', 'which', 'may', 'account', 'for', 'problem', 'the', 'other', 'day', '..', 'time', 'it', 'was', 'replaced,negative'] 0\n",
            "['@jimmie_vanagon', 'my', 'phone', 'does', 'not', 'run', 'on', 'latest', 'ios', 'which', 'may', 'account', 'for', 'problem', 'the', 'other', 'day', '..', 'time', 'it', 'was', 'replaced,negative'] 0\n",
            "['@jimmie_vanagon', 'my', 'phone', 'does', 'not', 'run', 'on', 'latest', 'ios', 'which', 'may', 'account', 'for', 'problem', 'the', 'other', 'day', '..', 'time', 'it', 'was', 'replaced,negative'] 0\n",
            "['@jimmie_vanagon', 'my', 'phone', 'does', 'not', 'run', 'on', 'latest', 'ios', 'which', 'may', 'account', 'for', 'problem', 'the', 'other', 'day', '..', 'time', 'it', 'was', 'replaced,negative'] 0\n",
            "['@jimmie_vanagon', 'my', 'phone', 'does', 'not', 'run', 'on', 'latest', 'ios', 'which', 'may', 'account', 'for', 'problem', 'the', 'other', 'day', '..', 'time', 'it', 'was', 'replaced,negative'] 0\n",
            "['@jimmie_vanagon', 'my', 'phone', 'does', 'not', 'run', 'on', 'latest', 'ios', 'which', 'may', 'account', 'for', 'problem', 'the', 'other', 'day', '..', 'time', 'it', 'was', 'replaced,negative'] 0\n",
            "['@jimmie_vanagon', 'my', 'phone', 'does', 'not', 'run', 'on', 'latest', 'ios', 'which', 'may', 'account', 'for', 'problem', 'the', 'other', 'day', '..', 'time', 'it', 'was', 'replaced,negative'] 0\n",
            "['@jimmie_vanagon', 'my', 'phone', 'does', 'not', 'run', 'on', 'latest', 'ios', 'which', 'may', 'account', 'for', 'problem', 'the', 'other', 'day', '..', 'time', 'it', 'was', 'replaced,negative'] 0\n",
            "['@jimmie_vanagon', 'my', 'phone', 'does', 'not', 'run', 'on', 'latest', 'ios', 'which', 'may', 'account', 'for', 'problem', 'the', 'other', 'day', '..', 'time', 'it', 'was', 'replaced,negative'] 0\n",
            "['@jimmie_vanagon', 'my', 'phone', 'does', 'not', 'run', 'on', 'latest', 'ios', 'which', 'may', 'account', 'for', 'problem', 'the', 'other', 'day', '..', 'time', 'it', 'was', 'replaced,negative'] 0\n"
          ],
          "name": "stdout"
        }
      ]
    },
    {
      "cell_type": "code",
      "metadata": {
        "id": "PaF_Bd8QLNDo",
        "colab_type": "code",
        "colab": {}
      },
      "source": [
        "#Visualize the ploarity frequency \n",
        "#Print scored words for each tweet\n"
      ],
      "execution_count": 0,
      "outputs": []
    },
    {
      "cell_type": "code",
      "metadata": {
        "id": "59vbkMRcLNVX",
        "colab_type": "code",
        "colab": {}
      },
      "source": [
        ""
      ],
      "execution_count": 0,
      "outputs": []
    },
    {
      "cell_type": "code",
      "metadata": {
        "id": "tpGdQOCsLNed",
        "colab_type": "code",
        "colab": {}
      },
      "source": [
        ""
      ],
      "execution_count": 0,
      "outputs": []
    },
    {
      "cell_type": "code",
      "metadata": {
        "id": "1LXczhB1LNkl",
        "colab_type": "code",
        "colab": {}
      },
      "source": [
        ""
      ],
      "execution_count": 0,
      "outputs": []
    },
    {
      "cell_type": "code",
      "metadata": {
        "id": "qveHWZL1LNx_",
        "colab_type": "code",
        "colab": {}
      },
      "source": [
        ""
      ],
      "execution_count": 0,
      "outputs": []
    },
    {
      "cell_type": "code",
      "metadata": {
        "id": "pnFCNorPLN-m",
        "colab_type": "code",
        "colab": {}
      },
      "source": [
        ""
      ],
      "execution_count": 0,
      "outputs": []
    },
    {
      "cell_type": "code",
      "metadata": {
        "id": "a_aX-rT6LNuc",
        "colab_type": "code",
        "colab": {}
      },
      "source": [
        ""
      ],
      "execution_count": 0,
      "outputs": []
    },
    {
      "cell_type": "code",
      "metadata": {
        "id": "yZNwvF_5LNqj",
        "colab_type": "code",
        "colab": {}
      },
      "source": [
        ""
      ],
      "execution_count": 0,
      "outputs": []
    },
    {
      "cell_type": "code",
      "metadata": {
        "id": "jipS3tAULNSh",
        "colab_type": "code",
        "colab": {}
      },
      "source": [
        ""
      ],
      "execution_count": 0,
      "outputs": []
    },
    {
      "cell_type": "code",
      "metadata": {
        "id": "93-A8FhYLNAu",
        "colab_type": "code",
        "colab": {}
      },
      "source": [
        ""
      ],
      "execution_count": 0,
      "outputs": []
    },
    {
      "cell_type": "code",
      "metadata": {
        "id": "WNYyIULmLM9i",
        "colab_type": "code",
        "colab": {}
      },
      "source": [
        ""
      ],
      "execution_count": 0,
      "outputs": []
    },
    {
      "cell_type": "code",
      "metadata": {
        "id": "Ee3SS1OuLM6n",
        "colab_type": "code",
        "colab": {}
      },
      "source": [
        ""
      ],
      "execution_count": 0,
      "outputs": []
    },
    {
      "cell_type": "code",
      "metadata": {
        "id": "17KSh9-rLM3y",
        "colab_type": "code",
        "colab": {}
      },
      "source": [
        ""
      ],
      "execution_count": 0,
      "outputs": []
    },
    {
      "cell_type": "code",
      "metadata": {
        "id": "mJdbpY5wLM06",
        "colab_type": "code",
        "colab": {}
      },
      "source": [
        ""
      ],
      "execution_count": 0,
      "outputs": []
    },
    {
      "cell_type": "code",
      "metadata": {
        "id": "3zsx1yaQLMyA",
        "colab_type": "code",
        "colab": {}
      },
      "source": [
        ""
      ],
      "execution_count": 0,
      "outputs": []
    },
    {
      "cell_type": "code",
      "metadata": {
        "id": "NeKQrcoqLMuu",
        "colab_type": "code",
        "colab": {}
      },
      "source": [
        ""
      ],
      "execution_count": 0,
      "outputs": []
    },
    {
      "cell_type": "code",
      "metadata": {
        "id": "MsuvVEaVLMr0",
        "colab_type": "code",
        "colab": {}
      },
      "source": [
        ""
      ],
      "execution_count": 0,
      "outputs": []
    },
    {
      "cell_type": "code",
      "metadata": {
        "id": "j-JNQPEvLMoM",
        "colab_type": "code",
        "colab": {}
      },
      "source": [
        ""
      ],
      "execution_count": 0,
      "outputs": []
    },
    {
      "cell_type": "code",
      "metadata": {
        "id": "9W_KX-auLMkV",
        "colab_type": "code",
        "colab": {}
      },
      "source": [
        ""
      ],
      "execution_count": 0,
      "outputs": []
    },
    {
      "cell_type": "code",
      "metadata": {
        "id": "i_wrZMGRLMf4",
        "colab_type": "code",
        "colab": {}
      },
      "source": [
        ""
      ],
      "execution_count": 0,
      "outputs": []
    },
    {
      "cell_type": "code",
      "metadata": {
        "id": "vv7qwW_NLMb0",
        "colab_type": "code",
        "colab": {}
      },
      "source": [
        ""
      ],
      "execution_count": 0,
      "outputs": []
    },
    {
      "cell_type": "code",
      "metadata": {
        "id": "sF4vi-SzHsvp",
        "colab_type": "code",
        "colab": {}
      },
      "source": [
        ""
      ],
      "execution_count": 0,
      "outputs": []
    },
    {
      "cell_type": "code",
      "metadata": {
        "id": "aMKr4aX7Hsso",
        "colab_type": "code",
        "colab": {}
      },
      "source": [
        ""
      ],
      "execution_count": 0,
      "outputs": []
    },
    {
      "cell_type": "code",
      "metadata": {
        "id": "ksKAHAdvHsg8",
        "colab_type": "code",
        "colab": {}
      },
      "source": [
        ""
      ],
      "execution_count": 0,
      "outputs": []
    },
    {
      "cell_type": "code",
      "metadata": {
        "id": "gkBPSLIjHsUF",
        "colab_type": "code",
        "colab": {}
      },
      "source": [
        ""
      ],
      "execution_count": 0,
      "outputs": []
    },
    {
      "cell_type": "code",
      "metadata": {
        "id": "myyvyJjBHsI-",
        "colab_type": "code",
        "colab": {}
      },
      "source": [
        ""
      ],
      "execution_count": 0,
      "outputs": []
    },
    {
      "cell_type": "code",
      "metadata": {
        "id": "XTniukuRHsF0",
        "colab_type": "code",
        "colab": {}
      },
      "source": [
        ""
      ],
      "execution_count": 0,
      "outputs": []
    },
    {
      "cell_type": "code",
      "metadata": {
        "id": "eMIxcpIAHr7e",
        "colab_type": "code",
        "colab": {}
      },
      "source": [
        ""
      ],
      "execution_count": 0,
      "outputs": []
    },
    {
      "cell_type": "code",
      "metadata": {
        "id": "mCftSkNgHr41",
        "colab_type": "code",
        "colab": {}
      },
      "source": [
        ""
      ],
      "execution_count": 0,
      "outputs": []
    },
    {
      "cell_type": "code",
      "metadata": {
        "id": "iOs-PHGaHr2C",
        "colab_type": "code",
        "colab": {}
      },
      "source": [
        ""
      ],
      "execution_count": 0,
      "outputs": []
    },
    {
      "cell_type": "code",
      "metadata": {
        "id": "-QTIT9l0Hry6",
        "colab_type": "code",
        "colab": {}
      },
      "source": [
        ""
      ],
      "execution_count": 0,
      "outputs": []
    },
    {
      "cell_type": "code",
      "metadata": {
        "id": "2aSsRT2_HrwX",
        "colab_type": "code",
        "colab": {}
      },
      "source": [
        ""
      ],
      "execution_count": 0,
      "outputs": []
    },
    {
      "cell_type": "code",
      "metadata": {
        "id": "SQVFVLjEHrtN",
        "colab_type": "code",
        "colab": {}
      },
      "source": [
        ""
      ],
      "execution_count": 0,
      "outputs": []
    },
    {
      "cell_type": "code",
      "metadata": {
        "id": "11mAmNujHrpm",
        "colab_type": "code",
        "colab": {}
      },
      "source": [
        ""
      ],
      "execution_count": 0,
      "outputs": []
    },
    {
      "cell_type": "code",
      "metadata": {
        "id": "DxiFbVbV-RjU",
        "colab_type": "code",
        "colab": {}
      },
      "source": [
        ""
      ],
      "execution_count": 0,
      "outputs": []
    },
    {
      "cell_type": "code",
      "metadata": {
        "id": "IH0dRF659T2A",
        "colab_type": "code",
        "colab": {}
      },
      "source": [
        ""
      ],
      "execution_count": 0,
      "outputs": []
    },
    {
      "cell_type": "code",
      "metadata": {
        "id": "QqE8aoCG9Txi",
        "colab_type": "code",
        "colab": {}
      },
      "source": [
        ""
      ],
      "execution_count": 0,
      "outputs": []
    },
    {
      "cell_type": "code",
      "metadata": {
        "id": "g05FMf8V7-g8",
        "colab_type": "code",
        "colab": {}
      },
      "source": [
        ""
      ],
      "execution_count": 0,
      "outputs": []
    },
    {
      "cell_type": "code",
      "metadata": {
        "id": "R4KRCh0e7-b9",
        "colab_type": "code",
        "colab": {}
      },
      "source": [
        ""
      ],
      "execution_count": 0,
      "outputs": []
    }
  ]
}